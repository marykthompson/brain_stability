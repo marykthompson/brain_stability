{
 "cells": [
  {
   "cell_type": "markdown",
   "id": "d6db0417-5541-40fa-99b5-3d0fac284eb0",
   "metadata": {},
   "source": [
    "##### Motifs genesets\n",
    "- Prepare tables to feed Transite and looking at conservation of UTR sites"
   ]
  },
  {
   "cell_type": "code",
   "execution_count": null,
   "id": "0e678b59",
   "metadata": {},
   "outputs": [],
   "source": [
    "#Imports\n",
    "import sys\n",
    "import os\n",
    "import pandas as pd\n",
    "import seaborn as sns\n",
    "import numpy as np\n",
    "import math\n",
    "import scipy.stats as stats\n",
    "from collections import defaultdict\n",
    "import pickle\n",
    "from itertools import chain, combinations\n",
    "import gffutils\n",
    "import re\n",
    "from copy import copy\n",
    "\n",
    "sys.path.append('../scripts')\n",
    "from plot_helpers import *\n",
    "from annotation_utilities import *\n",
    "from plotting_fxns import PrettyBox\n",
    "from utilities import load_dataset\n",
    "\n",
    "db = gffutils.FeatureDB(gffutils_db)\n",
    "\n",
    "%load_ext autoreload\n",
    "%autoreload 2"
   ]
  },
  {
   "cell_type": "code",
   "execution_count": null,
   "id": "4fa23c54",
   "metadata": {},
   "outputs": [],
   "source": [
    "outdir = '../Figures/Motifs'\n",
    "os.makedirs(outdir, exist_ok = True)"
   ]
  },
  {
   "cell_type": "code",
   "execution_count": null,
   "id": "52e7becb",
   "metadata": {},
   "outputs": [],
   "source": [
    "# Load the data that includes the TF data\n",
    "me_df = pd.read_csv('../Figures/Devreg/gene_cat_me3.csv', index_col='gene')\n",
    "me_df['me3_target'] = me_df['category'] == 'updowngene'"
   ]
  },
  {
   "cell_type": "code",
   "execution_count": null,
   "id": "709e1997",
   "metadata": {},
   "outputs": [],
   "source": [
    "# Get the set of coding genes:\n",
    "coding_genes = set()\n",
    "allgenes = db.features_of_type('gene')\n",
    "i = 0\n",
    "for g in allgenes:\n",
    "    try:\n",
    "        if g.attributes['gene_biotype'] == ['protein_coding']:\n",
    "            coding_genes.add(g.id)\n",
    "            i+=1\n",
    "    except KeyError:\n",
    "        continue\n",
    "print('num coding', i)"
   ]
  },
  {
   "cell_type": "code",
   "execution_count": null,
   "id": "fe768491",
   "metadata": {},
   "outputs": [],
   "source": [
    "coding_df = me_df.loc[me_df.index.isin(coding_genes)].copy()\n",
    "num_coding_genes = len(coding_df)\n",
    "# Get the top 5% most unstable coding genes\n",
    "percent = 5\n",
    "ngenes = num_coding_genes*(percent/100)\n",
    "most_unstable = coding_df.sort_values(by='deg_rate', ascending=False).head(round(ngenes))\n",
    "most_unstable.reset_index()['gene'].to_csv(os.path.join(outdir, f'unstable_{percent}perc.csv'), index=False)\n",
    "# Bg set should be sorted in ascending signal to noise ratio (genes upregulated in treatment are at the end of the list)\n",
    "# This bg file is also sorted from most->least stable so that it can be used for a GSEA-like analysis\n",
    "coding_df.sort_values(by='deg_rate').reset_index()['gene'].to_csv(os.path.join(outdir, 'bg_genes.csv'), index=False)"
   ]
  },
  {
   "cell_type": "code",
   "execution_count": null,
   "id": "a998058c",
   "metadata": {},
   "outputs": [],
   "source": [
    "# Write the CTS TFs to a file\n",
    "coding_df.query('TF & CTS').reset_index()['gene'].to_csv(os.path.join(outdir, 'CTS_TF_genes.csv'), index=False)"
   ]
  }
 ],
 "metadata": {
  "kernelspec": {
   "display_name": "Python 3.9.13 ('pretty')",
   "language": "python",
   "name": "python3"
  },
  "language_info": {
   "codemirror_mode": {
    "name": "ipython",
    "version": 3
   },
   "file_extension": ".py",
   "mimetype": "text/x-python",
   "name": "python",
   "nbconvert_exporter": "python",
   "pygments_lexer": "ipython3",
   "version": "3.9.13"
  },
  "vscode": {
   "interpreter": {
    "hash": "bdb49103a4ed208a05ea4530afbe53462c06fafea10c7833b005d674746fdb08"
   }
  }
 },
 "nbformat": 4,
 "nbformat_minor": 5
}
