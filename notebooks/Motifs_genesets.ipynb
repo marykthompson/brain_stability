{
 "cells": [
  {
   "cell_type": "markdown",
   "id": "d6db0417-5541-40fa-99b5-3d0fac284eb0",
   "metadata": {},
   "source": [
    "##### Motifs genesets\n",
    "- Prepare tables to feed Transite and looking at conservation of UTR sites"
   ]
  },
  {
   "cell_type": "code",
   "execution_count": null,
   "id": "0e678b59",
   "metadata": {},
   "outputs": [],
   "source": [
    "#Imports\n",
    "import sys\n",
    "import os\n",
    "import pandas as pd\n",
    "import seaborn as sns\n",
    "import numpy as np\n",
    "import math\n",
    "import scipy.stats as stats\n",
    "from collections import defaultdict\n",
    "import pickle\n",
    "from itertools import chain, combinations\n",
    "import gffutils\n",
    "import re\n",
    "from copy import copy\n",
    "\n",
    "sys.path.append('../scripts')\n",
    "from plot_helpers import *\n",
    "from annotation_utilities import *\n",
    "from plotting_fxns import PrettyBox\n",
    "from utilities import load_dataset\n",
    "\n",
    "db = gffutils.FeatureDB(gffutils_db)\n",
    "\n",
    "%load_ext autoreload\n",
    "%autoreload 2"
   ]
  },
  {
   "cell_type": "code",
   "execution_count": null,
   "id": "4fa23c54",
   "metadata": {},
   "outputs": [],
   "source": [
    "outdir = '../Figures/Motifs'\n",
    "os.makedirs(outdir, exist_ok = True)"
   ]
  },
  {
   "cell_type": "code",
   "execution_count": null,
   "id": "52e7becb",
   "metadata": {},
   "outputs": [],
   "source": [
    "# Load the data that includes the TF data\n",
    "me_df = pd.read_csv('../Figures/Devreg/gene_cat_me3.csv', index_col='gene')\n",
    "me_df['me3_target'] = me_df['category'] == 'updowngene'"
   ]
  },
  {
   "cell_type": "code",
   "execution_count": null,
   "id": "709e1997",
   "metadata": {},
   "outputs": [],
   "source": [
    "# Get the set of coding genes:\n",
    "coding_genes = set()\n",
    "allgenes = db.features_of_type('gene')\n",
    "i = 0\n",
    "for g in allgenes:\n",
    "    try:\n",
    "        if g.attributes['gene_biotype'] == ['protein_coding']:\n",
    "            coding_genes.add(g.id)\n",
    "            i+=1\n",
    "    except KeyError:\n",
    "        continue\n",
    "print('num coding', i)"
   ]
  },
  {
   "cell_type": "code",
   "execution_count": null,
   "id": "fe768491",
   "metadata": {},
   "outputs": [],
   "source": [
    "coding_df = me_df.loc[me_df.index.isin(coding_genes)].copy()\n",
    "num_coding_genes = len(coding_df)\n",
    "# Get the top 5% most unstable coding genes\n",
    "percent = 5\n",
    "ngenes = num_coding_genes*(percent/100)\n",
    "most_unstable = coding_df.sort_values(by='deg_rate', ascending=False).head(round(ngenes))\n",
    "most_unstable.reset_index()['gene'].to_csv(os.path.join(outdir, f'unstable_{percent}perc.csv'), index=False)\n",
    "# Bg set should be sorted in ascending signal to noise ratio (genes upregulated in treatment are at the end of the list)\n",
    "# This bg file is also sorted from most->least stable so that it can be used for a GSEA-like analysis\n",
    "coding_df.sort_values(by='deg_rate').reset_index()['gene'].to_csv(os.path.join(outdir, 'bg_genes.csv'), index=False)"
   ]
  },
  {
   "cell_type": "code",
   "execution_count": null,
   "id": "a998058c",
   "metadata": {},
   "outputs": [],
   "source": [
    "# Write the CTS TFs to a file\n",
    "coding_df.query('TF & CTS').reset_index()['gene'].to_csv(os.path.join(outdir, 'CTS_TF_genes.csv'), index=False)"
   ]
  },
  {
   "cell_type": "code",
   "execution_count": null,
   "id": "87189808",
   "metadata": {},
   "outputs": [],
   "source": [
    "# Look at the 3'UTR length of the CTS TFs. I think based on this analysis that they might actually be super long\n",
    "cts_tfs = coding_df.query('TF & CTS').index"
   ]
  },
  {
   "cell_type": "code",
   "execution_count": null,
   "id": "1bfcf656",
   "metadata": {},
   "outputs": [],
   "source": [
    "from pyfaidx import Fasta\n",
    "three_fafile = '/Users/mk/Desktop/Davislab_old/3.4_NMJ_4Tu_4sU/3.4e_pipeline_dev/nmj_figures/resources/region_fastas/longest_threeprime.fa'\n",
    "three_txts = Fasta(three_fafile)\n",
    "five_fafile = '/Users/mk/Desktop/Davislab_old/3.4_NMJ_4Tu_4sU/3.4e_pipeline_dev/nmj_figures/resources/region_fastas/longest_fiveprime.fa'\n",
    "five_txts = Fasta(five_fafile)\n",
    "cds_fafile = '/Users/mk/Desktop/Davislab_old/3.4_NMJ_4Tu_4sU/3.4e_pipeline_dev/nmj_figures/resources/region_fastas/longest_cds.fa'\n",
    "cds_txts = Fasta(cds_fafile)"
   ]
  },
  {
   "cell_type": "code",
   "execution_count": null,
   "id": "1ec5bf6b",
   "metadata": {},
   "outputs": [],
   "source": [
    "coding_df['3pUTR_len'] = coding_df.index.map(lambda x: len(three_txts[x]) if x in three_txts else np.nan)\n",
    "coding_df['5pUTR_len'] = coding_df.index.map(lambda x: len(five_txts[x]) if x in five_txts else np.nan)\n",
    "coding_df['CDS_len'] = coding_df.index.map(lambda x: len(cds_txts[x]) if x in five_txts else np.nan)\n",
    "coding_df['3pUTR_log'] = coding_df['3pUTR_len'].apply(np.log10)\n",
    "coding_df['5pUTR_log'] = coding_df['5pUTR_len'].apply(np.log10)\n",
    "coding_df['CDS_log'] = coding_df['CDS_len'].apply(np.log10)"
   ]
  },
  {
   "cell_type": "code",
   "execution_count": null,
   "id": "aa12a060",
   "metadata": {},
   "outputs": [],
   "source": [
    "print('len 3pUTR overall', coding_df['3pUTR_len'].median())\n",
    "print('len 3pUTR CTS_TF', coding_df.query('CTS_TF')['3pUTR_len'].median())\n",
    "print('len 3pUTR TF', coding_df.query('TF')['3pUTR_len'].median())"
   ]
  },
  {
   "cell_type": "code",
   "execution_count": null,
   "id": "f88aaddb",
   "metadata": {},
   "outputs": [],
   "source": [
    "print('len 5pUTR overall', coding_df['5pUTR_len'].median())\n",
    "print('len 5pUTR CTS_TF', coding_df.query('CTS_TF')['5pUTR_len'].median())\n",
    "print('len 5pUTR TF', coding_df.query('TF')['5pUTR_len'].median())"
   ]
  },
  {
   "cell_type": "code",
   "execution_count": null,
   "id": "fa5420c1",
   "metadata": {},
   "outputs": [],
   "source": [
    "print('len 5pUTR overall', coding_df['CDS_len'].median())\n",
    "print('len 5pUTR CTS_TF', coding_df.query('CTS_TF')['CDS_len'].median())\n",
    "print('len 5pUTR TF', coding_df.query('TF')['CDS_len'].median())"
   ]
  },
  {
   "cell_type": "code",
   "execution_count": null,
   "id": "c366902c",
   "metadata": {},
   "outputs": [],
   "source": [
    "outdir2 = '../Figures/Reg/Features'\n",
    "os.makedirs(outdir2, exist_ok=True)"
   ]
  },
  {
   "cell_type": "code",
   "execution_count": null,
   "id": "68e97ddb",
   "metadata": {},
   "outputs": [],
   "source": [
    "# Write the lengths to a file:\n",
    "coding_df[['5pUTR_len', '3pUTR_len', 'CDS_len']].to_csv()"
   ]
  },
  {
   "cell_type": "code",
   "execution_count": null,
   "id": "4cd9f45d",
   "metadata": {},
   "outputs": [],
   "source": [
    "coding_df.head()"
   ]
  },
  {
   "cell_type": "code",
   "execution_count": null,
   "id": "034920fe",
   "metadata": {},
   "outputs": [],
   "source": [
    "coding_df['CTS_TF'] = coding_df['CTS'] & coding_df['TF']\n",
    "ax = sns.boxplot(data=coding_df, x='CTS_TF', y='3pUTR_log')"
   ]
  },
  {
   "cell_type": "code",
   "execution_count": null,
   "id": "53fe1584",
   "metadata": {},
   "outputs": [],
   "source": [
    "coding_df['CTS_TF'] = coding_df['CTS'] & coding_df['TF']\n",
    "ax = sns.boxplot(data=coding_df, x='CTS_TF', y='5pUTR_log')"
   ]
  },
  {
   "cell_type": "code",
   "execution_count": null,
   "id": "9994d799",
   "metadata": {},
   "outputs": [],
   "source": [
    "coding_df['CTS_TF'] = coding_df['CTS'] & coding_df['TF']\n",
    "ax = sns.boxplot(data=coding_df, x='CTS_TF', y='CDS_log')"
   ]
  },
  {
   "cell_type": "code",
   "execution_count": null,
   "id": "7cb51f55",
   "metadata": {},
   "outputs": [],
   "source": [
    "txts"
   ]
  },
  {
   "cell_type": "code",
   "execution_count": null,
   "id": "30562aa2",
   "metadata": {},
   "outputs": [],
   "source": [
    "len(txts[cts_tfs[0]])"
   ]
  },
  {
   "cell_type": "code",
   "execution_count": null,
   "id": "a04aa028",
   "metadata": {},
   "outputs": [],
   "source": [
    "cts_tfs"
   ]
  },
  {
   "cell_type": "code",
   "execution_count": null,
   "id": "5cfbd98d",
   "metadata": {},
   "outputs": [],
   "source": [
    "# There's actually a fair number of genes that have deg_rate = 0, and they are therefore randomly ordered in the list. Not sure if this is good.\n",
    "test = pd.read_csv(os.path.join(outdir, 'bg_genes.csv'))\n",
    "test.tail()"
   ]
  },
  {
   "cell_type": "code",
   "execution_count": null,
   "id": "d5db7f3f",
   "metadata": {},
   "outputs": [],
   "source": [
    "coding_df.sort_values(by='deg_rate').head()"
   ]
  },
  {
   "cell_type": "code",
   "execution_count": null,
   "id": "c60fad16",
   "metadata": {},
   "outputs": [],
   "source": [
    "df = pd.read_csv('../Figures/Motifs/bg_genes.csv')"
   ]
  },
  {
   "cell_type": "code",
   "execution_count": null,
   "id": "4f8d7047",
   "metadata": {},
   "outputs": [],
   "source": [
    "i = 'FBgn0020618'\n",
    "coding_df.loc[i]"
   ]
  },
  {
   "cell_type": "code",
   "execution_count": null,
   "id": "34d91fef",
   "metadata": {},
   "outputs": [],
   "source": [
    "df.head(n=100)"
   ]
  },
  {
   "cell_type": "code",
   "execution_count": null,
   "id": "cb62a01d",
   "metadata": {},
   "outputs": [],
   "source": [
    "coding_df.loc['FBgn0051606']"
   ]
  },
  {
   "cell_type": "code",
   "execution_count": null,
   "id": "8b92eb53",
   "metadata": {},
   "outputs": [],
   "source": [
    "df2.head()"
   ]
  }
 ],
 "metadata": {
  "kernelspec": {
   "display_name": "Python 3.9.13 ('pretty')",
   "language": "python",
   "name": "python3"
  },
  "language_info": {
   "codemirror_mode": {
    "name": "ipython",
    "version": 3
   },
   "file_extension": ".py",
   "mimetype": "text/x-python",
   "name": "python",
   "nbconvert_exporter": "python",
   "pygments_lexer": "ipython3",
   "version": "3.9.13"
  },
  "vscode": {
   "interpreter": {
    "hash": "bdb49103a4ed208a05ea4530afbe53462c06fafea10c7833b005d674746fdb08"
   }
  }
 },
 "nbformat": 4,
 "nbformat_minor": 5
}
