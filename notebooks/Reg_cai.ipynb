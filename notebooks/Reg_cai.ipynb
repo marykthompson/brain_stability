{
 "cells": [
  {
   "cell_type": "markdown",
   "id": "secondary-hundred",
   "metadata": {},
   "source": [
    "#### Reg CAI\n",
    "- look at the relationship between CAI and stability for all genes and for CTS TFs"
   ]
  },
  {
   "cell_type": "code",
   "execution_count": null,
   "id": "interpreted-characteristic",
   "metadata": {},
   "outputs": [],
   "source": [
    "#Imports\n",
    "import sys\n",
    "import os\n",
    "import pandas as pd\n",
    "import seaborn as sns\n",
    "import numpy as np\n",
    "import pickle\n",
    "\n",
    "sys.path.append('../scripts')\n",
    "from plot_helpers import *\n",
    "from annotation_utilities import *\n",
    "from utilities import load_dataset\n",
    "from plotting_fxns import PrettyBox\n",
    "\n",
    "%load_ext autoreload\n",
    "%autoreload 2"
   ]
  },
  {
   "cell_type": "code",
   "execution_count": null,
   "id": "agreed-notice",
   "metadata": {},
   "outputs": [],
   "source": [
    "outdir = '../Figures/Reg'\n",
    "os.makedirs(outdir, exist_ok=True)"
   ]
  },
  {
   "cell_type": "code",
   "execution_count": null,
   "id": "ruled-frost",
   "metadata": {},
   "outputs": [],
   "source": [
    "#Load stability data\n",
    "rate_df = load_dataset('../Figures/summary_files/INSPEcT_rates.csv', '../Figures/summary_files/brain4sU_passed.csv')"
   ]
  },
  {
   "cell_type": "code",
   "execution_count": null,
   "id": "remarkable-blogger",
   "metadata": {},
   "outputs": [],
   "source": [
    "CAI_file = '../../gene_attributes/CAI/CAI_values.csv'\n",
    "cai_df = pd.read_csv(CAI_file, index_col='gene')"
   ]
  },
  {
   "cell_type": "code",
   "execution_count": null,
   "id": "oriental-handle",
   "metadata": {},
   "outputs": [],
   "source": [
    "rate_df['CAI'] = cai_df['CAI_hiexp']"
   ]
  },
  {
   "cell_type": "code",
   "execution_count": null,
   "id": "dynamic-wrong",
   "metadata": {},
   "outputs": [],
   "source": [
    "#Plot degradation rate vs. CAI\n",
    "#I've clipped off a few of the really low degradation rate RNAs\n",
    "#Should maybe set the lowest ones with halflife of 500 min to min deg rate to avoid issue\n",
    "fig = plt.figure(figsize=(dfig,dfig), constrained_layout=True)\n",
    "ax = fig.add_subplot(111)\n",
    "ax = sns.histplot(x=rate_df['CAI'], y=rate_df['deg_rate'].apply(np.log10), cmap='rocket', ax=ax, zorder=2)\n",
    "ax.set_ylabel('decay rate (log'r'$_{10}$'' 1 / min)')\n",
    "ax.set_xlabel('codon adaptation index (CAI)')\n",
    "ax.set_ylim(-5, 1)\n",
    "plt.savefig('%s.%s' % (os.path.join(outdir, 'cai_deg'), out_fmt), dpi = out_dpi)# ax = sns.violinplot(data=me_df, x='CAI', y='category', order=order, orient='h', color=color_dict['grey'], ax = ax)"
   ]
  },
  {
   "cell_type": "code",
   "execution_count": null,
   "id": "starting-identity",
   "metadata": {},
   "outputs": [],
   "source": [
    "me_df = pd.read_csv('../Figures/Devreg/gene_cat_me3.csv', index_col='gene')"
   ]
  },
  {
   "cell_type": "code",
   "execution_count": null,
   "id": "packed-aluminum",
   "metadata": {},
   "outputs": [],
   "source": [
    "#Plot degradation rate vs. CAI with the updowngene TFs highlighted\n",
    "from plotting_fxns import plot_grey_scatter\n",
    "updowngene = me_df[me_df['category'] == 'updowngene'].index\n",
    "rate_df['deg_log10'] = rate_df['deg_rate'].apply(np.log10)\n",
    "#Need to dropna from the df, these correspond to non-coding RNAs\n",
    "ax = plot_grey_scatter(x='CAI', y='deg_log10', data=rate_df.dropna(subset=['CAI']).copy(), genegroup=updowngene, grouplabel='updowngene')\n",
    "ax.set_ylabel('decay rate (log'r'$_{10}$'' 1 / min)')\n",
    "ax.set_xlabel('codon adaptation index (CAI)')\n",
    "ax.set_ylim(-5, 1)\n",
    "plt.savefig('%s.%s' % (os.path.join(outdir, 'cai_deg_tfs'), out_fmt), dpi = out_dpi)# ax = sns.violinplot(data=me_df, x='CAI', y='category', order=order, orient='h', color=color_dict['grey'], ax = ax)"
   ]
  },
  {
   "cell_type": "code",
   "execution_count": null,
   "id": "described-adams",
   "metadata": {},
   "outputs": [],
   "source": [
    "me_df['CAI'] = rate_df['CAI']\n",
    "fig = plt.figure(figsize=(dfig*2,dfig), constrained_layout=True)\n",
    "ax = fig.add_subplot(111)\n",
    "# ax = sns.boxplot(x='category', y='CAI', data=me_df, ax=ax)\n",
    "order = ['none','up', 'gene', 'down', 'upgene', 'downgene', 'updowngene']\n",
    "ax = PrettyBox(data=me_df, x='CAI', y='category', order=order, orient='h', color=color_dict['grey'], fliersize=1, ax = ax)\n",
    "pretty_names = {'up':'upstream (A)', 'down':'downstream (C)', 'gene':'gene body (B)', 'up':'upstream (A)', 'updown':'(AC)', \n",
    "               'upgene':'(AB)', 'downgene':'(BC)', 'updowngene':'(ABC)', 'none':'none'}\n",
    "\n",
    "#prettify the category labels\n",
    "new_labs = []\n",
    "for i in ax.get_yticklabels():\n",
    "    i.set_text(pretty_names[i.get_text()])\n",
    "    new_labs.append(i)\n",
    "ax.set_yticklabels(new_labs)\n",
    "\n",
    "plt.savefig('%s.%s' % (os.path.join(outdir, 'cai_me3_box'), out_fmt), dpi = out_dpi)# ax = sns.violinplot(data=me_df, x='CAI', y='category', order=order, orient='h', color=color_dict['grey'], ax = ax)\n",
    "#ax.set_ylim(0.5, 0.9)"
   ]
  }
 ],
 "metadata": {
  "kernelspec": {
   "display_name": "Python 3.9.13 ('pretty')",
   "language": "python",
   "name": "python3"
  },
  "language_info": {
   "codemirror_mode": {
    "name": "ipython",
    "version": 3
   },
   "file_extension": ".py",
   "mimetype": "text/x-python",
   "name": "python",
   "nbconvert_exporter": "python",
   "pygments_lexer": "ipython3",
   "version": "3.9.13"
  },
  "vscode": {
   "interpreter": {
    "hash": "bdb49103a4ed208a05ea4530afbe53462c06fafea10c7833b005d674746fdb08"
   }
  }
 },
 "nbformat": 4,
 "nbformat_minor": 5
}
