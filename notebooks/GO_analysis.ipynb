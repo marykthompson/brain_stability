{
 "cells": [
  {
   "cell_type": "markdown",
   "id": "2d209fc3-b1b0-4a57-a1c3-229b028c586e",
   "metadata": {},
   "source": [
    "##### GO analysis of the CTS high stability genes\n",
    "- Run GO analysis of the high stability genes with GOAtools"
   ]
  },
  {
   "cell_type": "code",
   "execution_count": null,
   "id": "0845d125-699a-483e-8ecf-728e223385be",
   "metadata": {},
   "outputs": [],
   "source": [
    "# Get http://geneontology.org/ontology/go-basic.obo\n",
    "from goatools.base import download_go_basic_obo\n",
    "obo_fname = download_go_basic_obo()"
   ]
  },
  {
   "cell_type": "code",
   "execution_count": null,
   "id": "8751b4d1-59ff-4d26-b6c0-df29ad23c1f5",
   "metadata": {},
   "outputs": [],
   "source": [
    "# Get ftp://ftp.ncbi.nlm.nih.gov/gene/DATA/gene2go.gz\n",
    "from goatools.base import download_ncbi_associations\n",
    "fin_gene2go = download_ncbi_associations()"
   ]
  },
  {
   "cell_type": "code",
   "execution_count": null,
   "id": "84ee5a94-3ede-446d-b04d-c15e7b2e0b8c",
   "metadata": {},
   "outputs": [],
   "source": [
    "from goatools.obo_parser import GODag\n",
    "\n",
    "obodag = GODag(\"go-basic.obo\")"
   ]
  },
  {
   "cell_type": "code",
   "execution_count": null,
   "id": "001dbcdd-96f9-43ee-8515-87b19d06cab0",
   "metadata": {},
   "outputs": [],
   "source": [
    "from __future__ import print_function\n",
    "from goatools.anno.genetogo_reader import Gene2GoReader\n",
    "\n",
    "# Read NCBI's gene2go. Store annotations in a list of namedtuples\n",
    "objanno = Gene2GoReader(fin_gene2go, taxids=[10090])\n",
    "\n",
    "# Get namespace2association where:\n",
    "#    namespace is:\n",
    "#        BP: biological_process               \n",
    "#        MF: molecular_function\n",
    "#        CC: cellular_component\n",
    "#    assocation is a dict:\n",
    "#        key: NCBI GeneID\n",
    "#        value: A set of GO IDs associated with that gene\n",
    "ns2assoc = objanno.get_ns2assc()\n",
    "\n",
    "for nspc, id2gos in ns2assoc.items():\n",
    "    print(\"{NS} {N:,} annotated mouse genes\".format(NS=nspc, N=len(id2gos)))"
   ]
  },
  {
   "cell_type": "code",
   "execution_count": null,
   "id": "b8e8da61-ad80-4d6f-b192-55095612aabc",
   "metadata": {},
   "outputs": [],
   "source": [
    "from genes_ncbi_10090_proteincoding import GENEID2NT as GeneID2nt_mus\n",
    "print(len(GeneID2nt_mus))"
   ]
  },
  {
   "cell_type": "code",
   "execution_count": null,
   "id": "dd560484-5c1a-4c3f-80dc-fbe435c25786",
   "metadata": {},
   "outputs": [],
   "source": [
    "type(fin_gene2go)"
   ]
  }
 ],
 "metadata": {
  "kernelspec": {
   "display_name": "pretty1",
   "language": "python",
   "name": "pretty1"
  },
  "language_info": {
   "codemirror_mode": {
    "name": "ipython",
    "version": 3
   },
   "file_extension": ".py",
   "mimetype": "text/x-python",
   "name": "python",
   "nbconvert_exporter": "python",
   "pygments_lexer": "ipython3",
   "version": "3.9.13"
  }
 },
 "nbformat": 4,
 "nbformat_minor": 5
}
