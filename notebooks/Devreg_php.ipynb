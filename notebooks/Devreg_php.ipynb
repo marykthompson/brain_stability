{
 "cells": [
  {
   "cell_type": "markdown",
   "id": "maritime-acquisition",
   "metadata": {},
   "source": [
    "### Devreg php\n",
    "- Show overlap with the Pherson php RNAi knockdown\n",
    "- The data used is re-analyzed data from Pherson et al., 2017"
   ]
  },
  {
   "cell_type": "code",
   "execution_count": null,
   "id": "virtual-final",
   "metadata": {},
   "outputs": [],
   "source": [
    "# Imports\n",
    "import sys\n",
    "import os\n",
    "import pandas as pd\n",
    "import seaborn as sns\n",
    "import numpy as np\n",
    "import math\n",
    "import scipy.stats as stats\n",
    "from collections import defaultdict\n",
    "import pickle\n",
    "from itertools import chain, combinations\n",
    "import gffutils\n",
    "import re\n",
    "from copy import copy\n",
    "\n",
    "sys.path.append('../scripts')\n",
    "from plot_helpers import *\n",
    "from annotation_utilities import *\n",
    "from plotting_fxns import PrettyBox, get_boxtop, add_stars, plot_scatter, compare_experiments\n",
    "from utilities import load_dataset \n",
    "db = gffutils.FeatureDB(gffutils_db)\n",
    "\n",
    "%load_ext autoreload\n",
    "%autoreload 2"
   ]
  },
  {
   "cell_type": "code",
   "execution_count": null,
   "id": "virgin-stereo",
   "metadata": {},
   "outputs": [],
   "source": [
    "outdir = '../Figures/Devreg'\n",
    "os.makedirs(outdir, exist_ok=True)"
   ]
  },
  {
   "cell_type": "code",
   "execution_count": null,
   "id": "familiar-theory",
   "metadata": {},
   "outputs": [],
   "source": [
    "# Parse the results here:\n",
    "# The _filtered.csv file already has the spike-ins and rRNA genes removed\n",
    "res_file = os.path.join(results_dir_pherson, 'gene_quantification','summary_abundance_by_gene_filtered.csv')\n",
    "df = load_dataset(res_file, '../Figures/summary_files/BG3_passed.csv')\n",
    "\n",
    "# get the means by experiment\n",
    "mean_df = df.groupby(['gene', 'condition', 'RNAtype']).mean()"
   ]
  },
  {
   "cell_type": "code",
   "execution_count": null,
   "id": "f8dddabd",
   "metadata": {},
   "outputs": [],
   "source": [
    "# Read in the PCG domain genes and convert them to v6.28\n",
    "PCG_domain_file = os.path.join(pherson_dir,'1700944_FileS8.txt')\n",
    "pcg_genes = pd.read_csv(PCG_domain_file, sep='\\t', header=None)\n",
    "# Parse the genes which have been converted to 6.32 using the Flybase web ID converter\n",
    "# pcg_conv = pd.read_csv(os.path.join(outdir, 'pcg_fb632_IDs.txt'), sep='\\t')\n",
    "pcg_conv = pd.read_csv('../../resources/genelists/pcg_fb632_IDs.txt', sep='\\t')\n",
    "# Print out the ones with unknown ID, which need to be entered manually, match also on genomic position\n",
    "unk_genes = pcg_conv.loc[pcg_conv['current_id'] == 'unknown ID', '# submitted_id'].values\n",
    "# Manually researched IDs to match the unknown IDs in 6.32\n",
    "unk_ids = {'AP-2':'FBgn0261953', 'msa':'FBgn0264857'}\n",
    "print('unknown genes:')\n",
    "print(pcg_genes.loc[pcg_genes[3].isin(unk_genes)])\n",
    "# Remove ones from another species => current_symbol contains a backslash \\\n",
    "m = re.compile('\\\\\\\\')\n",
    "pcg_conv['nonDmel'] = pcg_conv['current_symbol'].apply(lambda x: True if m.search(x) else False)\n",
    "pcg_conv = pcg_conv.query('~nonDmel').copy()\n",
    "pcg_conv = pcg_conv.loc[pcg_conv['current_id'] != 'unknown ID'].copy()\n",
    "pcg_conv = pcg_conv.set_index('# submitted_id', drop=False)\n",
    "pcg_conv.index.name = 'index'\n",
    "pcg_conv2 = resolve_splits(pcg_conv, old_sym='# submitted_id', new_sym='current_symbol', new_ID='converted_id')\n",
    "# Check if any genes have been converted\n",
    "print(f'Genes after resolve split are equal to input genes: {pcg_conv.equals(pcg_conv2)}')\n",
    "# Add the unknown genes to the dataframe\n",
    "unk_df = pd.DataFrame.from_dict(unk_ids, orient='index')\n",
    "unk_df.columns = ['converted_id']\n",
    "pcg_conv2 = pd.concat([pcg_conv2, unk_df])"
   ]
  },
  {
   "cell_type": "code",
   "execution_count": null,
   "id": "6098e156",
   "metadata": {},
   "outputs": [],
   "source": [
    "# Create the ID mapping table. The index is the old ID and the columns contain the newID\n",
    "id_dir = '../../resources/id_conversion/'\n",
    "# I don't know the annotation version used, so try to convert using the current ones\n",
    "dmel632_file = os.path.join(id_dir, 'fbgn_annotation_ID_fb_2020_01.tsv')\n",
    "dmel628_file = os.path.join(id_dir, 'fbgn_annotation_ID_fb_2019_03.tsv')\n",
    "# Get the mapping between 628 -> 32\n",
    "thompson_gene_df = update_ids(dmel632_file, dmel628_file)"
   ]
  },
  {
   "cell_type": "code",
   "execution_count": null,
   "id": "bef494d2",
   "metadata": {},
   "outputs": [],
   "source": [
    "# Map the PCG genes from v6.32 -> v6.28\n",
    "thompson_gene_df['PCG'] = thompson_gene_df['new_ID'].isin(pcg_conv2['converted_id'])\n",
    "pcg_genes = set(thompson_gene_df.query('PCG').index.tolist())"
   ]
  },
  {
   "cell_type": "code",
   "execution_count": null,
   "id": "ee7cce63",
   "metadata": {},
   "outputs": [],
   "source": [
    "# Scatterplot comparisons of the experiments in BG3 cells\n",
    "val_col = 'summed_tpm_recalc'\n",
    "experiments_total = [{'condition':'mock', 'RNAtype':'input'}, {'condition':'ph', 'RNAtype':'input'}]\n",
    "experiments_nas = [{'condition':'mock', 'RNAtype':'pd'}, {'condition':'ph', 'RNAtype':'pd'}]\n",
    "loc2 = plticker.MultipleLocator(base=2.0)\n",
    "loc5 = plticker.MultipleLocator(base=5.0)\n",
    "\n",
    "# Plot the change in nascent RNA after php knockdown\n",
    "nas_cdf = compare_experiments(mean_df.reset_index(), experiments=experiments_nas, id_col='gene', val_col=val_col, pseudo='min', log=True)\n",
    "fig = plt.figure(figsize=(dfig, dfig), constrained_layout=True)\n",
    "ax = fig.add_subplot(111)\n",
    "ax = plot_scatter(nas_cdf, experiments=['summed_tpm_recalc_x', 'summed_tpm_recalc_y'], id_col='gene', genegroup=pcg_genes, \n",
    "            xlabel='mock nascent RNA\\n (log'r'$_{10}$'' TPM)', ylabel='$\\it{ph\\ RNAi}$ nascent RNA\\n (log'r'$_{10}$'' TPM)', rsquare=True, loc=loc2,\n",
    "            diagonal=True, ax=ax)\n",
    "ax.text(0.1, 0.7, 'PcG domain\\ngenes', color=color_dict['purple'], fontsize = 7, transform=ax.transAxes)\n",
    "ax.set_aspect('equal')\n",
    "ax.set_ylabel(ax.get_ylabel(), loc='bottom', ma='center')\n",
    "plt.savefig('%s.%s' % (os.path.join(outdir, 'ph_nas_scat'), out_fmt), dpi = out_dpi)\n",
    "\n",
    "# Plot the change in total RNA after php knockown\n",
    "tot_cdf = compare_experiments(mean_df.reset_index(), experiments=experiments_total, id_col='gene', val_col=val_col, pseudo='min', log=True)\n",
    "fig = plt.figure(figsize=(dfig, dfig), constrained_layout=True)\n",
    "ax = fig.add_subplot(111)\n",
    "ax = plot_scatter(tot_cdf, experiments=['summed_tpm_recalc_x', 'summed_tpm_recalc_y'], id_col='gene', genegroup=pcg_genes, \n",
    "            xlabel='mock total RNA\\n (log'r'$_{10}$'' TPM)', ylabel='$\\it{ph\\ RNAi}$ total RNA\\n (log'r'$_{10}$'' TPM)', rsquare=True, loc=loc2, \n",
    "            diagonal=True, ax=ax)\n",
    "ax.set_aspect('equal')\n",
    "ax.set_ylabel(ax.get_ylabel(), loc='bottom', ma='center')\n",
    "plt.savefig('%s.%s' % (os.path.join(outdir, 'ph_tot_scat'), out_fmt), dpi = out_dpi)\n",
    "\n",
    "# Get the change in total and the change in nascent\n",
    "mutant_name = 'summed_tpm_recalc_y'\n",
    "mock_name = 'summed_tpm_recalc_x'\n",
    "tot_cdf['log_change'] = tot_cdf[mutant_name] - tot_cdf[mock_name]\n",
    "nas_cdf['log_change'] = nas_cdf[mutant_name] - nas_cdf[mock_name]\n",
    "comp_df = pd.merge(nas_cdf[['gene', 'log_change']], tot_cdf[['gene','log_change']], left_on='gene', right_on='gene', suffixes=('_nas', '_tot'))\n",
    "fig = plt.figure(figsize=(dfig, dfig), constrained_layout=True)\n",
    "ax = fig.add_subplot(111)\n",
    "ax = plot_scatter(comp_df, experiments=['log_change_nas', 'log_change_tot'], id_col='gene', genegroup=pcg_genes, \n",
    "            xlabel=r'$\\Delta$''nascent\\n(log'r'$_{10}$'' $\\it{ph\\ RNAi}$ / mock)', ylabel=r'$\\Delta$''total\\n(log'r'$_{10}$'' $\\it{ph\\ RNAi}$ / mock)', rsquare=True, loc=loc2, \n",
    "            diagonal=True, ax=ax)\n",
    "plt.savefig('%s.%s' % (os.path.join(outdir, 'ph_nas_tot_scat'), out_fmt), dpi = out_dpi)"
   ]
  },
  {
   "cell_type": "code",
   "execution_count": null,
   "id": "facial-generation",
   "metadata": {},
   "outputs": [],
   "source": [
    "# Calculate change in total vs. change in nascent for polycomb targets and make boxplot\n",
    "comp_df['deltaTN'] = comp_df['log_change_tot'] - comp_df['log_change_nas']\n",
    "\n",
    "fig = plt.figure(figsize=(dfig, dfig), constrained_layout=True)\n",
    "ax = fig.add_subplot(111)\n",
    "ax = PrettyBox(data=comp_df, x='group', y='deltaTN', fliersize=0, ax=ax)\n",
    "ax.set_ylim(-3, 3)\n",
    "ax.set_ylabel(r'$\\Delta$total / $\\Delta$nascent'+ '\\n' + r'(log$_2$ $\\it{ph\\ RNAi}$ / mock)')\n",
    "gene_counts = comp_df['group'].value_counts()\n",
    "ax.set(xticklabels=['other\\nn = %s' % gene_counts[False], 'PcG domain\\nn = %s' % gene_counts[True]])\n",
    "ax.set_xlabel('')\n",
    "ax.annotate('polycomb'+'\\n'+'status:', xy=(0, 0), xycoords=ax.get_xaxis_transform(),\n",
    "                   xytext=(-24,-20), textcoords='offset points', ha='right')\n",
    "\n",
    "\n",
    "sub_x = comp_df.loc[comp_df['group']]['deltaTN'].values\n",
    "bg_x = comp_df.loc[~comp_df['group']]['deltaTN'].values\n",
    "\n",
    "_, p = stats.mannwhitneyu(sub_x, bg_x)\n",
    "\n",
    "h = max(get_boxtop(comp_df, col1='group', val1=True, val_col='deltaTN'),\n",
    "            get_boxtop(comp_df, col1='group', val1=False, val_col='deltaTN'))\n",
    "\n",
    "\n",
    "add_stars(0, 1, h+0.2, 0.1, p, ax)\n",
    "print('pvalue', p)\n",
    "print('median T/N pcg', 2**comp_df[comp_df['group']]['deltaTN'].median())\n",
    "print('median T/N other', 2**comp_df[~comp_df['group']]['deltaTN'].median())\n",
    "\n",
    "plt.savefig('%s.%s' % (os.path.join(outdir, 'ph_nas_tot_box'), out_fmt), dpi = out_dpi)"
   ]
  }
 ],
 "metadata": {
  "kernelspec": {
   "display_name": "Python 3.9.13 ('pretty')",
   "language": "python",
   "name": "python3"
  },
  "language_info": {
   "codemirror_mode": {
    "name": "ipython",
    "version": 3
   },
   "file_extension": ".py",
   "mimetype": "text/x-python",
   "name": "python",
   "nbconvert_exporter": "python",
   "pygments_lexer": "ipython3",
   "version": "3.9.13"
  },
  "vscode": {
   "interpreter": {
    "hash": "bdb49103a4ed208a05ea4530afbe53462c06fafea10c7833b005d674746fdb08"
   }
  }
 },
 "nbformat": 4,
 "nbformat_minor": 5
}
