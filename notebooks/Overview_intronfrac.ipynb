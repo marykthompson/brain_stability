{
 "cells": [
  {
   "cell_type": "markdown",
   "id": "protected-relay",
   "metadata": {},
   "source": [
    "### Overview intron fraction\n",
    "- Plot the fraction intronic vs spliced reads for foursu and total libraries\n",
    "- Add replicate heatmap to show reproducibility between the libraries for foursu and total libraries"
   ]
  },
  {
   "cell_type": "code",
   "execution_count": null,
   "id": "upper-channels",
   "metadata": {},
   "outputs": [],
   "source": [
    "#Imports\n",
    "import sys\n",
    "import os\n",
    "import pandas as pd\n",
    "import seaborn as sns\n",
    "import numpy as np\n",
    "import math\n",
    "import scipy.stats\n",
    "\n",
    "sys.path.append('../scripts')\n",
    "from plot_helpers import *\n",
    "from plotting_fxns import *\n",
    "from utilities import load_dataset, filter_low_exp\n",
    "\n",
    "%load_ext autoreload\n",
    "%autoreload 2"
   ]
  },
  {
   "cell_type": "code",
   "execution_count": null,
   "id": "arctic-sister",
   "metadata": {},
   "outputs": [],
   "source": [
    "#Parse the data file\n",
    "infile1 = os.path.join(results_dir, 'gene_quantification','summary_abundance_by_gene_filtered.csv')\n",
    "df = load_dataset(infile1, '../Figures/summary_files/brain4sU_passed.csv')\n",
    "\n",
    "# Make reproducibility heatmaps for the libraries\n",
    "infile2 = os.path.join(results_dir_inctest, 'gene_quantification','summary_abundance_by_gene_filtered.csv')\n",
    "df2a = load_dataset(infile2, '../Figures/summary_files/brainInc_mock_passed.csv')\n",
    "df2b = load_dataset(infile2, '../Figures/summary_files/brainInc_foursu_passed.csv')\n",
    "all_passed_genes_inc = df2a.index.intersection(df2b.index)\n",
    "df2 = df2a.loc[all_passed_genes_inc].copy()\n",
    "\n",
    "outdir = '../Figures/Overview'\n",
    "os.makedirs(outdir, exist_ok = True)"
   ]
  },
  {
   "cell_type": "markdown",
   "id": "b153b8e7",
   "metadata": {},
   "source": [
    "#### Plot the fraction of intronic and exonic transcripts in each library type"
   ]
  },
  {
   "cell_type": "code",
   "execution_count": null,
   "id": "dangerous-brisbane",
   "metadata": {},
   "outputs": [],
   "source": [
    "#Calculate the fraction of the intronic and exonic transcripts\n",
    "sum_df = df.groupby(['RNAtype', 'replicate']).sum()\n",
    "sum_df['intronic_percent'] = (sum_df['intronic_tpm_recalc']*100)/1e6\n",
    "sum_df['exonic_percent'] = (sum_df['exonic_tpm_recalc']*100)/1e6"
   ]
  },
  {
   "cell_type": "code",
   "execution_count": null,
   "id": "1ebeb9a5",
   "metadata": {},
   "outputs": [],
   "source": [
    "#Plot fraction intronic transcripts for library type input or pulldown\n",
    "fig = plt.figure(figsize=(dfig, dfig), constrained_layout=True)\n",
    "ax = fig.add_subplot(111)\n",
    "\n",
    "bar_width = 0.9\n",
    "num_reps = 3\n",
    "# positions of the left bar-boundaries, plotting by replicate\n",
    "bar_p1 = np.array(range(num_reps))\n",
    "bar_p2 = bar_p1 + 4\n",
    "plot_order = ['intronic_percent', 'exonic_percent']\n",
    "#plot_order = ['exonic_percent', 'intronic_percent']\n",
    "\n",
    "#https://matplotlib.org/api/_as_gen/matplotlib.axes.Axes.set_prop_cycle.html?highlight=set_prop_cycle#matplotlib.axes.Axes.set_prop_cycle\n",
    "#need to reset the color cycle between the two subplots\n",
    "xlabels = ['total #1', 'total #2', 'total #3', 'foursu #1', 'foursu #2', 'foursu #3']\n",
    "sample_l = ['input', 'pd']\n",
    "for sample, bar_l in zip(sample_l, [bar_p1, bar_p2]):\n",
    "    ax.set_prop_cycle(color = selected_colors[0:2][::-1])\n",
    "    running_bottom = [0]*num_reps\n",
    "    #this_df = biotype_df.loc[pd.IndexSlice[:, sample], 'percent_counts']\n",
    "    this_df = sum_df.loc[pd.IndexSlice[sample, :]]\n",
    "    for rna in plot_order:\n",
    "        values = this_df[rna].values\n",
    "        ax.bar(bar_l, \n",
    "               values,\n",
    "               label = rna, \n",
    "               alpha = 0.9,\n",
    "               bottom = running_bottom,\n",
    "               width = bar_width)\n",
    "        running_bottom += values\n",
    "        \n",
    "current_handles, current_labels = plt.gca().get_legend_handles_labels()\n",
    "\n",
    "pretty_names = {'intronic_percent': 'unspliced', 'exonic_percent':'spliced'}\n",
    "\n",
    "#get rid of redundancy in legend plotting\n",
    "legend_len = int(len(current_handles)/len(sample_l))\n",
    "new_labels = [pretty_names[i] for i in current_labels[0:legend_len]]\n",
    "\n",
    "plt.legend(current_handles[0:legend_len], new_labels, bbox_to_anchor=(0.5, 1.05), loc=8,\n",
    "           ncol = 2, fontsize = 8)\n",
    "\n",
    "ax.set_ylabel('% of transcripts')\n",
    "plt.xticks(np.append(bar_p1, bar_p2), ['1', '2', '3', '1', '2', '3'])\n",
    "\n",
    "ax.text(1, -25, 'total RNA', horizontalalignment='center', verticalalignment='center',\n",
    "            fontsize = 8)\n",
    "ax.text(5, -25, '4sU'r'$^{+}$' ' RNA', horizontalalignment='center', verticalalignment='center',\n",
    "            fontsize = 8)\n",
    "\n",
    "plt.savefig('%s.%s' % (os.path.join(outdir, 'frac_intron'), out_fmt), dpi = out_dpi)"
   ]
  },
  {
   "cell_type": "markdown",
   "id": "5accb664",
   "metadata": {},
   "source": [
    "#### Look at the inter-replicate reproducibility"
   ]
  },
  {
   "cell_type": "code",
   "execution_count": null,
   "id": "787ed2ad",
   "metadata": {},
   "outputs": [],
   "source": [
    "# To avoid plotting dropouts (like genes which are only present in one condition but not others and reduce the correlation considerably)\n",
    "# Limit the plot to genes which pass the cutoff in all libraries (i.e. 10 counts in each library)\n",
    "# This way were are showing correlation over the same group of genes in each library\n",
    "\n",
    "n_samp1 = len(df['sample'].unique())\n",
    "n_samp2 = len(df2['sample'].unique())\n",
    "\n",
    "#Exp1 (Brain4sU)\n",
    "res_file1 = os.path.join(results_dir, 'gene_quantification','summary_abundance_by_gene_filtered.csv')\n",
    "passed_genes1_all = filter_low_exp(res_file1, filter_col='summed_est_counts', filter_co=10, npass=n_samp1, \n",
    "                              outname=os.path.join(outdir,'test'))\n",
    "\n",
    "# #Exp2 (BrainInc)\n",
    "res_file2 = os.path.join(results_dir_inctest, 'gene_quantification','summary_abundance_by_gene_filtered.csv')\n",
    "passed_genes2_all = filter_low_exp(res_file2, filter_col='summed_est_counts', filter_co=10, npass=n_samp2, \n",
    "                               outname=os.path.join(outdir, 'test'))"
   ]
  },
  {
   "cell_type": "code",
   "execution_count": null,
   "id": "d584467e",
   "metadata": {},
   "outputs": [],
   "source": [
    "df = df.loc[df.index.isin(passed_genes1_all)].copy()\n",
    "df2 = df2.loc[df2.index.isin(passed_genes2_all)].copy()"
   ]
  },
  {
   "cell_type": "code",
   "execution_count": null,
   "id": "b66da8bf",
   "metadata": {},
   "outputs": [],
   "source": [
    "def get_correlation(df, sort_d=None):\n",
    "    '''\n",
    "    Get correlation between libraries.\n",
    "    '''\n",
    "    # df['expname'] = df.apply(lambda x: '_'.join([str(x['condition']), x['exptype'], str(x['replicate'])]), axis=1)\n",
    "    df['expname'] = df.apply(lambda x: f'{x[\"exptype\"]} r{x[\"replicate\"]}', axis=1)\n",
    "    pdf = df.reset_index().pivot(index = 'gene', columns = 'expname', values = 'summed_tpm_recalc')\n",
    "    if sort_d:\n",
    "        cols = pdf.columns.tolist()\n",
    "        cols.sort(key=lambda x: sort_d[x.split(' r')[0]])\n",
    "    else:\n",
    "        cols = pdf.columns.tolist()\n",
    "    pdf = pdf[cols].copy()\n",
    "    # Add pseudocount of the lowest value to allow log transformation\n",
    "    s = pd.concat([pdf[i] for i in pdf.columns])\n",
    "    a = np.unique(s)\n",
    "    lowest_nonzero = a[a>0][0]\n",
    "    pdf += lowest_nonzero\n",
    "    pdf = pdf.apply(np.log10)\n",
    "    corrMatrix_f = pdf.corr(method = 'pearson')\n",
    "    return corrMatrix_f**2\n",
    "\n",
    "df['exptype'] = df['RNAtype'].map({'input':'total', 'pd':'4sU'})\n",
    "corrMat1 = get_correlation(df, sort_d={'total':1, '4sU':2})\n",
    "df2 = df2.query('RNAtype == \"input\"').copy()\n",
    "df2['exptype'] = df2['condition'].map({'0mock':'0 min mock', '60mock':'60 min -4sU', '60foursu':'60 min +4sU'})\n",
    "corrMat2 = get_correlation(df2, sort_d={'0 min mock':1, '60 min -4sU':2, '60 min +4sU':3})"
   ]
  },
  {
   "cell_type": "code",
   "execution_count": null,
   "id": "4144303b",
   "metadata": {},
   "outputs": [],
   "source": [
    "# Plot the correlation between the replicates for both the incubation control libraries and the 20 min 4sU input and pulldown libraries\n",
    "# https://seaborn.pydata.org/examples/many_pairwise_correlations.html\n",
    "fig = plt.figure(figsize=(dfig*2, dfig), constrained_layout=True)\n",
    "# ncols = 33\n",
    "# gs = fig.add_gridspec(ncols=ncols, nrows=1, wspace=0)\n",
    "# # gs.update(left=0.1,right=0.9,top=0.965,bottom=0.03,wspace=0.3,hspace=0.09)\n",
    "# ax1 = fig.add_subplot(gs[1:16])\n",
    "# ax2 = fig.add_subplot(gs[16:31])\n",
    "# cbar_ax = fig.add_subplot(gs[31:])\n",
    "\n",
    "ncols = 34\n",
    "gs = fig.add_gridspec(ncols=ncols, nrows=1, wspace=0)\n",
    "# gs.update(left=0.1,right=0.9,top=0.965,bottom=0.03,wspace=0.3,hspace=0.09)\n",
    "ax1 = fig.add_subplot(gs[2:17])\n",
    "ax2 = fig.add_subplot(gs[17:32])\n",
    "cbar_ax = fig.add_subplot(gs[32:])\n",
    "\n",
    "vmin = min([corrMat1.min().min(), corrMat2.min().min()])//0.1 * 0.1\n",
    "# Add mask to avoid plotting the top part\n",
    "mask1 = np.triu(np.ones_like(corrMat1, dtype=bool), k=1)\n",
    "mask2 = np.triu(np.ones_like(corrMat2, dtype=bool), k=1)\n",
    "\n",
    "# Plot the incubation control on the left and the 20 min libraries on the right\n",
    "# Set vmin a little below data range so that the color change is more visible\n",
    "# vmin = 0.7\n",
    "ax1 = sns.heatmap(corrMat2, mask=mask2, annot=False, ax=ax1, cmap = 'magma', vmin=vmin, vmax=1, cbar=False)\n",
    "ax2 = sns.heatmap(corrMat1, mask=mask1, annot=False, ax=ax2, cmap = 'magma', vmin=vmin, vmax=1, cbar_ax=cbar_ax,\n",
    "                  cbar_kws={'label': 'correlation (Pearson r)'})\n",
    "\n",
    "# cbar_ax.set_ylabel('correlation (Pearson r)', y=-0.18, ha='left')\n",
    "cbar_ax.set_ylabel('correlation (Pearson r)', y=-0.1, ha='left')\n",
    "\n",
    "for ax in [ax1, ax2]:\n",
    "    ax.set_aspect('equal')\n",
    "    ax.set_ylabel('')\n",
    "    ax.set_xlabel('')\n",
    "    ax.tick_params(length = 0)\n",
    "# plt.subplots_adjust(left=0.15)\n",
    "plt.savefig('%s.%s' % (os.path.join(outdir, 'reprod_hm_pearson'), out_fmt), dpi = out_dpi)"
   ]
  }
 ],
 "metadata": {
  "kernelspec": {
   "display_name": "Python 3.9.13 ('pretty')",
   "language": "python",
   "name": "python3"
  },
  "language_info": {
   "codemirror_mode": {
    "name": "ipython",
    "version": 3
   },
   "file_extension": ".py",
   "mimetype": "text/x-python",
   "name": "python",
   "nbconvert_exporter": "python",
   "pygments_lexer": "ipython3",
   "version": "3.9.13"
  },
  "vscode": {
   "interpreter": {
    "hash": "bdb49103a4ed208a05ea4530afbe53462c06fafea10c7833b005d674746fdb08"
   }
  }
 },
 "nbformat": 4,
 "nbformat_minor": 5
}
