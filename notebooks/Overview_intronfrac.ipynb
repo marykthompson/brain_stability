{
 "cells": [
  {
   "cell_type": "markdown",
   "id": "protected-relay",
   "metadata": {},
   "source": [
    "### Overview intron fraction\n",
    "- Plot the fraction intronic vs spliced reads for foursu and total libraries"
   ]
  },
  {
   "cell_type": "code",
   "execution_count": null,
   "id": "upper-channels",
   "metadata": {},
   "outputs": [],
   "source": [
    "#Imports\n",
    "import sys\n",
    "import os\n",
    "import pandas as pd\n",
    "import seaborn as sns\n",
    "import numpy as np\n",
    "import math\n",
    "import scipy.stats\n",
    "\n",
    "sys.path.append('../scripts')\n",
    "from plot_helpers import *\n",
    "from plotting_fxns import extract_gene_vals\n",
    "from utilities import load_dataset\n",
    "\n",
    "%load_ext autoreload\n",
    "%autoreload 2"
   ]
  },
  {
   "cell_type": "code",
   "execution_count": null,
   "id": "arctic-sister",
   "metadata": {},
   "outputs": [],
   "source": [
    "#Parse the data file\n",
    "infile = os.path.join(results_dir, 'gene_quantification','summary_abundance_by_gene_filtered.csv')\n",
    "df = load_dataset(infile, '../Figures/summary_files/brain4sU_passed.csv')\n",
    "# df = pd.read_csv(infile, index_col = 'gene')\n",
    "df['exptype'] = df['sample'].apply(lambda x: x.split('_')[0])\n",
    "outdir = '../Figures/Overview'\n",
    "os.makedirs(outdir, exist_ok = True)"
   ]
  },
  {
   "cell_type": "code",
   "execution_count": null,
   "id": "dangerous-brisbane",
   "metadata": {},
   "outputs": [],
   "source": [
    "#Calculate the fraction of the intronic and exonic transcripts\n",
    "sum_df = df.groupby(['exptype', 'replicate']).sum()\n",
    "sum_df['intronic_percent'] = (sum_df['intronic_tpm_recalc']*100)/1e6\n",
    "sum_df['exonic_percent'] = (sum_df['exonic_tpm_recalc']*100)/1e6"
   ]
  },
  {
   "cell_type": "code",
   "execution_count": null,
   "id": "finnish-concentrate",
   "metadata": {},
   "outputs": [],
   "source": [
    "#Plot fraction intronic transcripts for library type input or pulldown\n",
    "fig = plt.figure(figsize=(dfig, dfig), constrained_layout=True)\n",
    "ax = fig.add_subplot(111)\n",
    "\n",
    "bar_width = 0.9\n",
    "num_reps = 3\n",
    "# positions of the left bar-boundaries, plotting by replicate\n",
    "bar_p1 = np.array(range(num_reps))\n",
    "bar_p2 = bar_p1 + 4\n",
    "plot_order = ['intronic_percent', 'exonic_percent']\n",
    "#plot_order = ['exonic_percent', 'intronic_percent']\n",
    "\n",
    "#https://matplotlib.org/api/_as_gen/matplotlib.axes.Axes.set_prop_cycle.html?highlight=set_prop_cycle#matplotlib.axes.Axes.set_prop_cycle\n",
    "#need to reset the color cycle between the two subplots\n",
    "xlabels = ['total #1', 'total #2', 'total #3', 'foursu #1', 'foursu #2', 'foursu #3']\n",
    "sample_l = ['input', 'pd']\n",
    "for sample, bar_l in zip(sample_l, [bar_p1, bar_p2]):\n",
    "    ax.set_prop_cycle(color = selected_colors[0:2][::-1])\n",
    "    running_bottom = [0]*num_reps\n",
    "    #this_df = biotype_df.loc[pd.IndexSlice[:, sample], 'percent_counts']\n",
    "    this_df = sum_df.loc[pd.IndexSlice[sample, :]]\n",
    "    for rna in plot_order:\n",
    "        values = this_df[rna].values\n",
    "        ax.bar(bar_l, \n",
    "               values,\n",
    "               label = rna, \n",
    "               alpha = 0.9,\n",
    "               bottom = running_bottom,\n",
    "               width = bar_width,\n",
    "               edgecolor = '')\n",
    "        running_bottom += values\n",
    "        \n",
    "current_handles, current_labels = plt.gca().get_legend_handles_labels()\n",
    "\n",
    "pretty_names = {'intronic_percent': 'unspliced', 'exonic_percent':'spliced'}\n",
    "\n",
    "#get rid of redundancy in legend plotting\n",
    "legend_len = int(len(current_handles)/len(sample_l))\n",
    "new_labels = [pretty_names[i] for i in current_labels[0:legend_len]]\n",
    "\n",
    "plt.legend(current_handles[0:legend_len], new_labels, bbox_to_anchor=(0.5, 1.05), loc=8,\n",
    "           ncol = 2, fontsize = 8)\n",
    "\n",
    "ax.set_ylabel('% of transcripts')\n",
    "plt.xticks(np.append(bar_p1, bar_p2), ['1', '2', '3', '1', '2', '3'])\n",
    "\n",
    "ax.text(1, -25, 'total RNA', horizontalalignment='center', verticalalignment='center',\n",
    "            fontsize = 8)\n",
    "ax.text(5, -25, '4sU'r'$^{+}$' ' RNA', horizontalalignment='center', verticalalignment='center',\n",
    "            fontsize = 8)\n",
    "    \n",
    "plt.savefig('%s.%s' % (os.path.join(outdir, 'frac_intron'), out_fmt), dpi = out_dpi)"
   ]
  },
  {
   "cell_type": "code",
   "execution_count": null,
   "id": "resistant-morris",
   "metadata": {},
   "outputs": [],
   "source": [
    "sum_df"
   ]
  }
 ],
 "metadata": {
  "kernelspec": {
   "display_name": "Python 3",
   "language": "python",
   "name": "python3"
  },
  "language_info": {
   "codemirror_mode": {
    "name": "ipython",
    "version": 3
   },
   "file_extension": ".py",
   "mimetype": "text/x-python",
   "name": "python",
   "nbconvert_exporter": "python",
   "pygments_lexer": "ipython3",
   "version": "3.9.0"
  }
 },
 "nbformat": 4,
 "nbformat_minor": 5
}
