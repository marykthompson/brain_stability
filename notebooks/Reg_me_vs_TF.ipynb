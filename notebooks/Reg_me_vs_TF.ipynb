{
 "cells": [
  {
   "cell_type": "markdown",
   "id": "secondary-hundred",
   "metadata": {
    "jupyter": {
     "source_hidden": true
    },
    "tags": []
   },
   "source": [
    "#### Reg me3 vs TF\n",
    "- Compare TF and CTS to the other categories, both in terms of enrichment and stability\n",
    "- Plot stability of:\n",
    "    - TFs +/- me3\n",
    "    - TFs +/- CTS\n",
    "    - CTS +/- me3"
   ]
  },
  {
   "cell_type": "code",
   "execution_count": null,
   "id": "interpreted-characteristic",
   "metadata": {
    "tags": []
   },
   "outputs": [],
   "source": [
    "#Imports\n",
    "import sys\n",
    "import os\n",
    "import pandas as pd\n",
    "import seaborn as sns\n",
    "import numpy as np\n",
    "import pickle\n",
    "from scipy.stats import fisher_exact\n",
    "\n",
    "sys.path.append('../scripts')\n",
    "from plot_helpers import *\n",
    "from stats_helpers import calc_fisher_exact\n",
    "from annotation_utilities import *\n",
    "from utilities import load_dataset\n",
    "from plotting_fxns import PrettyBox\n",
    "\n",
    "%load_ext autoreload\n",
    "%autoreload 2"
   ]
  },
  {
   "cell_type": "code",
   "execution_count": null,
   "id": "agreed-notice",
   "metadata": {
    "tags": []
   },
   "outputs": [],
   "source": [
    "outdir = '../Figures/Reg'\n",
    "os.makedirs(outdir, exist_ok=True)"
   ]
  },
  {
   "cell_type": "code",
   "execution_count": null,
   "id": "51b0ada5-90ff-4eed-ac49-1d3fc9fb0f85",
   "metadata": {
    "tags": []
   },
   "outputs": [],
   "source": [
    "me_df = pd.read_csv('../Figures/Devreg/gene_cat_me3.csv', index_col='gene')\n",
    "me_df['me3_target'] = me_df['category'] == 'updowngene'"
   ]
  },
  {
   "cell_type": "code",
   "execution_count": null,
   "id": "3f8716c8",
   "metadata": {},
   "outputs": [],
   "source": [
    "#Plot the stability percentile of TFs for specific cell types\n",
    "# Constrained_layout and tight_layout() not giving good results here\n",
    "fig = plt.figure(figsize=(dfig, dfig*1.2))\n",
    "gs = fig.add_gridspec(ncols=2,nrows=10, wspace=0.2)\n",
    "# leave some room at the top for the legends\n",
    "# fig.set_constrained_layout_pads(w_pad=0, wspace=0)\n",
    "ax1 = fig.add_subplot(gs[1:, 0])\n",
    "ax2 = fig.add_subplot(gs[1:, 1])\n",
    "# Show the effect of me3 for TF vs non-TF\n",
    "ax1 = PrettyBox(data=me_df, x='TF', y='stab_percentile',  hue='me3_target', fliersize = 0, width = 0.4, ax=ax1)\n",
    "ax1.set_xlabel('')\n",
    "ax1.set_xticklabels(['non-TF', 'TF'])\n",
    "#move the ylabel in to get more room\n",
    "ax1.set_ylabel('RNA stability percentile', labelpad=0)\n",
    "handles, labels = ax1.get_legend_handles_labels()\n",
    "# ax1.legend(handles, ['other', 'me3 target'], bbox_to_anchor=(0.5, 1.0), loc='lower center', title='gene class')\n",
    "ax1.get_legend().remove()\n",
    "# Show the effect of me3 for CTS vs. non-CTS\n",
    "ax2 = PrettyBox(data=me_df, x='CTS', y='stab_percentile',  hue='me3_target', fliersize = 0, width = 0.4, ax=ax2)\n",
    "ax2.set_xlabel('')\n",
    "ax2.set_xticklabels(['non-CTS', 'CTS'])\n",
    "#move the ylabel in to get more room\n",
    "ax2.set_ylabel('')\n",
    "handles, labels = ax2.get_legend_handles_labels()\n",
    "ax2.set_yticklabels([])\n",
    "ax2.legend(handles, ['other', 'me3 target'], bbox_to_anchor=(0.5, 1.0), loc='upper center', title='gene class', bbox_transform=fig.transFigure, ncol=2)\n",
    "# Subplots adjust puts the left side/right side of axis where specified\n",
    "plt.subplots_adjust(left=0.22, right=1)\n",
    "plt.savefig('%s.%s' % (os.path.join(outdir, 'me3_vs_TF_CTS'), out_fmt), dpi = out_dpi)"
   ]
  },
  {
   "cell_type": "code",
   "execution_count": null,
   "id": "46f3e48a",
   "metadata": {},
   "outputs": [],
   "source": [
    "# Get and plot enrichment for overlap between the different gene groups\n",
    "def plot_enrichmap(df_vals, df_anns, label='p-value', vmin=0, locator=None):\n",
    "    '''\n",
    "    Plot enrichment results.\n",
    "    df_vals is values to plot\n",
    "    df_anns is the number of genes in each category.\n",
    "    '''\n",
    "    fig = plt.figure(figsize=(dfig, dfig), constrained_layout=True)\n",
    "    ax = fig.add_subplot(111)\n",
    "\n",
    "    a = df_vals.values\n",
    "    idx = np.argwhere(pd.isna(a))\n",
    "    mask = np.zeros(np.shape(a))\n",
    "    for i in idx:\n",
    "        mask[i[0], i[1]] = 1\n",
    "    heatmap_ax = sns.heatmap(df_vals.astype(float), annot=df_anns, fmt='d', square=True, mask=mask, cbar_kws={'label':label, 'ticks':locator}, vmin=vmin,\n",
    "                             cmap='magma', ax=ax)\n",
    "    return heatmap_ax\n",
    "\n",
    "\n",
    "# Get the enrichment values for overlap with gene groups\n",
    "TF = me_df.query('TF').index\n",
    "me3 = me_df.query('me3_target').index\n",
    "CTS = me_df.query('CTS').index\n",
    "CTS_TF = me_df.query('CTS & TF').index\n",
    "gene_groups = {'TF':TF, 'me3':me3, 'CTS':CTS, 'CTS TF':CTS_TF}\n",
    "\n",
    "mat = pd.DataFrame(columns=['TF', 'me3'], index=['CTS', 'TF', 'CTS TF'])\n",
    "enrich_dict = {'odds_r':mat.copy(), 'pvals':mat.copy(), 'ngenes':mat.copy()}\n",
    "for i in mat.columns:\n",
    "    for j in mat.itertuples():\n",
    "        print(i, j.Index)\n",
    "        odds_r, p, lower, upper, table = calc_fisher_exact(gene_groups[j.Index], gene_groups[i], len(me_df))\n",
    "        print(odds_r, p, lower, upper)\n",
    "        enrich_dict['odds_r'].loc[j.Index,i] = odds_r\n",
    "        enrich_dict['pvals'].loc[j.Index,i] = p\n",
    "        enrich_dict['ngenes'].loc[j.Index,i] = table[0][0]\n",
    "\n",
    "ax = plot_enrichmap(enrich_dict['pvals'], enrich_dict['ngenes'], label='enrichment (-log'r'$_{10}$' ' p-value)')\n",
    "plt.savefig('%s.%s' % (os.path.join(outdir, 'me3_overlap_pval'), out_fmt), dpi = out_dpi)\n",
    "\n",
    "loc = plticker.MultipleLocator(base=5.0)\n",
    "ax = plot_enrichmap(enrich_dict['odds_r'], enrich_dict['ngenes'], label='odds ratio', vmin=0, locator=loc)\n",
    "plt.savefig('%s.%s' % (os.path.join(outdir, 'me3_overlap_oddsr'), out_fmt), dpi = out_dpi)"
   ]
  },
  {
   "cell_type": "code",
   "execution_count": null,
   "id": "c66ef174-339b-4736-909c-62f09613b0b7",
   "metadata": {
    "tags": []
   },
   "outputs": [],
   "source": [
    "# Report the fraction of H3K27me3 genes that are TFs and CTS TFs\n",
    "frac_me3_is_TF = len(me_df.query('me3_target & TF'))/len(me_df.query('me3_target'))\n",
    "frac_me3_is_CTS_TF = len(me_df.query('me3_target & TF & CTS'))/len(me_df.query('me3_target'))\n",
    "print('% me3 is TF', frac_me3_is_TF*100)\n",
    "print('% me3 is CTS TF', frac_me3_is_CTS_TF*100)"
   ]
  },
  {
   "cell_type": "markdown",
   "id": "b509b9ee-ac18-4832-9ddc-c8876b23e672",
   "metadata": {
    "tags": []
   },
   "source": [
    "Although extended H3K27me3 are enriched in both TFs and cell-type-specific TFs, they are not more enriched in the \n",
    "CTS TFs, as shown by the overlapping confidence intervals"
   ]
  }
 ],
 "metadata": {
  "kernelspec": {
   "display_name": "Python 3.9.13 ('pretty')",
   "language": "python",
   "name": "python3"
  },
  "language_info": {
   "codemirror_mode": {
    "name": "ipython",
    "version": 3
   },
   "file_extension": ".py",
   "mimetype": "text/x-python",
   "name": "python",
   "nbconvert_exporter": "python",
   "pygments_lexer": "ipython3",
   "version": "3.9.13"
  },
  "vscode": {
   "interpreter": {
    "hash": "bdb49103a4ed208a05ea4530afbe53462c06fafea10c7833b005d674746fdb08"
   }
  }
 },
 "nbformat": 4,
 "nbformat_minor": 5
}
