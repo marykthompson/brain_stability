{
 "cells": [
  {
   "cell_type": "markdown",
   "id": "stock-maple",
   "metadata": {},
   "source": [
    "#### CTS genes Corrales\n",
    "- Extract the genes which are enriched in specific cell types using the Corrales et al., 2022 dataset\n",
    "- Issues:\n",
    "- I originally tried using the annotations from v6.13 to convert the IDs, but there are some genes, like FBgn0287720, which don't even show up in 6.32. I therefore suspect that they are using a quite new version of the annotations which is unspecified\n",
    "- In this notebook I empirically determined that the best match is 6.34, and I will use those to convert the symbols to the 6.28 IDs"
   ]
  },
  {
   "cell_type": "code",
   "execution_count": null,
   "id": "current-austin",
   "metadata": {},
   "outputs": [],
   "source": [
    "#Imports\n",
    "import sys\n",
    "import os\n",
    "import pandas as pd\n",
    "import seaborn as sns\n",
    "import numpy as np\n",
    "import math\n",
    "import gffutils\n",
    "import scipy.stats as stats\n",
    "from collections import defaultdict\n",
    "import warnings\n",
    "\n",
    "sys.path.append('../scripts')\n",
    "from plot_helpers import *\n",
    "from plotting_fxns import PrettyBox\n",
    "from utilities import load_dataset\n",
    "from annotation_utilities import *\n",
    "\n",
    "%load_ext autoreload\n",
    "%autoreload 2"
   ]
  },
  {
   "cell_type": "code",
   "execution_count": null,
   "id": "6e2afbaa",
   "metadata": {},
   "outputs": [],
   "source": [
    "# Get all the genes reported by Corrales et al., 2022 and convert the IDs\n",
    "outdir = '../Figures/CTS'\n",
    "os.makedirs(outdir, exist_ok=True)\n",
    "dfs = []\n",
    "# Load the genes enriched from single-cell sequencing in L3 brains\n",
    "sc_file = '../../resources/other_studies/Corrales_Supplementary/Supplementary_spreadsheet_2_Ncells_and_gene_markers_per_cluster.xlsx'\n",
    "xl = pd.ExcelFile(sc_file)\n",
    "sheets = xl.sheet_names\n",
    "sheets.remove('Ncells-cluster')\n",
    "celltype_replace = {'34 Immat': '34 Immat N'}\n",
    "for i in range(0, len(sheets)):\n",
    "    df = pd.read_excel(sc_file, sheets[i])\n",
    "    dfs.append(df)\n",
    "big_df = pd.concat(dfs)\n"
   ]
  },
  {
   "cell_type": "code",
   "execution_count": null,
   "id": "07af96f3",
   "metadata": {},
   "outputs": [],
   "source": [
    "# Find the best genome version to use for these:\n",
    "corrales_genes = big_df['gene']\n",
    "id_dir = '../../resources/id_conversion/'\n",
    "dmel628_file = os.path.join(id_dir, 'fbgn_annotation_ID_fb_2019_03.tsv')\n",
    "dmel630_file = os.path.join(id_dir, 'fbgn_annotation_ID_fb_2019_05.tsv')\n",
    "dmel631_file = os.path.join(id_dir, 'fbgn_annotation_ID_fb_2019_06.tsv')\n",
    "dmel632_file = os.path.join(id_dir, 'fbgn_annotation_ID_fb_2020_01.tsv')\n",
    "dmel633_file = os.path.join(id_dir, 'fbgn_annotation_ID_fb_2020_02.tsv')\n",
    "dmel634_file = os.path.join(id_dir, 'fbgn_annotation_ID_fb_2020_03.tsv')\n",
    "dmel635_file = os.path.join(id_dir, 'fbgn_annotation_ID_fb_2020_04.tsv')\n",
    "dmel636_file = os.path.join(id_dir, 'fbgn_annotation_ID_fb_2020_05.tsv')\n",
    "\n",
    "versions = [('dmel630', dmel630_file), ('dmel631', dmel631_file), ('dmel632', dmel632_file), \n",
    "                   ('dmel633', dmel633_file), ('dmel634', dmel634_file), ('dmel635', dmel635_file),\n",
    "                   ('dmel636', dmel636_file)]\n",
    "\n",
    "best_version, count_dict, notfound = find_best_version(corrales_genes, version_files=versions)\n",
    "print('best version', best_version)"
   ]
  },
  {
   "cell_type": "code",
   "execution_count": null,
   "id": "c72228ef",
   "metadata": {},
   "outputs": [],
   "source": [
    "# Get table converting 6.28 (Thompson) to 6.34 (Corrales)\n",
    "convert_df = update_ids(dmel634_file, from_version=dmel628_file)\n",
    "convert_df = convert_df.reset_index().rename(columns={'index':'old_ID'})"
   ]
  },
  {
   "cell_type": "code",
   "execution_count": null,
   "id": "aaef5b6f",
   "metadata": {},
   "outputs": [],
   "source": [
    "# Get all the genes in each cell type\n",
    "outdir = '../Figures/CTS'\n",
    "os.makedirs(outdir, exist_ok=True)\n",
    "\n",
    "pval_co = 0.05\n",
    "# fc_co is in log2\n",
    "fc_co = 1\n",
    "\n",
    "# Load the genes enriched from single-cell sequencing in L3 brains\n",
    "sc_file = '../../resources/other_studies/Corrales_Supplementary/Supplementary_spreadsheet_2_Ncells_and_gene_markers_per_cluster.xlsx'\n",
    "xl = pd.ExcelFile(sc_file)\n",
    "sheets = xl.sheet_names\n",
    "sheets.remove('Ncells-cluster')\n",
    "ct_names = []\n",
    "dfs = []\n",
    "# Replace some names because of typos in the spreadsheet\n",
    "celltype_replace = {'34 Immat': '34 Immat N'}\n",
    "marker_dict = {}\n",
    "for i in range(0, len(sheets)):\n",
    "    df = pd.read_excel(sc_file, sheets[i])\n",
    "    celltype = sheets[i].strip()\n",
    "    if celltype in celltype_replace:\n",
    "        celltype = celltype_replace[celltype]\n",
    "\n",
    "    this_df = df.query('p_val_adj < @pval_co & avg_log2FC >= @fc_co').copy()\n",
    "    transgenes = ['nls-tdTomato', 'myr-GFP-p10']\n",
    "    this_df = this_df[~this_df['gene'].isin(transgenes)].copy()\n",
    "    this_df['celltype'] = celltype\n",
    "    dfs.append(this_df)\n",
    "    ct_names.append(celltype)\n",
    "cts_df = pd.concat(dfs)"
   ]
  },
  {
   "cell_type": "code",
   "execution_count": null,
   "id": "3fa86f47",
   "metadata": {},
   "outputs": [],
   "source": [
    "# Combine cell types of the same name to form a general cell type, e.g. Immat N\n",
    "# Alter this now so that it accepts a dataframe as the input\n",
    "def is_int(string):\n",
    "    try:\n",
    "        return int(string)\n",
    "    except:\n",
    "        return None\n",
    "\n",
    "def clean_name(string):\n",
    "    return ' '.join(string.split(' ')[1:])\n",
    "\n",
    "clean_names = [i for i in ct_names if is_int(i) is None]\n",
    "\n",
    "celltypes = defaultdict(set)\n",
    "for i in clean_names:\n",
    "    name = clean_name(i)\n",
    "    celltypes[name].add(i)\n",
    "\n",
    "# Combine redundant categories, e.g. hemocytes will be labelled as hemos\n",
    "ct_combine = {'Hemocytes':'Hemos', 'KCs N':'KCs'}\n",
    "celltypes2 = {}\n",
    "for i in celltypes:\n",
    "    if i in ct_combine:\n",
    "        old_label = i\n",
    "        new_label = ct_combine[i]\n",
    "    else:\n",
    "        new_label = i\n",
    "    if new_label not in celltypes2:\n",
    "        celltypes2[new_label] = celltypes[i]\n",
    "    else:\n",
    "        celltypes2[new_label].update(celltypes[i])\n",
    "\n",
    "celltypes_map = {}\n",
    "for ct in celltypes2:\n",
    "    for label in celltypes2[ct]:\n",
    "        celltypes_map[label] = ct"
   ]
  },
  {
   "cell_type": "code",
   "execution_count": null,
   "id": "1ea935f0",
   "metadata": {},
   "outputs": [],
   "source": [
    "# Reduce to unique genes by celltype and write output file\n",
    "# https://stackoverflow.com/questions/36106490/how-to-get-unique-values-from-multiple-columns-in-a-pandas-groupby\n",
    "cts_df['celltype_general'] = cts_df['celltype'].map(celltypes_map)\n",
    "g = cts_df.groupby('celltype_general')['gene'].agg(['unique']).explode('unique').rename(columns={'unique':'gene'}).reset_index()\n",
    "df2 = pd.merge(g[['gene', 'celltype_general']], convert_df[['new_sym', 'old_ID']], left_on='gene', right_on='new_sym', how='left')\n",
    "df3 = df2.set_index('old_ID').drop(labels=[np.nan])\n",
    "df3.index.name = ''\n",
    "df3.rename(columns={'celltype_general':'celltype'})[['celltype']].to_csv(os.path.join(os.path.join(outdir, 'corrales_celltypes.csv')))"
   ]
  }
 ],
 "metadata": {
  "kernelspec": {
   "display_name": "Python 3.9.13 ('pretty')",
   "language": "python",
   "name": "python3"
  },
  "language_info": {
   "codemirror_mode": {
    "name": "ipython",
    "version": 3
   },
   "file_extension": ".py",
   "mimetype": "text/x-python",
   "name": "python",
   "nbconvert_exporter": "python",
   "pygments_lexer": "ipython3",
   "version": "3.9.13"
  },
  "vscode": {
   "interpreter": {
    "hash": "bdb49103a4ed208a05ea4530afbe53462c06fafea10c7833b005d674746fdb08"
   }
  }
 },
 "nbformat": 4,
 "nbformat_minor": 5
}
