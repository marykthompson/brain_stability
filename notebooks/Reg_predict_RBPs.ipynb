{
 "cells": [
  {
   "cell_type": "markdown",
   "metadata": {},
   "source": [
    "#### Reg predict RBPs\n",
    "- look at the predictive power of RBP binding on RNA stability\n",
    "- load significant RBPs from Transite motif analysis output"
   ]
  },
  {
   "cell_type": "code",
   "execution_count": null,
   "metadata": {},
   "outputs": [],
   "source": [
    "#Imports\n",
    "import sys\n",
    "import os\n",
    "import pandas as pd\n",
    "import seaborn as sns\n",
    "import numpy as np\n",
    "import pickle\n",
    "import statsmodels.api as sm\n",
    "import itertools\n",
    "from decimal import Decimal\n",
    "\n",
    "from sklearn.linear_model import LinearRegression\n",
    "from sklearn.preprocessing import PolynomialFeatures\n",
    "\n",
    "from sklearn.metrics import r2_score\n",
    "from sklearn.model_selection import train_test_split\n",
    "from sklearn.metrics import mean_squared_error\n",
    "from scipy.stats.mstats import winsorize\n",
    "\n",
    "sys.path.append('../scripts')\n",
    "from plot_helpers import *\n",
    "from utilities import load_dataset\n",
    "\n",
    "%load_ext autoreload\n",
    "%autoreload 2"
   ]
  },
  {
   "cell_type": "code",
   "execution_count": null,
   "metadata": {},
   "outputs": [],
   "source": [
    "outdir = '../Figures/Reg/'\n",
    "os.makedirs(outdir, exist_ok=True)"
   ]
  },
  {
   "cell_type": "code",
   "execution_count": null,
   "metadata": {},
   "outputs": [],
   "source": [
    "# Load the data\n",
    "# log-transform and winsorize the deg_rates\n",
    "# rate_df = load_dataset('../Figures/summary_files/INSPEcT_rates.csv', '../Figures/summary_files/brain4sU_passed.csv')\n",
    "me_df = pd.read_csv('../Figures/Devreg/gene_cat_me3.csv', index_col='gene')\n",
    "me_df['me3_target'] = me_df['category'] == 'updowngene'\n",
    "me_df['log_deg'] = me_df['deg_rate'].apply(np.log10)\n",
    "me_df['log_deg_wins_1'] = winsorize(me_df['log_deg'], (0.01, 0.01))"
   ]
  },
  {
   "cell_type": "code",
   "execution_count": null,
   "metadata": {},
   "outputs": [],
   "source": [
    "import glob\n",
    "motif_dir = '../Figures/Motifs/'\n",
    "motif_cols = []\n",
    "d = {'three_prime':os.path.join(motif_dir, 'transite_spectrum_3pUTR'), 'five_prime':os.path.join(motif_dir, 'transite_spectrum_5pUTR')}\n",
    "for i in d:\n",
    "    hits_file = glob.glob(f'{d[i]}/*_hits.csv')[0]\n",
    "    df = pd.read_csv(hits_file, index_col=0)\n",
    "    df.columns = [f'{i}_{j}' for j in df.columns]\n",
    "    motif_cols.extend(df.columns.tolist())\n",
    "    me_df = pd.merge(me_df, df, left_index=True, right_index=True)"
   ]
  },
  {
   "cell_type": "code",
   "execution_count": null,
   "metadata": {},
   "outputs": [],
   "source": [
    "motif_cols"
   ]
  },
  {
   "cell_type": "code",
   "execution_count": null,
   "metadata": {},
   "outputs": [],
   "source": [
    "me_df.columns"
   ]
  },
  {
   "cell_type": "code",
   "execution_count": null,
   "metadata": {},
   "outputs": [],
   "source": [
    "me_df.head()"
   ]
  },
  {
   "cell_type": "code",
   "execution_count": null,
   "metadata": {},
   "outputs": [],
   "source": [
    "this_df.head()"
   ]
  },
  {
   "cell_type": "code",
   "execution_count": null,
   "metadata": {},
   "outputs": [],
   "source": [
    "this_df = pd.DataFrame(me_df.groupby(motif_cols[0])['TF'].sum())\n",
    "this_df.index.name = 'num hits'\n",
    "this_df.reset_index(inplace=True)\n",
    "sns.barplot(x='num hits', y='TF', data=this_df)"
   ]
  },
  {
   "cell_type": "code",
   "execution_count": null,
   "metadata": {},
   "outputs": [],
   "source": [
    "sns.histplot(me_df.groupby(motif_cols[0])['TF'].sum())"
   ]
  },
  {
   "cell_type": "code",
   "execution_count": null,
   "metadata": {},
   "outputs": [],
   "source": [
    "this_df.droplevel(level=0, axis=1)"
   ]
  },
  {
   "cell_type": "code",
   "execution_count": null,
   "metadata": {},
   "outputs": [],
   "source": [
    "this_df = me_df.groupby(motif).agg({'TF':['count', 'sum']})\n",
    "this_df.droplevel(level=0, axis=1)\n",
    "# this_df['not'] = this_df['count'] - this_df['sum']\n"
   ]
  },
  {
   "cell_type": "code",
   "execution_count": null,
   "metadata": {},
   "outputs": [],
   "source": [
    "s = pd.DataFrame(me_df.groupby(motif)['TF'].value_counts())\n",
    "\n"
   ]
  },
  {
   "cell_type": "markdown",
   "metadata": {},
   "source": []
  },
  {
   "cell_type": "code",
   "execution_count": null,
   "metadata": {},
   "outputs": [],
   "source": [
    "s."
   ]
  },
  {
   "cell_type": "code",
   "execution_count": null,
   "metadata": {},
   "outputs": [],
   "source": [
    "s.index"
   ]
  },
  {
   "cell_type": "code",
   "execution_count": null,
   "metadata": {},
   "outputs": [],
   "source": [
    "this_df['true_frac'] = this_df['sum']/this_df['sum'].sum()\n",
    "this_df['false_frac'] = this_df['not']/this_df['not'].sum()"
   ]
  },
  {
   "cell_type": "code",
   "execution_count": null,
   "metadata": {},
   "outputs": [],
   "source": [
    "this_df2"
   ]
  },
  {
   "cell_type": "code",
   "execution_count": null,
   "metadata": {},
   "outputs": [],
   "source": [
    "me_df['CTS_TF'] = me_df['TF'] & me_df['CTS']\n",
    "me_df['other_TF'] = me_df['TF'] & ~me_df['CTS']"
   ]
  },
  {
   "cell_type": "code",
   "execution_count": null,
   "metadata": {},
   "outputs": [],
   "source": [
    "motif = motif_cols[0]\n",
    "df2 = me_df.groupby(motif).agg({'CTS_TF':['count', 'sum'], 'other_TF':['count', 'sum']})\n",
    "df2[('other', 'sum')] = df2.apply(lambda x: x[('other_TF', 'count')] - (x[('other_TF', 'sum')] + x[('CTS_TF', 'sum')]), axis=1)\n"
   ]
  },
  {
   "cell_type": "code",
   "execution_count": null,
   "metadata": {},
   "outputs": [],
   "source": [
    "df3 = pd.DataFrame(index=df2.index)"
   ]
  },
  {
   "cell_type": "code",
   "execution_count": null,
   "metadata": {},
   "outputs": [],
   "source": [
    "df3['CTS_TF_frac'] = df2[('CTS_TF', 'sum')]/df2[('CTS_TF', 'sum')].sum()\n",
    "df3['other_TF_frac'] = df2[('other_TF', 'sum')]/df2[('other_TF', 'sum')].sum()\n",
    "df3['other_frac'] = df2[('other', 'sum')]/df2[('other', 'sum')].sum()"
   ]
  },
  {
   "cell_type": "code",
   "execution_count": null,
   "metadata": {},
   "outputs": [],
   "source": [
    "df3"
   ]
  },
  {
   "cell_type": "code",
   "execution_count": null,
   "metadata": {},
   "outputs": [],
   "source": [
    "fig = plt.figure()\n",
    "ax = fig.add_subplot()\n",
    "for motif in motif_cols:\n",
    "    df2 = me_df.groupby(motif).agg({'CTS_TF':['count', 'sum'], 'other_TF':['count', 'sum']})\n",
    "    df2[('other', 'sum')] = df2.apply(lambda x: x[('other_TF', 'count')] - (x[('other_TF', 'sum')] + x[('CTS_TF', 'sum')]), axis=1)\n",
    "    df3 = pd.DataFrame(index=df2.index)\n",
    "    df3['other_TF_frac'] = df2[('other_TF', 'sum')]/df2[('other_TF', 'sum')].sum()\n",
    "    df3['other_frac'] = df2[('other', 'sum')]/df2[('other', 'sum')].sum()\n",
    "    df3['CTS_TF_frac'] = df2[('CTS_TF', 'sum')]/df2[('CTS_TF', 'sum')].sum()\n",
    "    df3.index.name = 'num hits'\n",
    "    df3.reset_index(inplace=True)\n",
    "    color = next(ax._get_lines.prop_cycler)['color']\n",
    "    ax.plot(df3['num hits'], df3['other_TF_frac'], label=f'{motif}_TF', linestyle='--', color=color)\n",
    "    ax.plot(df3['num hits'], df3['other_frac'], label=f'{motif}_bg', color=color)\n",
    "    ax.plot(df3['num hits'], df3['CTS_TF_frac'], label=f'{motif}_CTS_TF', linestyle=':', color=color)\n",
    "ax.legend()\n",
    "ax.set_xlabel('number of motifs')\n",
    "ax.set_ylabel('number of TFs')\n",
    "\n"
   ]
  },
  {
   "cell_type": "code",
   "execution_count": null,
   "metadata": {},
   "outputs": [],
   "source": [
    "df2[('all', 'sum')] = df2.apply(lambda x: x[('other_TF', 'count')] - (x[('other_TF', 'sum')] + x[('CTS_TF', 'sum')]), axis=1)"
   ]
  },
  {
   "cell_type": "code",
   "execution_count": null,
   "metadata": {},
   "outputs": [],
   "source": [
    "fig = plt.figure()\n",
    "ax = fig.add_subplot(111)\n",
    "for motif in motif_cols:\n",
    "    this_df = me_df.groupby(motif).agg({'TF':['count', 'sum']}).droplevel(level=0, axis=1)\n",
    "    this_df['not'] = this_df['count'] - this_df['sum']\n",
    "    this_df2 = me_df.groupby(motif).agg({'CTS_TF':'sum'})\n",
    "    this_df2['true_frac'] = this_df2['CTS_TF']/this_df2['CTS_TF'].sum()\n",
    "    this_df['true_frac'] = this_df['sum']/this_df['sum'].sum()\n",
    "    this_df['false_frac'] = this_df['not']/this_df['not'].sum()\n",
    "    # this_df = pd.DataFrame(me_df.groupby(motif)['TF'].sum())\n",
    "    # not_this_df = pd.DataFrame((me_df.groupby(motif)['TF']=='False').sum())\n",
    "    this_df.index.name = 'num hits'\n",
    "    this_df.reset_index(inplace=True)\n",
    "    this_df2.index.name = 'num hits'\n",
    "    this_df2.reset_index(inplace=True)\n",
    "    color = next(ax._get_lines.prop_cycler)['color']\n",
    "    ax.plot(this_df['num hits'], this_df['true_frac'], label=motif, color=color)\n",
    "    ax.plot(this_df['num hits'], this_df['false_frac'], label=f'{motif}_bg', linestyle='--', color=color)\n",
    "    ax.plot(this_df2['num hits'], this_df2['true_frac'], label=f'{motif}_CTS_TF', linestyle=':', color=color)\n",
    "ax.legend()\n",
    "ax.set_xlabel('number of motifs')\n",
    "ax.set_ylabel('number of TFs')\n",
    "    # ax = sns.histplot(x='num hits', y='TF', data=this_df, ax=ax)\n",
    "\n",
    "    #ax = sns.histplot(x='num hits', y='TF', data=this_df, ax=ax)\n",
    "    # sns.histplot(me_df.groupby(motif)['TF'].sum())"
   ]
  },
  {
   "cell_type": "code",
   "execution_count": null,
   "metadata": {},
   "outputs": [],
   "source": [
    "# Could the A enrichment be because they are long?"
   ]
  },
  {
   "cell_type": "code",
   "execution_count": null,
   "metadata": {},
   "outputs": [],
   "source": [
    "me_df.query('CTS_TF')['three_prime_M146_0.6']"
   ]
  },
  {
   "cell_type": "code",
   "execution_count": null,
   "metadata": {},
   "outputs": [],
   "source": [
    "fig = plt.figure()\n",
    "ax = fig.add_subplot(111)\n",
    "for motif in motif_cols:\n",
    "    this_df = me_df.groupby(motif).agg({'TF':['count', 'sum']}).droplevel(level=0, axis=1)\n",
    "    this_df['not'] = this_df['count'] - this_df['sum']\n",
    "    this_df2 = me_df.groupby(motif).agg({'CTS_TF':'sum'})\n",
    "    this_df2['true_frac'] = this_df2['CTS_TF']/this_df2['CTS_TF'].sum()\n",
    "    this_df['true_frac'] = this_df['sum']/this_df['sum'].sum()\n",
    "    this_df['false_frac'] = this_df['not']/this_df['not'].sum()\n",
    "    # this_df = pd.DataFrame(me_df.groupby(motif)['TF'].sum())\n",
    "    # not_this_df = pd.DataFrame((me_df.groupby(motif)['TF']=='False').sum())\n",
    "    this_df.index.name = 'num hits'\n",
    "    this_df.reset_index(inplace=True)\n",
    "    this_df2.index.name = 'num hits'\n",
    "    this_df2.reset_index(inplace=True)\n",
    "    color = next(ax._get_lines.prop_cycler)['color']\n",
    "    ax.plot(this_df['num hits'], this_df['true_frac'], label=motif, color=color)\n",
    "    ax.plot(this_df['num hits'], this_df['false_frac'], label=f'{motif}_bg', linestyle='--', color=color)\n",
    "    ax.plot(this_df2['num hits'], this_df2['true_frac'], label=f'{motif}_CTS_TF', linestyle=':', color=color)\n",
    "ax.legend()\n",
    "ax.set_xlabel('number of motifs')\n",
    "ax.set_ylabel('number of TFs')\n",
    "    # ax = sns.histplot(x='num hits', y='TF', data=this_df, ax=ax)\n",
    "\n",
    "    #ax = sns.histplot(x='num hits', y='TF', data=this_df, ax=ax)\n",
    "    # sns.histplot(me_df.groupby(motif)['TF'].sum())"
   ]
  },
  {
   "cell_type": "code",
   "execution_count": null,
   "metadata": {},
   "outputs": [],
   "source": [
    "for motif in motif_cols:\n",
    "    fig = plt.figure()\n",
    "    ax = fig.add_subplot(111) \n",
    "    ax = sns.violinplot(data=me_df, x=motif, y='log_deg_wins_1')\n",
    "    ax.set_title(motif)\n",
    "    ax.set_ylabel('log deg')\n",
    "    ax.set_xlabel('number of motifs')"
   ]
  },
  {
   "cell_type": "code",
   "execution_count": null,
   "metadata": {},
   "outputs": [],
   "source": [
    "X = me_df[motif_cols].values\n",
    "y = me_df['log_deg_wins_1'].values"
   ]
  },
  {
   "cell_type": "code",
   "execution_count": null,
   "metadata": {},
   "outputs": [],
   "source": [
    "# Try random forest model to see how much the RBP binding sites predict\n",
    "\n",
    "from sklearn.ensemble import RandomForestRegressor\n",
    "from sklearn.model_selection import train_test_split\n",
    "\n",
    "\n",
    "X_train, X_test, y_train, y_test = train_test_split(X, y)\n",
    "clf = RandomForestRegressor()\n",
    "clf.fit(X_train, y_train)"
   ]
  },
  {
   "cell_type": "code",
   "execution_count": null,
   "metadata": {},
   "outputs": [],
   "source": [
    "# Evaluate the model on the test set:\n",
    "from sklearn.metrics import roc_curve, auc\n",
    "# Only SVC and logistic regression has the decision function\n",
    "# Random forest needs to use the predict_proba method\n",
    "# Then ROC curve is made by looking at TP and FP at different prob cutoffs\n",
    "# Should we be using the decision furnction or the predict_proba to make the AUC?\n",
    "y_score = clf.predict_proba(X_test)\n",
    "fpr, tpr, _ = roc_curve(y_test, y_score[:,1])\n",
    "roc_auc = auc(fpr, tpr)\n",
    "print('roc auc', roc_auc)"
   ]
  },
  {
   "cell_type": "code",
   "execution_count": null,
   "metadata": {},
   "outputs": [],
   "source": [
    "clf.score(X_test, y_test)"
   ]
  },
  {
   "cell_type": "code",
   "execution_count": null,
   "metadata": {},
   "outputs": [],
   "source": [
    "motif_cols"
   ]
  },
  {
   "cell_type": "code",
   "execution_count": null,
   "metadata": {},
   "outputs": [],
   "source": [
    "me_df.head()"
   ]
  }
 ],
 "metadata": {
  "kernelspec": {
   "display_name": "Python 3.9.13 ('pretty')",
   "language": "python",
   "name": "python3"
  },
  "language_info": {
   "codemirror_mode": {
    "name": "ipython",
    "version": 3
   },
   "file_extension": ".py",
   "mimetype": "text/x-python",
   "name": "python",
   "nbconvert_exporter": "python",
   "pygments_lexer": "ipython3",
   "version": "3.9.13"
  },
  "vscode": {
   "interpreter": {
    "hash": "bdb49103a4ed208a05ea4530afbe53462c06fafea10c7833b005d674746fdb08"
   }
  }
 },
 "nbformat": 4,
 "nbformat_minor": 2
}
