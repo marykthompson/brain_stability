{
 "cells": [
  {
   "cell_type": "markdown",
   "metadata": {},
   "source": [
    "##### Examples dev TFs\n",
    "- Look up specific TFs involved in development, for example temporal TFs from embryonic NBs\n",
    "- Also look up the pair-rule and gap genes"
   ]
  },
  {
   "cell_type": "code",
   "execution_count": null,
   "metadata": {},
   "outputs": [],
   "source": [
    "#Imports\n",
    "import sys\n",
    "import os\n",
    "import pandas as pd\n",
    "import seaborn as sns\n",
    "import numpy as np\n",
    "\n",
    "sys.path.append('../scripts')\n",
    "from plot_helpers import *\n",
    "from utilities import load_dataset\n",
    "\n",
    "%load_ext autoreload\n",
    "%autoreload 2"
   ]
  },
  {
   "cell_type": "code",
   "execution_count": null,
   "metadata": {},
   "outputs": [],
   "source": [
    "# Manually look up the gene IDs in Flybase v6.32\n",
    "# This corresponse to the NB7-1 lineage, in fig. 1 of Doe review 2017\n",
    "embryo_nb = ['hb', 'svp', 'Kr', 'pdm2', 'nub', 'cas', 'grh']\n",
    "# These from the Syed & Doe eLife paper, 2017\n",
    "larval_nb = ['Imp', 'Syp', 'br', 'chinmo', 'Eip93F', 'svp', 'lin-28']\n",
    "# Additional ones from the Chris Doe review 2017\n",
    "extra_embryo_nb = ['sqz', 'nab']\n",
    "opc_nbs = ['hth', 'klu', 'ey', 'slp1', 'slp2', 'D', 'tll']\n",
    "topc_nbs = ['Dll', 'ey', 'slp1', 'slp2', 'D']\n",
    "mb_nbs = ['Imp', 'chinmo', 'Syp', 'br', 'mir-let7']\n",
    "ad_nbs = ['Imp', 'chinmo', 'Kr', 'Syp']\n",
    "thoracic_nbs = ['Imp', 'chinmo', 'cas', 'svp', 'Syp', 'br']\n",
    "typeII_nbs = ['cas', 'D', 'Imp', 'chinmo', 'lin-28', 'EcR', 'Syp', 'br', 'Eip93F']\n",
    "# pair-rule and gap genes reported by Interactive Fly\n",
    "# Classic set of pair-rule genes doesnt inclue Ten-m\n",
    "pairrule = ['eve', 'ftz', 'h', 'opa', 'odd', 'prd', 'runt', 'slp1', 'slp2', 'Ten-m']\n",
    "pairrule_classic = pairrule.remove('Ten-m')\n",
    "gap = ['btd', 'cnc', 'cad', 'kn', 'croc', 'ems', 'gt', 'hb', 'hkb', 'Kr', 'kni', 'oc', 'slp1', 'slp2', 'tll']\n",
    "\n",
    "genes = {'hb':'FBgn0001180', 'Kr':'FBgn0001325', 'pdm2':'FBgn0004394', 'cas':'FBgn0004878', 'eve':'FBgn0000606', 'ftz':'FBgn0001077', \n",
    "         'h':'FBgn0001168', 'opa':'FBgn0003002', 'odd':'FBgn0002985', 'prd':'FBgn0003145', 'runt':'FBgn0003300', 'slp2':'FBgn0004567', \n",
    "         'slp1':'FBgn0003430', 'Ten-m':'FBgn0004449', 'btd':'FBgn0000233', 'cnc':'FBgn0262975', 'cad':'FBgn0000251', 'kn':'FBgn0001319',\n",
    "         'croc':'FBgn0014143', 'ems':'FBgn0000576', 'gt':'FBgn0001150', 'hb':'FBgn0001180', 'hkb':'FBgn0261434', 'Kr':'FBgn0001325', \n",
    "         'kni':'FBgn0001320', 'oc':'FBgn0004102', 'tll':'FBgn0003720', 'Imp':'FBgn0285926', 'Syp':'FBgn0038826', 'nub':'FBgn0085424', \n",
    "         'grh':'FBgn0259211', 'br':'FBgn0283451', 'chinmo':'FBgn0086758', 'Eip93F':'FBgn0264490', 'svp':'FBgn0003651', 'lin-28':'FBgn0035626',\n",
    "         'sqz':'FBgn0010768', 'nab':'FBgn0259986', 'hth':'FBgn0001235', 'klu':'FBgn0013469', 'ey':'FBgn0005558', 'D':'FBgn0000411', 'tll':'FBgn0003720',\n",
    "         'Dll':'FBgn0000157','mir-let7':'FBgn0262406', 'EcR':'FBgn0000546'}\n",
    "\n",
    "all_nb_factors = set(embryo_nb + extra_embryo_nb + larval_nb + opc_nbs + topc_nbs + mb_nbs + ad_nbs + thoracic_nbs + typeII_nbs)\n",
    "all_pattern_factors = set(pairrule + gap)"
   ]
  },
  {
   "cell_type": "code",
   "execution_count": null,
   "metadata": {},
   "outputs": [],
   "source": [
    "# Import the stability data\n",
    "outdir = '../Figures/Examples'\n",
    "os.makedirs(outdir, exist_ok=True)\n",
    "\n",
    "# Load stability data\n",
    "rate_df = load_dataset('../Figures/summary_files/INSPEcT_rates.csv', '../Figures/summary_files/brain4sU_passed.csv')\n",
    "rate_df['round_halflife'] = rate_df['halflife'].round(0).astype(int)\n",
    "\n",
    "# Here you can see genes that were eliminated due to expression filtering or INSPEcT filtering\n",
    "infile = os.path.join(results_dir, 'gene_quantification','summary_abundance_by_gene_filtered.csv')\n",
    "df = pd.read_csv(infile)\n"
   ]
  },
  {
   "cell_type": "code",
   "execution_count": null,
   "metadata": {},
   "outputs": [],
   "source": [
    "def sort_and_write(df, genelist, outname):\n",
    "    sdf = df[df.index.isin(genelist)].copy()\n",
    "    # sdf['gene_name'] = pd.Categorical(sdf['gene_name'], categories=genelist)\n",
    "    sdf.sort_values(by='gene_name', inplace=True, key=lambda col: col.str.lower())\n",
    "    sdf[['gene_name', 'round_halflife']].to_csv(os.path.join(outdir, '%s.csv' % outname))"
   ]
  },
  {
   "cell_type": "code",
   "execution_count": null,
   "metadata": {},
   "outputs": [],
   "source": [
    "nb_genelist = [genes[i] for i in all_nb_factors]\n",
    "pattern_genelist = [genes[i] for i in all_pattern_factors]\n",
    "\n",
    "sort_and_write(rate_df, nb_genelist, 'nb_stab')\n",
    "sort_and_write(rate_df, pairrule_genelist, 'pattern_stab')"
   ]
  },
  {
   "cell_type": "code",
   "execution_count": null,
   "metadata": {},
   "outputs": [],
   "source": [
    "cts_types = '../Figures/CTS/cts_celltypes.csv'\n",
    "cts_df = pd.read_csv(cts_types, index_col=0)\n",
    "# Because of dropna, this will remove genes haven't mapped to a celltype\n",
    "big_df = pd.merge(rate_df[['deg_rate', 'stab_percentile']], cts_df, left_on='gene', right_index=True, how='left').dropna(subset=['celltype'])\n",
    "big_df['nb_factor'] = big_df.index.isin(nb_genelist)\n",
    "big_df['pattern_factor'] = big_df.index.isin(pattern_genelist)"
   ]
  },
  {
   "cell_type": "code",
   "execution_count": null,
   "metadata": {},
   "outputs": [],
   "source": [
    "# Just add the pattern factor and nb factors to the rate_df\n",
    "rate_df['nb_factor'] = rate_df.index.isin(nb_genelist)\n",
    "rate_df['pattern_factor'] = rate_df.index.isin(pattern_genelist)\n",
    "\n",
    "#Use the Flybase geneset for transcription factor\n",
    "TF_file = '../Figures/genesets/all_TFs.csv'\n",
    "tfs = set(pd.read_csv(TF_file, header=None)[0].values)\n",
    "rate_df['TF'] = rate_df.index.isin(tfs)"
   ]
  },
  {
   "cell_type": "code",
   "execution_count": null,
   "metadata": {},
   "outputs": [],
   "source": [
    "# Check that all these factors (which were manually entered using Flybase 6.32) can be found in the unfiltered dataset\n",
    "to_check = nb_genelist + pattern_genelist\n",
    "assert len(set(to_check)) == len(df.query('gene in @to_check')['gene'].unique())"
   ]
  },
  {
   "cell_type": "code",
   "execution_count": null,
   "metadata": {},
   "outputs": [],
   "source": [
    "# Get RNAs which are regulated temporally in neuroblasts or in pattern formation\n",
    "dfs = []\n",
    "for i in ['nb_factor', 'pattern_factor']:\n",
    "    sdf = rate_df.query(i).copy()\n",
    "    sdf['factor'] = i\n",
    "    dfs.append(sdf)\n",
    "df2 = pd.concat(dfs)\n",
    "df3 = rate_df[~rate_df.index.isin(df2.index)].copy()\n",
    "df3['factor'] = 'none'\n",
    "df4 = pd.concat([df2, df3])"
   ]
  },
  {
   "cell_type": "code",
   "execution_count": null,
   "metadata": {},
   "outputs": [],
   "source": [
    "# https://stackoverflow.com/questions/49612037/combine-overlay-two-factorplots-in-matplotlib\n",
    "fig = plt.figure(figsize=(dfig*1.5, dfig), constrained_layout=True)\n",
    "ax = fig.add_subplot(111)\n",
    "# It doesn't really make sense to plot the background distribution because of the percentile transformation\n",
    "ax = sns.violinplot(data=df2, x='stab_percentile', y='factor', ax=ax, palette=[color_dict['purple'], color_dict['blue']], inner=None)\n",
    "ax = sns.swarmplot(data=df2, x='stab_percentile', y='factor', palette=['black', 'white'], hue='TF', ax=ax, s=3)\n",
    "ax.set_xlabel('stability percentile')\n",
    "ax.set_ylabel('RNA regulated in:')\n",
    "ax.set_yticklabels(['neural fate', 'patterning'])\n",
    "# legend = ax.legend()\n",
    "# frame = legend.get_frame()\n",
    "# frame.set_facecolor(color_dict['grey'])\n",
    "# legend.set_title('TF')\n",
    "# This doesn't work -- if you call ax.legend() again to set the frame to grey, then it also resets the size of the dots\n",
    "# for lh in ax.legend().legendHandles:\n",
    "#     lh._sizes = [3]\n",
    "# frame.set_facecolor(color_dict['grey'])\n",
    "current_handles, current_labels = plt.gca().get_legend_handles_labels()\n",
    "ax.legend(current_handles, ['non-TF', 'TF'], bbox_to_anchor=(0.5, 1.0), loc=8, ncol = 2, facecolor=color_dict['grey'])\n",
    "plt.savefig('%s.%s' % (os.path.join(outdir, 'development_swarm'), out_fmt), dpi = out_dpi)"
   ]
  },
  {
   "cell_type": "markdown",
   "metadata": {},
   "source": [
    "Plot the stability of the NB and pattern factors in the swarm plot using the single cell type separations.\n",
    "This doesn't really make sense though because a lot of the factors aren't there."
   ]
  },
  {
   "cell_type": "code",
   "execution_count": null,
   "metadata": {},
   "outputs": [],
   "source": [
    "# Make a swarmplot of the NB and pattern factors\n",
    "import warnings\n",
    "from plotting_fxns import sc_swarmplot\n",
    "from plotting_fxns import enrich_heatmap\n",
    "\n",
    "# Version of plot with the TFs overlaid in swarmplot form\n",
    "fig = plt.figure(figsize=(dfig*1.6, dfig*1.5))\n",
    "hstart = 0.22\n",
    "h = 0.95 - hstart\n",
    "ax = fig.add_axes((0.35, hstart, 0.29, h))\n",
    "\n",
    "order = big_df.groupby('celltype')['stab_percentile'].median().sort_values().index\n",
    "\n",
    "# Ingnore the seaborn swarm overplotting warning here:\n",
    "with warnings.catch_warnings():\n",
    "    warnings.simplefilter('ignore')\n",
    "    ax = sc_swarmplot(data=big_df, all_genes=rate_df, x='stab_percentile', y='celltype', hue='nb_factor', hue_name='NB factor', order=order, x_lab='stability percentile', \n",
    "                      y_lab='cell type (num genes)', add_n_numbers=False, ax=ax)\n",
    "\n",
    "                      \n",
    "# enrich_heatmap(data=big_df, all_genes=rate_df, x='stab_percentile', y='category', hue='nb_factor', order=order, y_lab1='fraction of genes',\n",
    "#                    y_lab2='-log'r'$_{10}$'' p-value', hstart=0.22, fig=fig, ax=None)\n",
    "# ax.set_xlabel('log'r'$_{10}$'' rate')\n",
    "\n",
    "plt.savefig('%s.%s' % (os.path.join(outdir, 'nbfactor_swarm'), out_fmt), dpi = out_dpi)\n",
    "\n",
    "fig = plt.figure(figsize=(dfig*1.6, dfig*1.5))\n",
    "hstart = 0.22\n",
    "h = 0.95 - hstart\n",
    "ax = fig.add_axes((0.35, hstart, 0.29, h))\n",
    "\n",
    "with warnings.catch_warnings():\n",
    "    warnings.simplefilter('ignore')\n",
    "    ax = sc_swarmplot(data=big_df, all_genes=rate_df, x='stab_percentile', y='celltype', hue='pattern_factor', hue_name='pattern factor', order=order, x_lab='stability percentile', \n",
    "                      y_lab='cell type (num genes)', add_n_numbers=False, ax=ax)\n",
    "\n",
    "plt.savefig('%s.%s' % (os.path.join(outdir, 'patternfactor_swarm'), out_fmt), dpi = out_dpi)"
   ]
  }
 ],
 "metadata": {
  "kernelspec": {
   "display_name": "Python 3.9.13 ('pretty')",
   "language": "python",
   "name": "python3"
  },
  "language_info": {
   "codemirror_mode": {
    "name": "ipython",
    "version": 3
   },
   "file_extension": ".py",
   "mimetype": "text/x-python",
   "name": "python",
   "nbconvert_exporter": "python",
   "pygments_lexer": "ipython3",
   "version": "3.9.13"
  },
  "vscode": {
   "interpreter": {
    "hash": "bdb49103a4ed208a05ea4530afbe53462c06fafea10c7833b005d674746fdb08"
   }
  }
 },
 "nbformat": 4,
 "nbformat_minor": 2
}
