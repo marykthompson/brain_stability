{
 "cells": [
  {
   "cell_type": "markdown",
   "metadata": {},
   "source": [
    "##### Examples dev TFs\n",
    "- Look up specific TFs involved in development, for example temporal TFs from embryonic NBs\n",
    "- Also look up the pair-rule and gap genes\n",
    "- These genes were manually parsed out of reviews and/or Interactive Fly and looked up in Flybase 632"
   ]
  },
  {
   "cell_type": "code",
   "execution_count": null,
   "metadata": {},
   "outputs": [],
   "source": [
    "#Imports\n",
    "import sys\n",
    "import os\n",
    "import pandas as pd\n",
    "import seaborn as sns\n",
    "import numpy as np\n",
    "\n",
    "sys.path.append('../scripts')\n",
    "from plot_helpers import *\n",
    "from utilities import load_dataset\n",
    "\n",
    "%load_ext autoreload\n",
    "%autoreload 2"
   ]
  },
  {
   "cell_type": "code",
   "execution_count": null,
   "metadata": {},
   "outputs": [],
   "source": [
    "# Import the stability data\n",
    "outdir = '../Figures/Examples'\n",
    "os.makedirs(outdir, exist_ok=True)\n",
    "\n",
    "# Load stability data\n",
    "rate_df = load_dataset('../Figures/summary_files/INSPEcT_rates.csv', '../Figures/summary_files/brain4sU_passed.csv')\n",
    "rate_df['round_halflife'] = rate_df['halflife'].round(0).astype(int)\n",
    "\n",
    "# Here you can see genes that were eliminated due to expression filtering or INSPEcT filtering\n",
    "infile = os.path.join(results_dir, 'gene_quantification','summary_abundance_by_gene_filtered.csv')\n",
    "df = pd.read_csv(infile)"
   ]
  },
  {
   "cell_type": "code",
   "execution_count": null,
   "metadata": {},
   "outputs": [],
   "source": [
    "pattern_genelist = pd.read_csv(os.path.join(outdir, 'patterning_genes_628.csv'), header=None)[0].values\n",
    "nb_genelist = pd.read_csv(os.path.join(outdir, 'neuraldev_genes_628.csv'), header=None)[0].values\n",
    "segpol_genelist = pd.read_csv(os.path.join(outdir, 'segpol_genes_628.csv'), header=None)[0].values"
   ]
  },
  {
   "cell_type": "code",
   "execution_count": null,
   "metadata": {},
   "outputs": [],
   "source": [
    "def sort_and_write(df, genelist, outname):\n",
    "    sdf = df[df.index.isin(genelist)].copy()\n",
    "    # sdf['gene_name'] = pd.Categorical(sdf['gene_name'], categories=genelist)\n",
    "    sdf.sort_values(by='gene_name', inplace=True, key=lambda col: col.str.lower())\n",
    "    sdf[['gene_name', 'round_halflife']].to_csv(os.path.join(outdir, '%s.csv' % outname))\n",
    "\n",
    "sort_and_write(rate_df, nb_genelist, 'nb_stab')\n",
    "sort_and_write(rate_df, pattern_genelist, 'pattern_stab')"
   ]
  },
  {
   "cell_type": "code",
   "execution_count": null,
   "metadata": {},
   "outputs": [],
   "source": [
    "# Just add the pattern factor and nb factors to the rate_df\n",
    "rate_df['nb_factor'] = rate_df.index.isin(nb_genelist)\n",
    "rate_df['pattern_factor'] = rate_df.index.isin(pattern_genelist)\n",
    "rate_df['segpol_factor'] = rate_df.index.isin(segpol_genelist)\n",
    "\n",
    "#Use the Flybase geneset for transcription factor\n",
    "TF_file = '../Figures/genesets/all_TFs.csv'\n",
    "tfs = set(pd.read_csv(TF_file, header=None)[0].values)\n",
    "rate_df['TF'] = rate_df.index.isin(tfs)"
   ]
  },
  {
   "cell_type": "code",
   "execution_count": null,
   "metadata": {},
   "outputs": [],
   "source": [
    "# Get RNAs which are regulated temporally in neuroblasts or in pattern formation\n",
    "# Genes will appear multiple times if belong to multiple groups\n",
    "dfs = []\n",
    "for i in ['nb_factor', 'pattern_factor', 'segpol_factor']:\n",
    "    sdf = rate_df.query(i).copy()\n",
    "    sdf['factor'] = i\n",
    "    dfs.append(sdf)\n",
    "df2 = pd.concat(dfs)"
   ]
  },
  {
   "cell_type": "code",
   "execution_count": null,
   "metadata": {},
   "outputs": [],
   "source": [
    "# Need to drop ones which are only seg_pol factor\n",
    "df3 = df2.query('~segpol_factor').copy()"
   ]
  },
  {
   "cell_type": "code",
   "execution_count": null,
   "metadata": {},
   "outputs": [],
   "source": [
    "# Swarm plot of patterning and neural fate genes, with segment polarity excluded\n",
    "fig = plt.figure(figsize=(dfig*1.5, dfig), constrained_layout=True)\n",
    "ax = fig.add_subplot(111)\n",
    "# It doesn't really make sense to plot the background distribution because of the percentile transformation\n",
    "ax = sns.violinplot(data=df3, x='stab_percentile', y='factor', ax=ax, palette=[color_dict['purple'], color_dict['blue']], inner=None)\n",
    "ax = sns.swarmplot(data=df3, x='stab_percentile', y='factor', palette=['black', 'white'], hue='TF', ax=ax, s=2)\n",
    "ax.set_xlabel('stability percentile')\n",
    "ax.set_ylabel('RNA regulated in:')\n",
    "ax.set_yticklabels(['neural fate', 'patterning'])\n",
    "current_handles, current_labels = plt.gca().get_legend_handles_labels()\n",
    "ax.legend(current_handles, ['non-TF', 'TF'], bbox_to_anchor=(0.5, 1.0), loc=8, ncol = 2, facecolor=color_dict['grey'])\n",
    "plt.savefig('%s.%s' % (os.path.join(outdir, 'development_swarm1'), out_fmt), dpi = out_dpi)"
   ]
  },
  {
   "cell_type": "code",
   "execution_count": null,
   "metadata": {},
   "outputs": [],
   "source": [
    "# https://stackoverflow.com/questions/49612037/combine-overlay-two-factorplots-in-matplotlib\n",
    "fig = plt.figure(figsize=(dfig*1.5, dfig), constrained_layout=True)\n",
    "ax = fig.add_subplot(111)\n",
    "# It doesn't really make sense to plot the background distribution because of the percentile transformation\n",
    "ax = sns.violinplot(data=df2, x='stab_percentile', y='factor', ax=ax, palette=[color_dict['purple'], color_dict['blue']], inner=None)\n",
    "ax = sns.swarmplot(data=df2, x='stab_percentile', y='factor', palette=['black', 'white'], hue='TF', ax=ax, s=2)\n",
    "ax.set_xlabel('stability percentile')\n",
    "ax.set_ylabel('RNA regulated in:')\n",
    "ax.set_yticklabels(['neural fate', 'patterning', 'segment polarity'])\n",
    "# legend = ax.legend()\n",
    "# frame = legend.get_frame()\n",
    "# frame.set_facecolor(color_dict['grey'])\n",
    "# legend.set_title('TF')\n",
    "# This doesn't work -- if you call ax.legend() again to set the frame to grey, then it also resets the size of the dots\n",
    "# for lh in ax.legend().legendHandles:\n",
    "#     lh._sizes = [3]\n",
    "# frame.set_facecolor(color_dict['grey'])\n",
    "current_handles, current_labels = plt.gca().get_legend_handles_labels()\n",
    "ax.legend(current_handles, ['non-TF', 'TF'], bbox_to_anchor=(0.5, 1.0), loc=8, ncol = 2, facecolor=color_dict['grey'])\n",
    "plt.savefig('%s.%s' % (os.path.join(outdir, 'development_swarm2'), out_fmt), dpi = out_dpi)"
   ]
  },
  {
   "cell_type": "code",
   "execution_count": null,
   "metadata": {},
   "outputs": [],
   "source": [
    "# What is the overlap of the neural_fate group and the patterning group?\n",
    "reused_genes = df2.query('nb_factor').index.intersection(df2.query('pattern_factor').index)"
   ]
  },
  {
   "cell_type": "code",
   "execution_count": null,
   "metadata": {},
   "outputs": [],
   "source": [
    "df2.loc[reused_genes]"
   ]
  },
  {
   "cell_type": "markdown",
   "metadata": {},
   "source": [
    "Plot the stability of the NB and pattern factors in the swarm plot using the single cell type separations.\n",
    "This doesn't really make sense though because a lot of the factors aren't there."
   ]
  },
  {
   "cell_type": "code",
   "execution_count": null,
   "metadata": {},
   "outputs": [],
   "source": [
    "cts_types = '../Figures/CTS/cts_celltypes.csv'\n",
    "cts_df = pd.read_csv(cts_types, index_col=0)\n",
    "# Because of dropna, this will remove genes haven't mapped to a celltype\n",
    "big_df = pd.merge(rate_df[['deg_rate', 'stab_percentile']], cts_df, left_on='gene', right_index=True, how='left').dropna(subset=['celltype'])\n",
    "big_df['nb_factor'] = big_df.index.isin(nb_genelist)\n",
    "big_df['pattern_factor'] = big_df.index.isin(pattern_genelist)\n",
    "\n",
    "# Make a swarmplot of the NB and pattern factors\n",
    "import warnings\n",
    "from plotting_fxns import sc_swarmplot\n",
    "from plotting_fxns import enrich_heatmap\n",
    "\n",
    "# Version of plot with the TFs overlaid in swarmplot form\n",
    "fig = plt.figure(figsize=(dfig*1.6, dfig*1.5))\n",
    "hstart = 0.22\n",
    "h = 0.95 - hstart\n",
    "ax = fig.add_axes((0.35, hstart, 0.29, h))\n",
    "\n",
    "order = big_df.groupby('celltype')['stab_percentile'].median().sort_values().index\n",
    "\n",
    "# Ingnore the seaborn swarm overplotting warning here:\n",
    "with warnings.catch_warnings():\n",
    "    warnings.simplefilter('ignore')\n",
    "    ax = sc_swarmplot(data=big_df, all_genes=rate_df, x='stab_percentile', y='celltype', hue='nb_factor', hue_name='NB factor', order=order, x_lab='stability percentile', \n",
    "                      y_lab='cell type (num genes)', add_n_numbers=False, ax=ax)\n",
    "\n",
    "                      \n",
    "# enrich_heatmap(data=big_df, all_genes=rate_df, x='stab_percentile', y='category', hue='nb_factor', order=order, y_lab1='fraction of genes',\n",
    "#                    y_lab2='-log'r'$_{10}$'' p-value', hstart=0.22, fig=fig, ax=None)\n",
    "# ax.set_xlabel('log'r'$_{10}$'' rate')\n",
    "\n",
    "plt.savefig('%s.%s' % (os.path.join(outdir, 'nbfactor_swarm'), out_fmt), dpi = out_dpi)\n",
    "\n",
    "fig = plt.figure(figsize=(dfig*1.6, dfig*1.5))\n",
    "hstart = 0.22\n",
    "h = 0.95 - hstart\n",
    "ax = fig.add_axes((0.35, hstart, 0.29, h))\n",
    "\n",
    "with warnings.catch_warnings():\n",
    "    warnings.simplefilter('ignore')\n",
    "    ax = sc_swarmplot(data=big_df, all_genes=rate_df, x='stab_percentile', y='celltype', hue='pattern_factor', hue_name='pattern factor', order=order, x_lab='stability percentile', \n",
    "                      y_lab='cell type (num genes)', add_n_numbers=False, ax=ax)\n",
    "\n",
    "plt.savefig('%s.%s' % (os.path.join(outdir, 'patternfactor_swarm'), out_fmt), dpi = out_dpi)"
   ]
  }
 ],
 "metadata": {
  "kernelspec": {
   "display_name": "Python 3.9.13 ('pretty')",
   "language": "python",
   "name": "python3"
  },
  "language_info": {
   "codemirror_mode": {
    "name": "ipython",
    "version": 3
   },
   "file_extension": ".py",
   "mimetype": "text/x-python",
   "name": "python",
   "nbconvert_exporter": "python",
   "pygments_lexer": "ipython3",
   "version": "3.9.13"
  },
  "vscode": {
   "interpreter": {
    "hash": "bdb49103a4ed208a05ea4530afbe53462c06fafea10c7833b005d674746fdb08"
   }
  }
 },
 "nbformat": 4,
 "nbformat_minor": 2
}
