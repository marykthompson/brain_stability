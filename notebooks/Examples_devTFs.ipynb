{
 "cells": [
  {
   "cell_type": "markdown",
   "metadata": {},
   "source": [
    "##### Examples dev TFs\n",
    "- Look up specific TFs involved in development, for example temporal TFs from embryonic NBs\n",
    "- Also look up the pair-rule and gap genes\n",
    "- These genes were manually parsed out of reviews and/or Interactive Fly and looked up in Flybase 632"
   ]
  },
  {
   "cell_type": "code",
   "execution_count": null,
   "metadata": {},
   "outputs": [],
   "source": [
    "#Imports\n",
    "import sys\n",
    "import os\n",
    "import pandas as pd\n",
    "import seaborn as sns\n",
    "import numpy as np\n",
    "\n",
    "sys.path.append('../scripts')\n",
    "from plot_helpers import *\n",
    "from utilities import load_dataset\n",
    "\n",
    "%load_ext autoreload\n",
    "%autoreload 2"
   ]
  },
  {
   "cell_type": "code",
   "execution_count": null,
   "metadata": {},
   "outputs": [],
   "source": [
    "# Import the stability data\n",
    "outdir = '../Figures/Examples'\n",
    "os.makedirs(outdir, exist_ok=True)\n",
    "\n",
    "# Load stability data\n",
    "rate_df = load_dataset('../Figures/summary_files/INSPEcT_rates.csv', '../Figures/summary_files/brain4sU_passed.csv')\n",
    "rate_df['round_halflife'] = rate_df['halflife'].round(0).astype(int)\n",
    "\n",
    "# Here you can see genes that were eliminated due to expression filtering or INSPEcT filtering\n",
    "infile = os.path.join(results_dir, 'gene_quantification','summary_abundance_by_gene_filtered.csv')\n",
    "df = pd.read_csv(infile)"
   ]
  },
  {
   "cell_type": "code",
   "execution_count": null,
   "metadata": {},
   "outputs": [],
   "source": [
    "me_df = pd.read_csv('../Figures/Devreg/gene_cat_me3.csv', index_col='gene')\n",
    "me_df['me3'] = me_df['category'] == 'updowngene'"
   ]
  },
  {
   "cell_type": "code",
   "execution_count": null,
   "metadata": {},
   "outputs": [],
   "source": [
    "(me_df.index == rate_df.index).all()"
   ]
  },
  {
   "cell_type": "code",
   "execution_count": null,
   "metadata": {},
   "outputs": [],
   "source": [
    "indir1 = '../../resources/'\n",
    "pattern_genelist = pd.read_csv(os.path.join(indir1, 'patterning_genes_628.csv'), header=None)[0].values\n",
    "nb_genelist = pd.read_csv(os.path.join(indir1, 'neuraldev_genes_628.csv'), header=None)[0].values\n",
    "segpol_genelist = pd.read_csv(os.path.join(indir1, 'segpol_genes_628.csv'), header=None)[0].values"
   ]
  },
  {
   "cell_type": "code",
   "execution_count": null,
   "metadata": {},
   "outputs": [],
   "source": [
    "def sort_and_write(df, genelist, outname):\n",
    "    sdf = df[df.index.isin(genelist)].copy()\n",
    "    sdf.sort_values(by='gene_name', inplace=True, key=lambda col: col.str.lower())\n",
    "    sdf[['gene_name', 'round_halflife']].to_csv(os.path.join(outdir, '%s.csv' % outname))\n",
    "\n",
    "sort_and_write(rate_df, nb_genelist, 'nb_stab')\n",
    "sort_and_write(rate_df, pattern_genelist, 'pattern_stab')"
   ]
  },
  {
   "cell_type": "code",
   "execution_count": null,
   "metadata": {},
   "outputs": [],
   "source": [
    "# Just add the pattern factor and nb factors to the rate_df\n",
    "me_df['nb_factor'] = me_df.index.isin(nb_genelist)\n",
    "me_df['pattern_factor'] = me_df.index.isin(pattern_genelist)\n",
    "me_df['segpol_factor'] = me_df.index.isin(segpol_genelist)"
   ]
  },
  {
   "cell_type": "code",
   "execution_count": null,
   "metadata": {},
   "outputs": [],
   "source": [
    "# Get RNAs which are regulated temporally in neuroblasts or in pattern formation\n",
    "# Genes will appear multiple times if belong to multiple groups\n",
    "dfs = []\n",
    "for i in ['nb_factor', 'pattern_factor', 'segpol_factor']:\n",
    "    sdf = me_df.query(i).copy()\n",
    "    sdf['factor'] = i\n",
    "    dfs.append(sdf)\n",
    "df2 = pd.concat(dfs)"
   ]
  },
  {
   "cell_type": "code",
   "execution_count": null,
   "metadata": {},
   "outputs": [],
   "source": [
    "# Need to drop ones which are only seg_pol factor\n",
    "df3 = df2.query('~segpol_factor').copy()"
   ]
  },
  {
   "cell_type": "code",
   "execution_count": null,
   "metadata": {},
   "outputs": [],
   "source": [
    "# Plot the developmental TFs and their stability\n",
    "fig = plt.figure(figsize=(dfig*1.5, dfig), constrained_layout=True)\n",
    "ax = fig.add_subplot(111)\n",
    "order = ['nb_factor', 'pattern_factor']\n",
    "order2 = ['neural fate', 'patterning']\n",
    "ax = sns.swarmplot(data=df3, x='stab_percentile', y='factor', palette=['black', color_dict['grey']], hue='TF',\n",
    "                   order=order, ax=ax, s=4)\n",
    "gene_nums = df3['factor'].value_counts().loc[order]\n",
    "new_labels = [f'{i}\\n(n = {j})' for i,j in zip(order2, gene_nums)]\n",
    "\n",
    "offsets0 = ax.collections[0].get_offsets()\n",
    "offsets1 = ax.collections[1].get_offsets()\n",
    "offsets = np.vstack([offsets0, offsets1])\n",
    "df3['pt_idx'] = df3['stab_percentile'].apply(lambda x: (np.abs(offsets[:, 0] - x)).argmin())\n",
    "df3[['x_pos', 'y_pos']] = offsets[df3['pt_idx']]\n",
    "ax.scatter(df3.query('me3')['x_pos'], df3.query('me3')['y_pos'], ec=color_dict['purple'], linewidth=0.7, zorder=10, label='me3')\n",
    "h, l = ax.get_legend_handles_labels()\n",
    "for i in h:\n",
    "    i.set_sizes([30])\n",
    "ax.legend(h, ['non-TF', 'TF', 'me3'])\n",
    "ax.set_yticklabels(new_labels)\n",
    "ax.set_xlabel('stability percentile')\n",
    "ax.set_ylabel('process')\n",
    "plt.savefig('%s.%s' % (os.path.join(outdir, 'development_swarm0'), out_fmt), dpi = out_dpi)"
   ]
  },
  {
   "cell_type": "code",
   "execution_count": null,
   "metadata": {},
   "outputs": [],
   "source": [
    "# Swarm plot of patterning and neural fate genes, with segment polarity excluded\n",
    "fig = plt.figure(figsize=(dfig*1.5, dfig), constrained_layout=True)\n",
    "ax = fig.add_subplot(111)\n",
    "# It doesn't really make sense to plot the background distribution because of the percentile transformation\n",
    "ax = sns.violinplot(data=df3, x='stab_percentile', y='factor', ax=ax, palette=[color_dict['purple'], color_dict['blue']], inner=None)\n",
    "ax = sns.swarmplot(data=df3, x='stab_percentile', y='factor', palette=['black', 'white'], hue='TF', ax=ax, s=2)\n",
    "ax.set_xlabel('stability percentile')\n",
    "ax.set_ylabel('RNA regulated in:')\n",
    "ax.set_yticklabels(['neural fate', 'patterning'])\n",
    "current_handles, current_labels = plt.gca().get_legend_handles_labels()\n",
    "ax.legend(current_handles, ['non-TF', 'TF'], bbox_to_anchor=(0.5, 1.0), loc=8, ncol = 2, facecolor=color_dict['grey'])\n",
    "plt.savefig('%s.%s' % (os.path.join(outdir, 'development_swarm1'), out_fmt), dpi = out_dpi)"
   ]
  },
  {
   "cell_type": "code",
   "execution_count": null,
   "metadata": {},
   "outputs": [],
   "source": [
    "# https://stackoverflow.com/questions/49612037/combine-overlay-two-factorplots-in-matplotlib\n",
    "fig = plt.figure(figsize=(dfig*1.5, dfig), constrained_layout=True)\n",
    "ax = fig.add_subplot(111)\n",
    "# It doesn't really make sense to plot the background distribution because of the percentile transformation\n",
    "ax = sns.violinplot(data=df2, x='stab_percentile', y='factor', ax=ax, palette=[color_dict['purple'], color_dict['blue']], inner=None)\n",
    "ax = sns.swarmplot(data=df2, x='stab_percentile', y='factor', palette=['black', 'white'], hue='TF', ax=ax, s=2)\n",
    "ax.set_xlabel('stability percentile')\n",
    "ax.set_ylabel('RNA regulated in:')\n",
    "ax.set_yticklabels(['neural fate', 'patterning', 'segment polarity'])\n",
    "current_handles, current_labels = plt.gca().get_legend_handles_labels()\n",
    "ax.legend(current_handles, ['non-TF', 'TF'], bbox_to_anchor=(0.5, 1.0), loc=8, ncol = 2, facecolor=color_dict['grey'])\n",
    "plt.savefig('%s.%s' % (os.path.join(outdir, 'development_swarm2'), out_fmt), dpi = out_dpi)"
   ]
  },
  {
   "cell_type": "code",
   "execution_count": null,
   "metadata": {},
   "outputs": [],
   "source": [
    "# What is the overlap of the neural_fate group and the patterning group?\n",
    "reused_genes = df2.query('nb_factor').index.intersection(df2.query('pattern_factor').index)"
   ]
  }
 ],
 "metadata": {
  "kernelspec": {
   "display_name": "Python 3.9.13 ('pretty')",
   "language": "python",
   "name": "python3"
  },
  "language_info": {
   "codemirror_mode": {
    "name": "ipython",
    "version": 3
   },
   "file_extension": ".py",
   "mimetype": "text/x-python",
   "name": "python",
   "nbconvert_exporter": "python",
   "pygments_lexer": "ipython3",
   "version": "3.9.13"
  },
  "vscode": {
   "interpreter": {
    "hash": "bdb49103a4ed208a05ea4530afbe53462c06fafea10c7833b005d674746fdb08"
   }
  }
 },
 "nbformat": 4,
 "nbformat_minor": 2
}
