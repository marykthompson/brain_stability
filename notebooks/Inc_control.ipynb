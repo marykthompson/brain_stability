{
 "cells": [
  {
   "cell_type": "markdown",
   "id": "laughing-jones",
   "metadata": {},
   "source": [
    "#### Inc Control, S1\n",
    "- Look at the changes after 60 min of incubation\n",
    "- If largely unchanged, then it suggests it will be OK to use the incubation conditions as pseudo-steady-state"
   ]
  },
  {
   "cell_type": "code",
   "execution_count": null,
   "id": "negative-contamination",
   "metadata": {},
   "outputs": [],
   "source": [
    "import os\n",
    "import pandas as pd\n",
    "import sys\n",
    "import numpy as np\n",
    "import scipy.stats as stats\n",
    "import matplotlib.ticker as plticker\n",
    "\n",
    "sys.path.append('../scripts')\n",
    "from plot_helpers import *\n",
    "from plotting_fxns import *\n",
    "from utilities import load_dataset\n",
    "\n",
    "%load_ext autoreload\n",
    "%autoreload 2\n",
    "\n",
    "outdir = '../Figures/IncTest'\n",
    "os.makedirs(outdir, exist_ok = True)"
   ]
  },
  {
   "cell_type": "code",
   "execution_count": null,
   "id": "sweet-directory",
   "metadata": {},
   "outputs": [],
   "source": [
    "# The _filtered.csv file already has the spike-ins and rRNA genes removed\n",
    "res_file = os.path.join(results_dir_inctest, 'gene_quantification','summary_abundance_by_gene_filtered.csv')\n",
    "df1 = load_dataset(res_file, '../Figures/summary_files/brainInc_mock_passed.csv')\n",
    "# get the means by experiment\n",
    "mean_df1 = df1.groupby(['gene', 'condition', 'RNAtype']).mean()\n",
    "df2 = load_dataset(res_file, '../Figures/summary_files/brainInc_foursu_passed.csv')\n",
    "# get the means by experiment\n",
    "mean_df2 = df2.groupby(['gene', 'condition', 'RNAtype']).mean()"
   ]
  },
  {
   "cell_type": "code",
   "execution_count": null,
   "id": "a5ac4ffd",
   "metadata": {},
   "outputs": [],
   "source": [
    "# Compare the 60 min input samples to the 0 min input samples\n",
    "val_col = 'summed_tpm_recalc'\n",
    "experiments_mock = [{'condition':'0mock', 'RNAtype':'input'}, {'condition':'60mock', 'RNAtype':'input'}]\n",
    "experiments_foursu = [{'condition':'0mock', 'RNAtype':'input'}, {'condition':'60foursu', 'RNAtype':'input'}]\n",
    "limits = {'x':{'left':-2}, 'y':{'bottom':-2}}\n",
    "loc2 = plticker.MultipleLocator(base=2.0)\n",
    "\n",
    "mock_cdf = compare_experiments(mean_df1.reset_index(), experiments=experiments_mock, id_col='gene', val_col=val_col, pseudo='min', log=True)\n",
    "fig = plt.figure(figsize=(dfig, dfig), constrained_layout=True)\n",
    "ax = fig.add_subplot(111)\n",
    "ax = plot_scatter(mock_cdf, experiments=['summed_tpm_recalc_x', 'summed_tpm_recalc_y'], id_col='gene',\n",
    "            xlabel='0 min inc. RNA level\\n (log'r'$_{10}$'' TPM)', ylabel='60 min inc. RNA level\\n (log'r'$_{10}$'' TPM)', rsquare=True,\n",
    "            histscatter=True, same_max=True, limits=limits, loc=loc2, ax=ax)\n",
    "ax.set_aspect('equal')\n",
    "ax.set_ylabel(ax.get_ylabel(), loc='bottom', ma='center')\n",
    "plt.savefig('%s.%s' % (os.path.join(outdir, '60vs0mock_histscat'), out_fmt), dpi = out_dpi)\n",
    "\n",
    "# Compare the 60 min foursu input samples to the 0 min input samples\n",
    "foursu_cdf = compare_experiments(mean_df2.reset_index(), experiments=experiments_foursu, id_col='gene', val_col=val_col, pseudo='min', log=True)\n",
    "fig = plt.figure(figsize=(dfig, dfig), constrained_layout=True)\n",
    "ax = fig.add_subplot(111)\n",
    "ax = plot_scatter(foursu_cdf, experiments=['summed_tpm_recalc_x', 'summed_tpm_recalc_y'], id_col='gene',\n",
    "            xlabel='0 min inc. RNA level\\n (log'r'$_{10}$'' TPM)', ylabel='60 min inc. +4sU RNA\\nlevel (log'r'$_{10}$'' TPM)', rsquare=True,\n",
    "            histscatter=True, limits=limits, same_max=True, loc=loc2, ax=ax)\n",
    "ax.set_aspect('equal')\n",
    "ax.set_ylabel(ax.get_ylabel(), loc='bottom', ma='center')\n",
    "plt.savefig('%s.%s' % (os.path.join(outdir, '60vs0foursu_histscat'), out_fmt), dpi = out_dpi)"
   ]
  },
  {
   "cell_type": "code",
   "execution_count": null,
   "id": "de2bb793",
   "metadata": {},
   "outputs": [],
   "source": [
    "# Calculate the k3/k2 (deg/proc) ratios using the P/M ratio (as discussed in Furlan et al., 2020, Fig. 1B)\n",
    "inspectminus_dir = '/Users/mk/Desktop/Davislab/3.10_brain_stability/brain_results/brain_inctest2_inspect_minus'\n",
    "\n",
    "mature_df = pd.read_csv(os.path.join(inspectminus_dir, 'mature.csv'), index_col=0)\n",
    "premature_df = pd.read_csv(os.path.join(inspectminus_dir, 'premature.csv'), index_col=0)\n",
    "PM_df = premature_df/mature_df\n",
    "PM_df_log = PM_df.apply(np.log10).replace([np.inf, -np.inf], np.nan).dropna()\n",
    "passed_genes_mock = pd.read_csv('../Figures/summary_files/brainInc_mock_passed.csv', header=None)[0]\n",
    "passed_genes_foursu = pd.read_csv('../Figures/summary_files/brainInc_foursu_passed.csv', header=None)[0]\n",
    "PM_df1 = PM_df[PM_df.index.isin(passed_genes_mock)].copy()\n",
    "PM_df2 = PM_df[PM_df.index.isin(passed_genes_foursu)].copy()\n",
    "PM_df_log1 = PM_df_log[PM_df_log.index.isin(passed_genes_mock)].copy()\n",
    "PM_df_log2 = PM_df_log[PM_df_log.index.isin(passed_genes_foursu)].copy()"
   ]
  },
  {
   "cell_type": "code",
   "execution_count": null,
   "id": "4fa723d4",
   "metadata": {},
   "outputs": [],
   "source": [
    "# Compare k3/k2 ratios between samples\n",
    "val_col = 'summed_tpm_recalc'\n",
    "experiments_mock = [{'condition':'0mock', 'RNAtype':'input'}, {'condition':'60mock', 'RNAtype':'input'}]\n",
    "experiments_foursu = [{'condition':'0mock', 'RNAtype':'input'}, {'condition':'60foursu', 'RNAtype':'input'}]\n",
    "# limits = {'x':{'left':-2}, 'y':{'bottom':-2}}\n",
    "limits = None\n",
    "loc = None\n",
    "\n",
    "fig = plt.figure(figsize=(dfig, dfig), constrained_layout=True)\n",
    "ax = fig.add_subplot(111)\n",
    "ax = plot_scatter(PM_df_log1.reset_index(), experiments=['0mock', '60mock'], id_col='index',\n",
    "            xlabel='0 min inc.\\ndeg / proc rate', ylabel='60 min inc.\\ndeg / proc rate', rsquare=True,\n",
    "            histscatter=True, same_max=True, limits=limits, loc=loc2, ax=ax)\n",
    "ax.set_aspect('equal')\n",
    "# ax.set_ylabel(ax.get_ylabel(), loc='bottom', ma='center')\n",
    "plt.savefig('%s.%s' % (os.path.join(outdir, '60vs0mock_histscat_PM'), out_fmt), dpi = out_dpi)\n",
    "\n",
    "fig = plt.figure(figsize=(dfig, dfig), constrained_layout=True)\n",
    "ax = fig.add_subplot(111)\n",
    "ax = plot_scatter(PM_df_log1.reset_index(), experiments=['0mock', '60foursu'], id_col='index',\n",
    "            xlabel='0 min inc.\\ndeg / proc rate', \n",
    "            ylabel='60 min inc. +4sU\\ndeg / proc rate', rsquare=True,\n",
    "            histscatter=True, same_max=True, limits=limits, loc=loc2, ax=ax)\n",
    "ax.set_aspect('equal')\n",
    "# ax.set_ylabel(ax.get_ylabel(), loc='bottom', ma='center')\n",
    "plt.savefig('%s.%s' % (os.path.join(outdir, '60vs0foursu_histscat_PM'), out_fmt), dpi = out_dpi)"
   ]
  }
 ],
 "metadata": {
  "kernelspec": {
   "display_name": "Python 3.9.13 ('pretty')",
   "language": "python",
   "name": "python3"
  },
  "language_info": {
   "codemirror_mode": {
    "name": "ipython",
    "version": 3
   },
   "file_extension": ".py",
   "mimetype": "text/x-python",
   "name": "python",
   "nbconvert_exporter": "python",
   "pygments_lexer": "ipython3",
   "version": "3.9.13"
  },
  "vscode": {
   "interpreter": {
    "hash": "bdb49103a4ed208a05ea4530afbe53462c06fafea10c7833b005d674746fdb08"
   }
  }
 },
 "nbformat": 4,
 "nbformat_minor": 5
}
