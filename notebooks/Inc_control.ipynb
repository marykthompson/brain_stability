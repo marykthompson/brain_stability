{
 "cells": [
  {
   "cell_type": "markdown",
   "id": "laughing-jones",
   "metadata": {},
   "source": [
    "#### Inc Control, S1\n",
    "- Look at the changes after 60 min of incubation\n",
    "- If largely unchanged, then it suggests it will be OK to use the incubation conditions as pseudo-steady-state"
   ]
  },
  {
   "cell_type": "code",
   "execution_count": null,
   "id": "negative-contamination",
   "metadata": {},
   "outputs": [],
   "source": [
    "import os\n",
    "import pandas as pd\n",
    "import sys\n",
    "import numpy as np\n",
    "import scipy.stats as stats\n",
    "import matplotlib.ticker as plticker\n",
    "\n",
    "sys.path.append('../scripts')\n",
    "from plot_helpers import *\n",
    "from utilities import load_dataset\n",
    "\n",
    "%load_ext autoreload\n",
    "%autoreload 2\n",
    "\n",
    "outdir = '../Figures/IncTest'\n",
    "os.makedirs(outdir, exist_ok = True)"
   ]
  },
  {
   "cell_type": "code",
   "execution_count": null,
   "id": "sweet-directory",
   "metadata": {},
   "outputs": [],
   "source": [
    "#The _filtered.csv file already has the spike-ins and rRNA genes removed\n",
    "res_file = os.path.join(results_dir_inctest, 'gene_quantification','summary_abundance_by_gene_filtered.csv')\n",
    "df = load_dataset(res_file, '../Figures/summary_files/brainInc_passed.csv')\n",
    "#calculate gene CPM\n",
    "df['CPM'] = df['summed_est_counts']*1e6/df.groupby(['replicate', 'condition', 'RNAtype'])['summed_est_counts'].transform('sum')\n",
    "#get the means by experiment\n",
    "mean_df = df.groupby(['gene', 'condition', 'RNAtype']).mean()\n",
    "#once you log transform, get np.inf and -np.inf, then you have the issue where if you drop, then you can drop rows in >1 experiment\n",
    "mean_df['log_tpm'] = mean_df['summed_tpm_recalc'].apply(np.log10)\n",
    "mean_df['log_tpm'].replace([np.inf, -np.inf], np.nan, inplace=True)\n",
    "mean_df.dropna(subset=['log_tpm'], how='any', inplace=True)"
   ]
  },
  {
   "cell_type": "code",
   "execution_count": null,
   "id": "dirty-duplicate",
   "metadata": {},
   "outputs": [],
   "source": [
    "#Compare the 60 min input samples to the 0 min input samples\n",
    "df_0 = mean_df.loc[pd.IndexSlice[:, '0mock', 'input'], ['CPM', 'summed_tpm_recalc', 'log_tpm']].copy()\n",
    "df_60 = mean_df.loc[pd.IndexSlice[:, '60mock', 'input'], ['CPM', 'summed_tpm_recalc', 'log_tpm']].copy()\n",
    "comp_df = pd.merge(df_0.reset_index('condition'), df_60.reset_index('condition'), left_index=True, right_index=True, suffixes=('_0min', '_60min'))\n",
    "comp_df.dropna(subset=['summed_tpm_recalc_0min', 'summed_tpm_recalc_60min'], how='any', inplace=True)\n",
    "#restrict to genes with mean CPM >=1 over each condition\n",
    "comp_df = comp_df[(comp_df['CPM_0min'] >= 1) & (comp_df['CPM_60min'] >= 1)].copy()"
   ]
  },
  {
   "cell_type": "code",
   "execution_count": null,
   "id": "military-premiere",
   "metadata": {},
   "outputs": [],
   "source": [
    "#Plot the correlation between the 0 min and 60 min incubation libraries\n",
    "fig = plt.figure(figsize=(dfig, dfig), constrained_layout=True)\n",
    "ax = fig.add_subplot(111)\n",
    "x = comp_df.loc[pd.IndexSlice[:, 'input'], 'log_tpm_0min']\n",
    "y = comp_df.loc[pd.IndexSlice[:, 'input'], 'log_tpm_60min']\n",
    "ax.scatter(x, y, s=2, color='k', alpha=0.3, ec='none')\n",
    "\n",
    "rval, pval = stats.pearsonr(x, y)\n",
    "r2_val_av = rval**2\n",
    "loc = plticker.MultipleLocator(base=5.0)\n",
    "ax.xaxis.set_major_locator(loc)\n",
    "ax.yaxis.set_major_locator(loc)\n",
    "ax.text(0.1, 0.9, 'r'r'$^2$'' = %1.2f' % r2_val_av, fontsize = 8, transform=ax.transAxes)\n",
    "ax.set_xlabel('0 min inc. RNA level\\n (log'r'$_{10}$'' TPM)')\n",
    "ax.set_ylabel('60 min inc. RNA level\\n (log'r'$_{10}$'' TPM)')\n",
    "plt.savefig('%s.%s' % (os.path.join(outdir, '60vs0_scatter'), out_fmt), dpi = out_dpi)"
   ]
  },
  {
   "cell_type": "code",
   "execution_count": null,
   "id": "cathedral-parking",
   "metadata": {},
   "outputs": [],
   "source": [
    "fig = plt.figure(figsize=(dfig, dfig), constrained_layout=True)\n",
    "ax = fig.add_subplot(111)\n",
    "x = comp_df.loc[pd.IndexSlice[:, 'input'], 'log_tpm_0min']\n",
    "y = comp_df.loc[pd.IndexSlice[:, 'input'], 'log_tpm_60min']\n",
    "ax = sns.histplot(x=x, y=y, cmap='rocket', ax=ax, zorder=2)\n",
    "\n",
    "loc = plticker.MultipleLocator(base=5.0)\n",
    "ax.xaxis.set_major_locator(loc)\n",
    "ax.yaxis.set_major_locator(loc)\n",
    "ax.text(0.1, 0.9, 'r'r'$^2$'' = %1.2f' % r2_val_av, fontsize = 8, transform=ax.transAxes)\n",
    "ax.set_xlabel('0 min inc. RNA level\\n (log'r'$_{10}$'' TPM)')\n",
    "ax.set_ylabel('60 min inc. RNA level\\n (log'r'$_{10}$'' TPM)')\n",
    "plt.savefig('%s.%s' % (os.path.join(outdir, '60vs0_histscatter'), out_fmt), dpi = out_dpi)\n"
   ]
  }
 ],
 "metadata": {
  "kernelspec": {
   "display_name": "Python 3",
   "language": "python",
   "name": "python3"
  },
  "language_info": {
   "codemirror_mode": {
    "name": "ipython",
    "version": 3
   },
   "file_extension": ".py",
   "mimetype": "text/x-python",
   "name": "python",
   "nbconvert_exporter": "python",
   "pygments_lexer": "ipython3",
   "version": "3.9.0"
  }
 },
 "nbformat": 4,
 "nbformat_minor": 5
}
