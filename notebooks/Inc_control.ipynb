{
 "cells": [
  {
   "cell_type": "markdown",
   "id": "laughing-jones",
   "metadata": {},
   "source": [
    "#### Inc Control, S1\n",
    "- Look at the changes after 60 min of incubation\n",
    "- If largely unchanged, then it suggests it will be OK to use the incubation conditions as pseudo-steady-state"
   ]
  },
  {
   "cell_type": "code",
   "execution_count": null,
   "id": "negative-contamination",
   "metadata": {},
   "outputs": [],
   "source": [
    "import os\n",
    "import pandas as pd\n",
    "import sys\n",
    "import numpy as np\n",
    "import scipy.stats as stats\n",
    "import matplotlib.ticker as plticker\n",
    "\n",
    "sys.path.append('../scripts')\n",
    "from plot_helpers import *\n",
    "from plotting_fxns import *\n",
    "from utilities import load_dataset\n",
    "\n",
    "%load_ext autoreload\n",
    "%autoreload 2\n",
    "\n",
    "outdir = '../Figures/IncTest'\n",
    "os.makedirs(outdir, exist_ok = True)"
   ]
  },
  {
   "cell_type": "code",
   "execution_count": null,
   "id": "sweet-directory",
   "metadata": {},
   "outputs": [],
   "source": [
    "#The _filtered.csv file already has the spike-ins and rRNA genes removed\n",
    "res_file = os.path.join(results_dir_inctest, 'gene_quantification','summary_abundance_by_gene_filtered.csv')\n",
    "df = load_dataset(res_file, '../Figures/summary_files/brainInc_passed.csv')\n",
    "# get the means by experiment\n",
    "mean_df = df.groupby(['gene', 'condition', 'RNAtype']).mean()"
   ]
  },
  {
   "cell_type": "code",
   "execution_count": null,
   "id": "a5ac4ffd",
   "metadata": {},
   "outputs": [],
   "source": [
    "# Compare the 60 min input samples to the 0 min input samples\n",
    "val_col = 'summed_tpm_recalc'\n",
    "experiments_mock = [{'condition':'0mock', 'RNAtype':'input'}, {'condition':'60mock', 'RNAtype':'input'}]\n",
    "experiments_foursu = [{'condition':'0mock', 'RNAtype':'input'}, {'condition':'60foursu', 'RNAtype':'input'}]\n",
    "limits = {'x':{'left':-2}, 'y':{'bottom':-2}}\n",
    "loc2 = plticker.MultipleLocator(base=2.0)\n",
    "\n",
    "mock_cdf = compare_experiments(mean_df.reset_index(), experiments=experiments_mock, id_col='gene', val_col=val_col, pseudo='min', log=True)\n",
    "fig = plt.figure(figsize=(dfig, dfig), constrained_layout=True)\n",
    "ax = fig.add_subplot(111)\n",
    "ax = plot_scatter(mock_cdf, experiments=['summed_tpm_recalc_x', 'summed_tpm_recalc_y'], id_col='gene',\n",
    "            xlabel='0 min inc. RNA level\\n (log'r'$_{10}$'' TPM)', ylabel='60 min inc. RNA level\\n (log'r'$_{10}$'' TPM)', rsquare=True,\n",
    "            histscatter=True, same_max=True, limits=limits, loc=loc2, ax=ax)\n",
    "plt.savefig('%s.%s' % (os.path.join(outdir, '60vs0mock_histscat'), out_fmt), dpi = out_dpi)\n",
    "\n",
    "# Compare the 60 min foursu input samples to the 0 min input samples\n",
    "foursu_cdf = compare_experiments(mean_df.reset_index(), experiments=experiments_foursu, id_col='gene', val_col=val_col, pseudo='min', log=True)\n",
    "fig = plt.figure(figsize=(dfig, dfig), constrained_layout=True)\n",
    "ax = fig.add_subplot(111)\n",
    "ax = plot_scatter(foursu_cdf, experiments=['summed_tpm_recalc_x', 'summed_tpm_recalc_y'], id_col='gene',\n",
    "            xlabel='0 min inc. RNA level\\n (log'r'$_{10}$'' TPM)', ylabel='60 min inc. +4sU RNA\\nlevel (log'r'$_{10}$'' TPM)', rsquare=True,\n",
    "            histscatter=True, limits=limits, same_max=True, loc=loc2, ax=ax)\n",
    "ax.set_aspect('equal')\n",
    "plt.savefig('%s.%s' % (os.path.join(outdir, '60vs0foursu_histscat'), out_fmt), dpi = out_dpi)"
   ]
  }
 ],
 "metadata": {
  "kernelspec": {
   "display_name": "Python 3.9.13 ('pretty')",
   "language": "python",
   "name": "python3"
  },
  "language_info": {
   "codemirror_mode": {
    "name": "ipython",
    "version": 3
   },
   "file_extension": ".py",
   "mimetype": "text/x-python",
   "name": "python",
   "nbconvert_exporter": "python",
   "pygments_lexer": "ipython3",
   "version": "3.9.13"
  },
  "vscode": {
   "interpreter": {
    "hash": "bdb49103a4ed208a05ea4530afbe53462c06fafea10c7833b005d674746fdb08"
   }
  }
 },
 "nbformat": 4,
 "nbformat_minor": 5
}
