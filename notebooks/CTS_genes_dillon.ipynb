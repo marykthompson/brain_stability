{
 "cells": [
  {
   "cell_type": "markdown",
   "id": "stock-maple",
   "metadata": {},
   "source": [
    "#### CTS genes Dillon\n",
    "- Extract the genes which are enriched in specific cell types using the Dillon et al., 2022 dataset\n",
    "- Use the dataset as processed by Jeff, which is all the subclustering groups combined and then with FindAllMarkers() rerun"
   ]
  },
  {
   "cell_type": "code",
   "execution_count": null,
   "id": "current-austin",
   "metadata": {},
   "outputs": [],
   "source": [
    "#Imports\n",
    "import sys\n",
    "import os\n",
    "import pandas as pd\n",
    "import seaborn as sns\n",
    "import numpy as np\n",
    "import math\n",
    "import gffutils\n",
    "import scipy.stats as stats\n",
    "from collections import defaultdict\n",
    "import warnings\n",
    "\n",
    "sys.path.append('../scripts')\n",
    "from plot_helpers import *\n",
    "from plotting_fxns import PrettyBox\n",
    "from utilities import load_dataset\n",
    "from annotation_utilities import *\n",
    "\n",
    "%load_ext autoreload\n",
    "%autoreload 2"
   ]
  },
  {
   "cell_type": "code",
   "execution_count": null,
   "id": "61b5468d",
   "metadata": {},
   "outputs": [],
   "source": [
    "# Manually added the cluster names from the publication to map the number in the spreadsheet -> the cluster name\n",
    "# From Fig 2C, same as Fig 1 except Fig 2 missing the low quality category\n",
    "prog_dict = {0: 'immature neurons', 1: 'GMCs', 2: 'Type II NBs', 3: 'INPs', 4: 'immature neurons', \n",
    "             5: 'immature neurons', 6: 'immature neurons', 7: 'low quality', 8: 'new-born neurons',\n",
    "             9: 'Type I NBs', 10: 'immature neurons', 11: 'immature neurons', 12: 'Quiescent NBs'}\n",
    "\n",
    "glia_dict = {0: 'cortex/chiasm glia', 1: 'perineural glia', 2: 'astrocytes/neuropil glia', \n",
    "             3: 'subperineural glia'}\n",
    "\n",
    "# From Fig 7C, has mature neurons\n",
    "neuron_dict = {0: 'cholinergic', 1: 'unannotated', 2: 'GABAergic', 3: 'Glutamatergic', 4: 'undifferentiated', \n",
    "               5: 'undifferentiated', 6: 'motor neurons', 7: 'kenyon cells gamma', 8: 'monoaminergic',\n",
    "               9: 'peptidergic', 10: 'unannotated', 11: 'unannotated', 12: 'octopaminergic', 13: 'neurosecretory cells'}"
   ]
  },
  {
   "cell_type": "code",
   "execution_count": null,
   "id": "91149632",
   "metadata": {},
   "outputs": [],
   "source": [
    "dillon_dir = '../../resources/other_studies/Dillon_Supplementary/'\n",
    "prog_file = os.path.join(dillon_dir, '13064_2022_163_MOESM2_ESM.csv')\n",
    "glia_file = os.path.join(dillon_dir, '13064_2022_163_MOESM3_ESM.csv')\n",
    "neuron_file = os.path.join(dillon_dir, '13064_2022_163_MOESM16_ESM.csv')\n",
    "outdir = '../Figures/CTS'\n",
    "os.makedirs(outdir, exist_ok=True)"
   ]
  },
  {
   "cell_type": "code",
   "execution_count": null,
   "id": "2b25e2cb",
   "metadata": {},
   "outputs": [],
   "source": [
    "# Find the best genome version to use for these:\n",
    "all_df = pd.concat([pd.read_csv(prog_file), pd.read_csv(glia_file), pd.read_csv(neuron_file)])\n",
    "dillon_genes = all_df['gene']\n",
    "id_dir = '../../resources/id_conversion/'\n",
    "dmel628_file = os.path.join(id_dir, 'fbgn_annotation_ID_fb_2019_03.tsv')\n",
    "dmel630_file = os.path.join(id_dir, 'fbgn_annotation_ID_fb_2019_05.tsv')\n",
    "dmel631_file = os.path.join(id_dir, 'fbgn_annotation_ID_fb_2019_06.tsv')\n",
    "dmel632_file = os.path.join(id_dir, 'fbgn_annotation_ID_fb_2020_01.tsv')\n",
    "dmel633_file = os.path.join(id_dir, 'fbgn_annotation_ID_fb_2020_02.tsv')\n",
    "dmel634_file = os.path.join(id_dir, 'fbgn_annotation_ID_fb_2020_03.tsv')\n",
    "dmel635_file = os.path.join(id_dir, 'fbgn_annotation_ID_fb_2020_04.tsv')\n",
    "dmel636_file = os.path.join(id_dir, 'fbgn_annotation_ID_fb_2020_05.tsv')\n",
    "\n",
    "versions = [('dmel630', dmel630_file), ('dmel631', dmel631_file), ('dmel632', dmel632_file), \n",
    "                   ('dmel633', dmel633_file), ('dmel634', dmel634_file), ('dmel635', dmel635_file),\n",
    "                   ('dmel636', dmel636_file)]\n",
    "\n",
    "best_version, count_dict, notfound = find_best_version(dillon_genes, version_files=versions)\n",
    "print('best version', best_version)"
   ]
  },
  {
   "cell_type": "code",
   "execution_count": null,
   "id": "66e307f4",
   "metadata": {},
   "outputs": [],
   "source": [
    "# Get table converting 6.28 (Thompson) to 6.32 (Dillon)\n",
    "convert_df = update_ids(dmel632_file, from_version=dmel628_file)\n",
    "convert_df = convert_df.reset_index().rename(columns={'index':'old_ID'})"
   ]
  },
  {
   "cell_type": "code",
   "execution_count": null,
   "id": "f7d670b8",
   "metadata": {},
   "outputs": [],
   "source": [
    "# Dillon supplement only contains gene name and no FBgn number at all!\n",
    "# Get conversion of the gene symbols to the FBg numbers from 6.28\n",
    "fc_co = 1\n",
    "pval_co = 0.05\n",
    "prog_df = pd.read_csv(prog_file).query('p_val_adj < @pval_co & avg_log2FC >= @fc_co')\n",
    "glia_df = pd.read_csv(glia_file).query('p_val_adj < @pval_co & avg_log2FC >= @fc_co')\n",
    "neuron_df = pd.read_csv(neuron_file).query('p_val_adj < @pval_co & avg_log2FC >= @fc_co')\n",
    "# This gives the number of CTS genes per cell type cluster\n",
    "# prog_df.query('avg_log2FC >= 1').groupby('cluster').count()\n",
    "\n",
    "prog_df['clustername'] = prog_df['cluster'].map(prog_dict)\n",
    "neuron_df['clustername'] = neuron_df['cluster'].map(neuron_dict)\n",
    "glia_df['clustername'] = glia_df['cluster'].map(glia_dict)\n",
    "\n",
    "for df in [prog_df, neuron_df, glia_df]:\n",
    "    assert df[pd.isnull(df['clustername'])].empty"
   ]
  },
  {
   "cell_type": "code",
   "execution_count": null,
   "id": "e1e49522",
   "metadata": {},
   "outputs": [],
   "source": [
    "# Show that genes don't have to be unique between different clusters\n",
    "# If len > len unique\n",
    "print(f'num genes {len(prog_df[\"gene\"])}')\n",
    "print(f'num unique genes {len(prog_df[\"gene\"].unique())}')"
   ]
  },
  {
   "cell_type": "code",
   "execution_count": null,
   "id": "1d58e1b7",
   "metadata": {},
   "outputs": [],
   "source": [
    "# Write the genelists in 6.28 IDs\n",
    "atlas_dict = {'progenitor': prog_df, 'neuron': neuron_df, 'glia': glia_df}\n",
    "for a in atlas_dict:\n",
    "    df = atlas_dict[a]\n",
    "    df2 = pd.merge(df[['gene', 'clustername']], convert_df[['new_sym', 'old_ID']], left_on='gene', right_on='new_sym', how='left')\n",
    "    # Drop any genes that were not present in the version that they are converted to\n",
    "    df3 = df2.set_index('old_ID')[['clustername']].rename(columns={'clustername':'celltype'}).drop(labels=[np.nan], errors='ignore')\n",
    "    df3.index.name = ''\n",
    "    df3.to_csv(os.path.join(outdir, f'dillon_{a}.csv'))"
   ]
  },
  {
   "cell_type": "code",
   "execution_count": null,
   "id": "72646135",
   "metadata": {},
   "outputs": [],
   "source": [
    "# Test that left merge works for split/merge cases\n",
    "df1 = pd.DataFrame({'gene':['a', 'b', 'c', 'c']})\n",
    "# Split case: same gene now has two ids\n",
    "df2 = pd.DataFrame({'gene':['a', 'a', 'c', 'd'], 'id':[1, 2, 3, 4]})\n",
    "# Merge case: two genes now have the same id\n",
    "df3 = pd.DataFrame({'gene':['a', 'b', 'c', 'd'], 'id':[1, 1, 3, 4]})"
   ]
  },
  {
   "cell_type": "code",
   "execution_count": null,
   "id": "f726d51d",
   "metadata": {},
   "outputs": [],
   "source": [
    "merge1 = pd.merge(df1, df2, left_on='gene', right_on='gene', how='left')\n",
    "merge2 = pd.merge(df1, df3, left_on='gene', right_on='gene', how='left')"
   ]
  }
 ],
 "metadata": {
  "kernelspec": {
   "display_name": "Python 3.9.13 ('pretty')",
   "language": "python",
   "name": "python3"
  },
  "language_info": {
   "codemirror_mode": {
    "name": "ipython",
    "version": 3
   },
   "file_extension": ".py",
   "mimetype": "text/x-python",
   "name": "python",
   "nbconvert_exporter": "python",
   "pygments_lexer": "ipython3",
   "version": "3.9.13"
  },
  "vscode": {
   "interpreter": {
    "hash": "bdb49103a4ed208a05ea4530afbe53462c06fafea10c7833b005d674746fdb08"
   }
  }
 },
 "nbformat": 4,
 "nbformat_minor": 5
}
