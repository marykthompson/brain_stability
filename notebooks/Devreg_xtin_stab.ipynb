{
 "cells": [
  {
   "cell_type": "markdown",
   "id": "affecting-bullet",
   "metadata": {},
   "source": [
    "### Devreg xtin stab\n",
    "- Look at stability of the different classes of genes with respect to H3K27me3"
   ]
  },
  {
   "cell_type": "code",
   "execution_count": null,
   "id": "seven-heath",
   "metadata": {},
   "outputs": [],
   "source": [
    "# Imports\n",
    "import sys\n",
    "import os\n",
    "import pandas as pd\n",
    "import seaborn as sns\n",
    "import numpy as np\n",
    "import math\n",
    "import scipy.stats as stats\n",
    "from collections import defaultdict\n",
    "import pickle\n",
    "from itertools import chain, combinations\n",
    "import gffutils\n",
    "import re\n",
    "from copy import copy\n",
    "import warnings\n",
    "\n",
    "sys.path.append('../scripts')\n",
    "from stats_helpers import calc_fisher_exact\n",
    "from plot_helpers import *\n",
    "from annotation_utilities import *\n",
    "from plotting_fxns import PrettyBox, sc_swarmplot, enrich_heatmap, enrich_table\n",
    "from utilities import load_dataset\n",
    "\n",
    "db = gffutils.FeatureDB(gffutils_db)\n",
    "\n",
    "%load_ext autoreload\n",
    "%autoreload 2"
   ]
  },
  {
   "cell_type": "code",
   "execution_count": null,
   "id": "fallen-objective",
   "metadata": {},
   "outputs": [],
   "source": [
    "outdir = '../Figures/Devreg'\n",
    "os.makedirs(outdir, exist_ok=True)"
   ]
  },
  {
   "cell_type": "code",
   "execution_count": null,
   "id": "living-debate",
   "metadata": {},
   "outputs": [],
   "source": [
    "# Load pickle of methylation sites\n",
    "geneset_dir = '../Figures/genesets/'\n",
    "with open(os.path.join(geneset_dir, 'h3k27me3_mapped.p'), 'rb') as f:\n",
    "    xtin_dict = pickle.load(f)"
   ]
  },
  {
   "cell_type": "code",
   "execution_count": null,
   "id": "academic-essay",
   "metadata": {},
   "outputs": [],
   "source": [
    "# Load stability data\n",
    "rate_df = load_dataset('../Figures/summary_files/INSPEcT_rates.csv', '../Figures/summary_files/brain4sU_passed.csv')\n",
    "\n",
    "# Use the Flybase geneset for transcription factor\n",
    "TF_file = '../Figures/genesets/all_TFs.csv'\n",
    "tfs = set(pd.read_csv(TF_file, header=None)[0].values)\n",
    "\n",
    "# Import the GO slim based TF and RBP IDs:\n",
    "RBPs_go_file = '../Figures/GO/ens/RNA binding.txt'\n",
    "mRBPs_go_file = '../Figures/GO/ens/mRNA binding.txt'\n",
    "rbps = set(pd.read_csv(RBPs_go_file, header=None)[0].values)\n",
    "mrbps = set(pd.read_csv(mRBPs_go_file, header=None)[0].values)\n",
    "rbps_only = rbps.difference(mrbps)\n",
    "\n",
    "rate_df['TF'] = rate_df.index.isin(tfs)\n",
    "rate_df['RBP_all'] = rate_df.index.isin(rbps)\n",
    "rate_df['mRBP'] = rate_df.index.isin(mrbps)\n",
    "rate_df['RBP'] = rate_df.index.isin(rbps_only)"
   ]
  },
  {
   "cell_type": "code",
   "execution_count": null,
   "id": "applied-steering",
   "metadata": {},
   "outputs": [],
   "source": [
    "# Annotate the genes with h3k27me3 upstream, downstream, or within gene\n",
    "def powerset(iterable):\n",
    "    \"powerset([1,2,3]) --> () (1,) (2,) (3,) (1,2) (1,3) (2,3) (1,2,3)\"\n",
    "    s = list(iterable)\n",
    "    return chain.from_iterable(combinations(s, r) for r in range(len(s)+1))\n",
    "\n",
    "rate_df['up'] = rate_df.index.isin(xtin_dict['up']['h3k27me3'])\n",
    "rate_df['down'] = rate_df.index.isin(xtin_dict['down']['h3k27me3'])\n",
    "rate_df['gene'] = rate_df.index.isin(xtin_dict['gene']['h3k27me3'])\n",
    "\n",
    "# Get all combinations and sort from max elements to least\n",
    "l = ['up', 'down', 'gene']\n",
    "combos = list(powerset(l))\n",
    "combos.sort(key=lambda x: len(x))\n",
    "combos.reverse()\n",
    "\n",
    "# https://stackoverflow.com/questions/67095325/how-to-transform-multiple-boolean-columns-to-one-column-with-column-headers-and\n",
    "s = []\n",
    "for i in combos:\n",
    "    cat = ''.join(i)\n",
    "    col = rate_df[list(i)].all(axis=1)\n",
    "    col.name = cat\n",
    "    s.append(col)\n",
    "df2 = pd.concat(s, axis=1)\n",
    "df3 = df2.idxmax(1)\n",
    "df3.name = 'category'\n",
    "df4 = pd.concat([rate_df[['deg_rate','stab_percentile', 'TF', 'RBP_all', 'RBP', 'mRBP']], df3], axis=1)\n",
    "df4.replace('', 'none', inplace=True)"
   ]
  },
  {
   "cell_type": "code",
   "execution_count": null,
   "id": "7b3bfbf8",
   "metadata": {},
   "outputs": [],
   "source": [
    "print(f'number of genes in rate dataset that are updowngene %s' % len(df4.query('category == \"updowngene\"')))"
   ]
  },
  {
   "cell_type": "code",
   "execution_count": null,
   "id": "09959e7f",
   "metadata": {},
   "outputs": [],
   "source": [
    "order = ['up', 'gene', 'down', 'upgene', 'downgene', 'updowngene']\n",
    "\n",
    "# Version of plot with the TFs overlaid in swarmplot form\n",
    "fig = plt.figure(figsize=(dfig*2.2, dfig*2.5))\n",
    "hstart = 0.14\n",
    "h = 0.95 - hstart\n",
    "ax = fig.add_axes((0.33, hstart, 0.29, h))\n",
    "\n",
    "# Ingnore the seaborn swarm overplotting warning here:\n",
    "with warnings.catch_warnings():\n",
    "    warnings.simplefilter('ignore')\n",
    "    ax, res, pvals = sc_swarmplot(data=df4, all_genes=df4, x='stab_percentile', y='category', hue='TF', hue_name='TF mRNAs', order=order, \n",
    "    x_lab='stability percentile', y_lab='H3K27me3 regions (region label, num genes)', y_excluded=['none', 'updown'], palette=[color_dict['grey'], \n",
    "    'navy'], hm_lstart=0.67, ax=ax, fig=fig, cbar_lab_sp=4)\n",
    "\n",
    "pretty_names = {'up':'upstream (A)', 'down':'downstream (C)', 'gene':'gene body (B)', 'up':'upstream (A)', 'updown':'(AC)', \n",
    "               'upgene':'(AB)', 'downgene':'(BC)', 'updowngene':'(ABC)', 'none':'none'}\n",
    "\n",
    "# prettify the category labels\n",
    "new_labs = []\n",
    "for i in ax.get_yticklabels():\n",
    "    label = i.get_text().split(' ')[0]\n",
    "    ngenes = i.get_text().split(' ')[1].strip('()')\n",
    "    new_label = f'{pretty_names[label].rstrip(\")\")}, {ngenes})' \n",
    "    new_labs.append(new_label)\n",
    "ax.set_yticklabels(new_labs)\n",
    "                      \n",
    "plt.savefig('%s.%s' % (os.path.join(outdir, 'me3_swarm'), out_fmt), dpi = out_dpi)"
   ]
  },
  {
   "cell_type": "code",
   "execution_count": null,
   "id": "featured-shade",
   "metadata": {},
   "outputs": [],
   "source": [
    "# Report fraction of genes which are TF in both categories -- all and covered by H3K27me3\n",
    "tf_me3 = len(df4.loc[(df4['category'] == 'updowngene') & (df4['TF'])])\n",
    "all_me3 = len(df4.loc[df4['category'] == 'updowngene'])\n",
    "print('%s / %s updowngenes are TFs = %s' % (tf_me3, all_me3, tf_me3/all_me3))\n",
    "\n",
    "tf = len(df4.loc[df4['TF']])\n",
    "all_genes = len(df4)\n",
    "print('%s / %s all genes are TFs = %s' % (tf, all_genes, tf/all_genes))\n",
    "\n",
    "# Report the stability of TFs and non-TFs in these categories\n",
    "print('stability updowngene TFs', df4.loc[(df4['category'] == 'updowngene') & (df4['TF']), 'stab_percentile'].median())\n",
    "print('stability updowngene non-TFs', df4.loc[(df4['category'] == 'updowngene') & (~df4['TF']), 'stab_percentile'].median())\n",
    "\n",
    "print('stability none TFs', df4.loc[(df4['category'] == 'none') & (df4['TF']), 'stab_percentile'].median())\n",
    "print('stability non non-TFs', df4.loc[(df4['category'] == 'none') & (~df4['TF']), 'stab_percentile'].median())\n"
   ]
  },
  {
   "cell_type": "code",
   "execution_count": null,
   "id": "civic-blood",
   "metadata": {},
   "outputs": [],
   "source": [
    "# write the me3 targets and the CTS categories to an outfile\n",
    "cts_df = pd.read_csv('../Figures/CTS/corrales_celltypes.csv', index_col=0)\n",
    "\n",
    "df4['CTS'] = df4.index.isin(cts_df.index)\n",
    "df4.to_csv(os.path.join(outdir, 'gene_cat_me3.csv'))"
   ]
  },
  {
   "cell_type": "code",
   "execution_count": null,
   "id": "nonprofit-hypothesis",
   "metadata": {},
   "outputs": [],
   "source": [
    "# Number of genes per methylation category\n",
    "df4['category'].value_counts()"
   ]
  },
  {
   "cell_type": "code",
   "execution_count": null,
   "id": "c6296df0",
   "metadata": {},
   "outputs": [],
   "source": [
    "# print the p-values for the RNA stability distribution differences and the enrichment with TFs\n",
    "enrich_table(res, pvals)"
   ]
  }
 ],
 "metadata": {
  "kernelspec": {
   "display_name": "Python 3.9.13 ('pretty')",
   "language": "python",
   "name": "python3"
  },
  "language_info": {
   "codemirror_mode": {
    "name": "ipython",
    "version": 3
   },
   "file_extension": ".py",
   "mimetype": "text/x-python",
   "name": "python",
   "nbconvert_exporter": "python",
   "pygments_lexer": "ipython3",
   "version": "3.9.13"
  },
  "vscode": {
   "interpreter": {
    "hash": "bdb49103a4ed208a05ea4530afbe53462c06fafea10c7833b005d674746fdb08"
   }
  }
 },
 "nbformat": 4,
 "nbformat_minor": 5
}
