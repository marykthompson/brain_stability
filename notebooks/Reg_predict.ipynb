{
 "cells": [
  {
   "cell_type": "markdown",
   "metadata": {},
   "source": [
    "#### Reg Predict\n",
    "- Show the contribution of various properties (H3K27me3 target, TF, CTS) to the RNA decay rate in a linear model"
   ]
  },
  {
   "cell_type": "code",
   "execution_count": null,
   "metadata": {},
   "outputs": [],
   "source": [
    "#Imports\n",
    "import sys\n",
    "import os\n",
    "import pandas as pd\n",
    "import seaborn as sns\n",
    "import numpy as np\n",
    "import pickle\n",
    "import statsmodels.api as sm\n",
    "import itertools\n",
    "from decimal import Decimal\n",
    "\n",
    "from sklearn.linear_model import LinearRegression\n",
    "from sklearn.preprocessing import PolynomialFeatures\n",
    "\n",
    "from sklearn.metrics import r2_score\n",
    "from sklearn.model_selection import train_test_split\n",
    "from sklearn.metrics import mean_squared_error\n",
    "from scipy.stats.mstats import winsorize\n",
    "\n",
    "sys.path.append('../scripts')\n",
    "from plot_helpers import *\n",
    "from utilities import load_dataset, run_OLS\n",
    "\n",
    "%load_ext autoreload\n",
    "%autoreload 2"
   ]
  },
  {
   "cell_type": "code",
   "execution_count": null,
   "metadata": {},
   "outputs": [],
   "source": [
    "outdir = '../Figures/Reg/'\n",
    "os.makedirs(outdir, exist_ok=True)"
   ]
  },
  {
   "cell_type": "code",
   "execution_count": null,
   "metadata": {},
   "outputs": [],
   "source": [
    "# Load the data\n",
    "# log-transform and winsorize the deg_rates\n",
    "# rate_df = load_dataset('../Figures/summary_files/INSPEcT_rates.csv', '../Figures/summary_files/brain4sU_passed.csv')\n",
    "me_df = pd.read_csv('../Figures/Devreg/gene_cat_me3.csv', index_col='gene')\n",
    "me_df['me3'] = me_df['category'] == 'updowngene'\n",
    "me_df['log_deg'] = me_df['deg_rate'].apply(np.log10)\n",
    "me_df['log_deg_wins_1'] = winsorize(me_df['log_deg'], (0.01, 0.01))\n",
    "target_column = ['log_deg_wins_1']\n",
    "predictors_long = ['TF', 'CTS', 'me3']\n",
    "res_full = run_OLS(me_df, target_column, predictors_long, interactions=True)\n",
    "res_full_noint = run_OLS(me_df, target_column, predictors_long)\n",
    "res_TF_only = run_OLS(me_df, target_column, ['TF'])\n",
    "res_CTS_only = run_OLS(me_df, target_column, ['CTS'])"
   ]
  },
  {
   "cell_type": "code",
   "execution_count": null,
   "metadata": {},
   "outputs": [],
   "source": [
    "from plotting_fxns import get_letter_height\n",
    "from plotting_fxns import sig_2_stars\n",
    "\n",
    "def res_2_df(res, outname, plot_intercept=False):\n",
    "    '''\n",
    "    Plot the coefficients and their confidence intervals.\n",
    "    '''\n",
    "    df = pd.DataFrame({\"pvals\":res.pvalues, \"coeff\":res.params})\n",
    "    if not plot_intercept:\n",
    "        df.drop(labels=['intercept'], inplace=True)\n",
    "    # Get the confidence interval for the coefficient estimates\n",
    "    df[['ci_low', 'ci_hi']] = res.conf_int(alpha=0.05)\n",
    "    # The CI is centered on the reported coefficient value, so sending the difference between the top and the coeff should be plotted each direction\n",
    "    df['err'] = df['ci_hi'] - df['coeff']\n",
    "    # Add the sigstars to the df\n",
    "    df['stars'] = df['pvals'].apply(sig_2_stars)\n",
    "    # Get the height for where to add the error bars\n",
    "    data_range = df['coeff'].max() - df['coeff'].min()\n",
    "    gap = 0.05*data_range\n",
    "    df['height'] = df.apply(lambda x: x['ci_low'] - gap if x['coeff'] < 0 else x['ci_hi'] + gap, axis=1)\n",
    "    df['align'] = df['coeff'].apply(lambda x: 'top' if x < 0 else 'bottom')\n",
    "\n",
    "    # Plot MLR results in graph form\n",
    "    fig = plt.figure(figsize=(dfig, dfig), constrained_layout=True)\n",
    "    ax = fig.add_subplot(111)\n",
    "    ax.set_ylim(df['height'].min()*1.2, df['height'].max()*1.2)\n",
    "\n",
    "    # Hack to adjust the height of the asterisks to correct baseline    \n",
    "    letter_h = get_letter_height(ax, fig)\n",
    "    ax.bar(df.reset_index()['index'], df['coeff'], color=color_dict['grey'], yerr=df['err'], capsize=0)\n",
    "    ax.axhline(y=0, color='k')\n",
    "    ax.set_ylabel('regression coefficient', y=1, ha='right')\n",
    "    ax.set_xlabel('')\n",
    "    ax.set_xticklabels(df.index, rotation=45, ha='right')\n",
    "    for i, row in enumerate(df.itertuples()):\n",
    "        # testing for the alignment of the asterisk\n",
    "        # ax.text(i, row.height, 'T', ha='center', va=row.align, color='k', transform=ax.transData)\n",
    "        if row.stars == 'ns':\n",
    "            ax.text(i, row.height, row.stars, ha='center', va=row.align, color='k', alpha=0.5, transform=ax.transData)\n",
    "        else:\n",
    "            # ax.text(i, row.height, 'E', ha='center', va=row.align, color='k', alpha=0.5, transform=ax.transData)\n",
    "            # Tricky to get this looking right for both plots, level of the bottom asterisks are slightly different than top ones\n",
    "            if row.align=='bottom':\n",
    "                ax.text(i-letter_h*0.1, row.height-letter_h*0.8, row.stars, ha='center', va=row.align, color='k', alpha=0.5, transform=ax.transData)\n",
    "            else:\n",
    "                ax.text(i+letter_h*0.1, row.height+letter_h*0.1, row.stars, ha='center', va=row.align, color='k', alpha=0.5, transform=ax.transData)\n",
    "                # ax.text(i-letter_h*0.1, row.height-letter_h*0.8, row.stars, ha='center', va=row.align, color='k', alpha=0.5, transform=ax.transData)\n",
    "\n",
    "    plt.savefig('%s.%s' % (os.path.join(outdir, outname), out_fmt), dpi = out_dpi)\n",
    "\n",
    "res_2_df(res_full, 'coefficients_wint')\n",
    "res_2_df(res_full_noint, 'coefficients_noint')\n",
    "    "
   ]
  },
  {
   "cell_type": "code",
   "execution_count": null,
   "metadata": {},
   "outputs": [],
   "source": [
    "# Plot MLR results in table form\n",
    "# https://github.com/matplotlib/matplotlib/issues/12828\n",
    "# https://stackoverflow.com/questions/9932072/matplotlib-table-formatting\n",
    "# Format the results table\n",
    "# Having difficulty getting fontsize=6 to fit in the single figure size\n",
    "results_df = pd.DataFrame({\"pvals\":res_full.pvalues, \"coeff\":res_full.params})\n",
    "results_df2 = results_df.copy()\n",
    "results_df2['pvals'] = results_df2['pvals'].apply(lambda x: '%.2E' % Decimal(x))\n",
    "results_df2['coeff'] = results_df2['coeff'].round(3)\n",
    "results_df2 = results_df2[['coeff', 'pvals']].copy()\n",
    "results_df2.rename({'pvals':'p-value'}, axis=1, inplace=True)\n",
    "results_df2.rename({'me3_target':'me3 target', 'TF:me3_target':'TF:me3 target', 'CTS:me3_target':'CTS:me3 target', 'TF:CTS:me3_target':'TF:CTS:me3 target'}, axis=0, inplace=True)\n",
    "\n",
    "lgrey = mpl.colors.to_rgba(color_dict['grey'], 0.3)\n",
    "\n",
    "fig = plt.figure(figsize=(dfig, dfig))\n",
    "gs = fig.add_gridspec(ncols=1, nrows = 8)\n",
    "ax = fig.add_subplot(gs[1:])\n",
    "table = ax.table(cellText=results_df2.values, colLabels=results_df2.keys(), rowLabels=results_df2.index, rowColours=[lgrey]*len(results_df2), colColours=[lgrey]*len(results_df2), colWidths=[0.4,0.4], loc='center')\n",
    "ax.set(xticks=[], yticks=[])\n",
    "# ax.set_title('Regression for RNA decay rate')\n",
    "# ax.text(0, 1.3, 'Regression model for RNA decay rate', ha='left', va='top', transform=ax.transAxes)\n",
    "ax.text(0.5, 0.97, 'Regression model for RNA decay rate', ha='center', va='top', fontsize=6, transform=fig.transFigure)\n",
    "\n",
    "ax.spines.left.set_visible(False)\n",
    "ax.spines['bottom'].set_visible(False)\n",
    "table.auto_set_font_size(False)\n",
    "table.set_fontsize(5)\n",
    "plt.subplots_adjust(left=0.4)\n",
    "plt.savefig('%s.%s' % (os.path.join(outdir, 'model_table'), out_fmt), dpi = out_dpi)\n",
    "# ax = sns.violinplot(data=me_df, x='CAI', y='category', order=order, orient='h', color=color_dict['grey'], ax = ax)"
   ]
  },
  {
   "cell_type": "code",
   "execution_count": null,
   "metadata": {},
   "outputs": [],
   "source": [
    "ax = sns.boxplot(data=[me_df.query('TF')['log_deg_wins_1'], me_df.query('me3')['log_deg_wins_1'], me_df.query('CTS')['log_deg_wins_1']])\n",
    "ax.set_xticklabels(['TF', 'me3', 'CTS'])\n"
   ]
  },
  {
   "cell_type": "code",
   "execution_count": null,
   "metadata": {},
   "outputs": [],
   "source": [
    "# Examine the assumptions required for linear regression/ANOVA\n",
    "sns.histplot(me_df['log_deg_wins_1'])"
   ]
  },
  {
   "cell_type": "code",
   "execution_count": null,
   "metadata": {},
   "outputs": [],
   "source": [
    "# Now try predicting with more basic features, like lengths, GC content, and CAI\n",
    "att_df = pd.read_csv('../Figures/gene_attributes/gene_attributes.csv', index_col=0)"
   ]
  },
  {
   "cell_type": "code",
   "execution_count": null,
   "metadata": {},
   "outputs": [],
   "source": [
    "df2 = me_df[['log_deg_wins_1']].copy()\n",
    "# Just use CAI_hiexp since very similar to CAI_all\n",
    "df2 = pd.merge(df2, att_df, left_index=True, right_index=True).drop('CAI_all', axis=1)"
   ]
  },
  {
   "cell_type": "code",
   "execution_count": null,
   "metadata": {},
   "outputs": [],
   "source": [
    "df2.head()"
   ]
  },
  {
   "cell_type": "code",
   "execution_count": null,
   "metadata": {},
   "outputs": [],
   "source": [
    "target_column = ['log_deg_wins_1']\n",
    "# predictors = df2.columns.tolist()\n",
    "# predictors = ['CAI_hiexp', 'log_deg_wins_1']\n",
    "predictors = ['tutr_len', 'futr_len', 'cds_len', 'futr_gc', 'tutr_gc', 'log_deg_wins_1']\n",
    "\n",
    "predictors.remove(target_column[0])\n",
    "res_full2 = run_OLS(df2, target_column, predictors)"
   ]
  },
  {
   "cell_type": "code",
   "execution_count": null,
   "metadata": {},
   "outputs": [],
   "source": [
    "fig = plt.figure()\n",
    "ax = fig.add_subplot(111)\n",
    "# ax.scatter(df3['tutr_len'], df3['log_deg_wins_1'])\n",
    "# ax = sns.histplot(x='tutr_len', y='log_deg_wins_1', data=df3, bins=50, pthresh=.1, cmap=\"mako\", ax=ax)\n",
    "# ax.set_xlim(0,2.5)\n",
    "ax = sns.histplot(x='tutr_gc', y='log_deg_wins_1', data=df3, bins=50, pthresh=.1, cmap=\"mako\", ax=ax)\n"
   ]
  },
  {
   "cell_type": "code",
   "execution_count": null,
   "metadata": {},
   "outputs": [],
   "source": [
    "me_df.head()"
   ]
  },
  {
   "cell_type": "code",
   "execution_count": null,
   "metadata": {},
   "outputs": [],
   "source": [
    "df3[['CTS', 'TF']] = me_df[['CTS', 'TF']]"
   ]
  },
  {
   "cell_type": "code",
   "execution_count": null,
   "metadata": {},
   "outputs": [],
   "source": [
    "df3['CTS_TF'] = df3['CTS'] & df3['TF']\n",
    "df3['other_TF'] = df3['TF'] & ~df3['CTS']"
   ]
  },
  {
   "cell_type": "code",
   "execution_count": null,
   "metadata": {},
   "outputs": [],
   "source": [
    "df3.head()"
   ]
  },
  {
   "cell_type": "code",
   "execution_count": null,
   "metadata": {},
   "outputs": [],
   "source": [
    "df3.query('other_TF')['tutr_len'].median()"
   ]
  },
  {
   "cell_type": "code",
   "execution_count": null,
   "metadata": {},
   "outputs": [],
   "source": [
    "df3.query('CTS_TF')['tutr_len'].median()"
   ]
  },
  {
   "cell_type": "code",
   "execution_count": null,
   "metadata": {},
   "outputs": [],
   "source": []
  },
  {
   "cell_type": "markdown",
   "metadata": {},
   "source": [
    "It seems like these features are not good global predictors for RNA stabilty\n",
    "What about for TFs specifically?\n",
    "Or could you use it to predict which TFs are cell-type-specific?\n",
    "Big limitation of cell type specific TFs is that you can only find them if they are in your tissue of interest. So maybe this is too biased"
   ]
  },
  {
   "cell_type": "code",
   "execution_count": null,
   "metadata": {},
   "outputs": [],
   "source": [
    "pd.melt(df3, id_vars=['CTS_TF', 'other_TF'], value_vars='log_deg_wins_1')"
   ]
  },
  {
   "cell_type": "code",
   "execution_count": null,
   "metadata": {},
   "outputs": [],
   "source": [
    "?pd.melt"
   ]
  },
  {
   "cell_type": "code",
   "execution_count": null,
   "metadata": {},
   "outputs": [],
   "source": [
    "from sklearn.preprocessing import StandardScaler\n",
    "scaler = StandardScaler()\n",
    "predictors = ['tutr_len','futr_len', 'cds_len', 'futr_gc', 'tutr_gc']\n",
    "features_scaled = scaler.fit_transform(df2[predictors].values)\n",
    "targets = df2[target_column].values\n",
    "df3 = pd.DataFrame(np.concatenate([features_scaled, targets], axis=1), columns=predictors+target_column, index=df2.index)\n",
    "# df_scaled = pd.DataFrame(scaler.fit_transform(df2[predictors]),columns = df2[predictors].columns)\n",
    "# THIS SHOULD WORK! WHY NOT????\n",
    "# df3 = pd.concat([df_scaled, df2[target_column]], axis=1, ignore_index=True)\n",
    "res_full3 = run_OLS(df3, target_column, predictors)\n",
    "res_full3.summary()"
   ]
  },
  {
   "cell_type": "code",
   "execution_count": null,
   "metadata": {},
   "outputs": [],
   "source": [
    "res_full3 = run_OLS(df3, target_column, predictors)\n",
    "res_full3.summary()"
   ]
  },
  {
   "cell_type": "code",
   "execution_count": null,
   "metadata": {},
   "outputs": [],
   "source": [
    "predictors"
   ]
  },
  {
   "cell_type": "code",
   "execution_count": null,
   "metadata": {},
   "outputs": [],
   "source": [
    "me_df = pd.read_csv('../Figures/Devreg/gene_cat_me3.csv', index_col='gene')\n",
    "me_df['me3_target'] = me_df['category'] == 'updowngene'\n",
    "me_df['log_deg'] = me_df['deg_rate'].apply(np.log10)\n",
    "me_df['log_deg_wins_1'] = winsorize(me_df['log_deg'], (0.01, 0.01))\n",
    "target_column = ['log_deg_wins_1']\n",
    "predictors_long = ['TF', 'CTS', 'me3_target']\n",
    "res_full = run_OLS(me_df, target_column, predictors_long, interactions=True)\n",
    "res_TF_only = run_OLS(me_df, target_column, ['TF'])\n",
    "res_CTS_only = run_OLS(me_df, target_column, ['CTS'])"
   ]
  },
  {
   "cell_type": "code",
   "execution_count": null,
   "metadata": {},
   "outputs": [],
   "source": [
    "df2.head()"
   ]
  },
  {
   "cell_type": "code",
   "execution_count": null,
   "metadata": {},
   "outputs": [],
   "source": [
    "att_df.head()"
   ]
  },
  {
   "cell_type": "code",
   "execution_count": null,
   "metadata": {},
   "outputs": [],
   "source": [
    "list(table.properties().keys())"
   ]
  }
 ],
 "metadata": {
  "kernelspec": {
   "display_name": "Python 3.9.13 ('pretty')",
   "language": "python",
   "name": "python3"
  },
  "language_info": {
   "codemirror_mode": {
    "name": "ipython",
    "version": 3
   },
   "file_extension": ".py",
   "mimetype": "text/x-python",
   "name": "python",
   "nbconvert_exporter": "python",
   "pygments_lexer": "ipython3",
   "version": "3.9.13"
  },
  "vscode": {
   "interpreter": {
    "hash": "bdb49103a4ed208a05ea4530afbe53462c06fafea10c7833b005d674746fdb08"
   }
  }
 },
 "nbformat": 4,
 "nbformat_minor": 2
}
