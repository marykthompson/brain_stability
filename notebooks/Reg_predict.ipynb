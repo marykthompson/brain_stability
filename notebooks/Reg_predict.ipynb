{
 "cells": [
  {
   "cell_type": "markdown",
   "id": "joint-addiction",
   "metadata": {},
   "source": [
    "#### Reg predict\n",
    "- Build a linear regression model to look at relationship between different gene attributes and RNA stability"
   ]
  },
  {
   "cell_type": "code",
   "execution_count": null,
   "id": "brown-breakdown",
   "metadata": {},
   "outputs": [],
   "source": [
    "#Imports\n",
    "import sys\n",
    "import os\n",
    "import pandas as pd\n",
    "import seaborn as sns\n",
    "import numpy as np\n",
    "import pickle\n",
    "\n",
    "from sklearn.linear_model import LinearRegression\n",
    "from sklearn.metrics import r2_score\n",
    "from sklearn.model_selection import train_test_split\n",
    "from sklearn.metrics import mean_squared_error\n",
    "\n",
    "sys.path.append('../scripts')\n",
    "from plot_helpers import *\n",
    "from utilities import load_dataset\n",
    "\n",
    "%load_ext autoreload\n",
    "%autoreload 2"
   ]
  },
  {
   "cell_type": "code",
   "execution_count": null,
   "id": "subjective-calibration",
   "metadata": {},
   "outputs": [],
   "source": [
    "#Load stability data\n",
    "rate_df = load_dataset('../Figures/summary_files/INSPEcT_rates.csv', '../Figures/summary_files/brain4sU_passed.csv')\n",
    "# CAI_file = '/Users/mkthompson/Desktop/Davislab/3.4_NMJ_4Tu_4sU/3.4e_pipeline_dev/nmj_figures/jupyter_notebooks/Drafting/Figures/gene_attributes/CAI/CAI_values.csv'\n",
    "# cai_df = pd.read_csv(CAI_file, index_col='gene')\n",
    "# rate_df['CAI'] = cai_df['CAI_hiexp']"
   ]
  },
  {
   "cell_type": "code",
   "execution_count": null,
   "id": "impaired-calculation",
   "metadata": {},
   "outputs": [],
   "source": [
    "att_df = pd.read_csv('/Users/mkthompson/Desktop/Davislab/3.4_NMJ_4Tu_4sU/3.4e_pipeline_dev/nmj_figures/jupyter_notebooks/Drafting/Figures/gene_attributes/gene_attributes.csv', index_col=0)"
   ]
  },
  {
   "cell_type": "code",
   "execution_count": null,
   "id": "democratic-heather",
   "metadata": {},
   "outputs": [],
   "source": [
    "me_df = pd.read_csv('../Figures/Devreg/gene_cat_me3.csv', index_col='gene')\n",
    "att_df['category'] = me_df['category']\n",
    "att_df['TF'] = me_df['TF']\n",
    "att_df['stab_percentile'] = rate_df['stab_percentile']\n",
    "#rate_df['updowngene'] = rate_df['category'] == 'updowngene'\n",
    "#remove non-coding RNAs from the dataset\n",
    "#this will also remove genes which have no UTR annotated\n",
    "att_df = att_df.dropna().copy()\n",
    "att_df['updowngene'] = att_df['category'] == 'updowngene'"
   ]
  },
  {
   "cell_type": "code",
   "execution_count": null,
   "id": "together-student",
   "metadata": {},
   "outputs": [],
   "source": [
    "target_column = ['stab_percentile']\n",
    "# predictors = list(set(list(att_df.columns))-set(target_column))\n",
    "# predictors = ['category']\n",
    "# predictors = ['futr_gc', 'tutr_gc']\n",
    "predictors = ['updowngene', 'TF', 'CAI_hiexp']"
   ]
  },
  {
   "cell_type": "code",
   "execution_count": null,
   "id": "super-richmond",
   "metadata": {},
   "outputs": [],
   "source": [
    "X = att_df[predictors].values\n",
    "y = att_df[target_column].values"
   ]
  },
  {
   "cell_type": "code",
   "execution_count": null,
   "id": "lonely-indiana",
   "metadata": {},
   "outputs": [],
   "source": [
    "#Looking at interactions between the variables\n",
    "from sklearn.preprocessing import PolynomialFeatures\n",
    "poly = PolynomialFeatures(interaction_only=True)\n",
    "X_tr = poly.fit_transform(X)\n",
    "Xt = pd.DataFrame(X_tr, columns=poly.get_feature_names()).drop(['1'],1)\n",
    "# Xt = pd.concat([X,pd.DataFrame(X_tr,columns=poly.get_feature_names()).drop([‘1’,’x0',’x1',’x2',’x3',’x4'],1)],1)"
   ]
  },
  {
   "cell_type": "code",
   "execution_count": null,
   "id": "fixed-dryer",
   "metadata": {},
   "outputs": [],
   "source": [
    "X"
   ]
  },
  {
   "cell_type": "code",
   "execution_count": null,
   "id": "cultural-auditor",
   "metadata": {},
   "outputs": [],
   "source": [
    "X.astype(float)"
   ]
  },
  {
   "cell_type": "code",
   "execution_count": null,
   "id": "amino-american",
   "metadata": {},
   "outputs": [],
   "source": [
    "y"
   ]
  },
  {
   "cell_type": "code",
   "execution_count": null,
   "id": "unique-recipient",
   "metadata": {},
   "outputs": [],
   "source": [
    "# With no interactions\n",
    "mod = sm.OLS(y, X.astype(float))\n",
    "res = mod.fit()\n",
    "res.summary()"
   ]
  },
  {
   "cell_type": "code",
   "execution_count": null,
   "id": "recreational-saver",
   "metadata": {},
   "outputs": [],
   "source": [
    "y_pred = res.predict(X.astype(float))"
   ]
  },
  {
   "cell_type": "code",
   "execution_count": null,
   "id": "conscious-cassette",
   "metadata": {},
   "outputs": [],
   "source": [
    "fig = plt.figure()\n",
    "ax = fig.add_subplot(111)\n",
    "ax.scatter(y, y_pred)"
   ]
  },
  {
   "cell_type": "code",
   "execution_count": null,
   "id": "divine-plastic",
   "metadata": {},
   "outputs": [],
   "source": [
    "r2_score(y, y_pred)"
   ]
  },
  {
   "cell_type": "code",
   "execution_count": null,
   "id": "settled-associate",
   "metadata": {},
   "outputs": [],
   "source": [
    "y_pred"
   ]
  },
  {
   "cell_type": "code",
   "execution_count": null,
   "id": "deluxe-nursery",
   "metadata": {},
   "outputs": [],
   "source": [
    "# Now when column 1 is removed\n",
    "mod = sm.OLS(y, Xt)\n",
    "res = mod.fit()\n",
    "res.summary()"
   ]
  },
  {
   "cell_type": "code",
   "execution_count": null,
   "id": "opened-reform",
   "metadata": {},
   "outputs": [],
   "source": [
    "mod = sm.OLS(y, Xt)\n",
    "res = mod.fit()\n",
    "res.summary()"
   ]
  },
  {
   "cell_type": "code",
   "execution_count": null,
   "id": "artistic-dress",
   "metadata": {},
   "outputs": [],
   "source": [
    "df = pd.DataFrame(X_tr, columns=poly.get_feature_names())"
   ]
  },
  {
   "cell_type": "code",
   "execution_count": null,
   "id": "changing-tuning",
   "metadata": {},
   "outputs": [],
   "source": [
    "df.head()"
   ]
  },
  {
   "cell_type": "code",
   "execution_count": null,
   "id": "suffering-navigator",
   "metadata": {},
   "outputs": [],
   "source": [
    "X_tr"
   ]
  },
  {
   "cell_type": "code",
   "execution_count": null,
   "id": "direct-liver",
   "metadata": {},
   "outputs": [],
   "source": [
    "# from sklearn.preprocessing import OneHotEncoder\n",
    "# ohe = OneHotEncoder(sparse=False)\n",
    "# X2 = ohe.fit_transform(X)"
   ]
  },
  {
   "cell_type": "code",
   "execution_count": null,
   "id": "north-necklace",
   "metadata": {},
   "outputs": [],
   "source": [
    "lr = LinearRegression()\n",
    "lr.fit(X, y)"
   ]
  },
  {
   "cell_type": "code",
   "execution_count": null,
   "id": "rolled-recipe",
   "metadata": {},
   "outputs": [],
   "source": [
    "me, tf, cai = lr.coef_.reshape(-1)\n",
    "intercept = lr.intercept_[0]"
   ]
  },
  {
   "cell_type": "code",
   "execution_count": null,
   "id": "tamil-pulse",
   "metadata": {},
   "outputs": [],
   "source": [
    "#This doesn't seem to predict accurately though\n",
    "\n",
    "#Example:\n",
    "gene_me, gene_tf, gene_cai = [1, 1, 0.7]\n",
    "gene_me, gene_tf, gene_cai = [0, 0, 0.7]\n",
    "stab = me*gene_me + tf*gene_tf + cai*gene_cai + intercept"
   ]
  },
  {
   "cell_type": "code",
   "execution_count": null,
   "id": "prerequisite-cache",
   "metadata": {},
   "outputs": [],
   "source": [
    "r2_score(y, lr.predict(X))"
   ]
  },
  {
   "cell_type": "code",
   "execution_count": null,
   "id": "plain-advice",
   "metadata": {},
   "outputs": [],
   "source": [
    "X.shape"
   ]
  },
  {
   "cell_type": "code",
   "execution_count": null,
   "id": "portuguese-optimum",
   "metadata": {},
   "outputs": [],
   "source": [
    "X = np.array(X, dtype=float)"
   ]
  },
  {
   "cell_type": "code",
   "execution_count": null,
   "id": "thirty-aerospace",
   "metadata": {
    "jupyter": {
     "outputs_hidden": true
    }
   },
   "outputs": [],
   "source": [
    "# with statsmodels\n",
    "X = sm.add_constant(X) # adding a constant\n",
    " \n",
    "model = sm.OLS(y, X).fit()\n",
    "predictions = model.predict(X) \n",
    " \n",
    "print_model = model.summary()\n",
    "print(print_model)"
   ]
  },
  {
   "cell_type": "code",
   "execution_count": null,
   "id": "sitting-madison",
   "metadata": {},
   "outputs": [],
   "source": [
    "#https://groups.google.com/g/pystatsmodels/c/8-4BARFopwc?pli=1"
   ]
  },
  {
   "cell_type": "code",
   "execution_count": null,
   "id": "assured-triumph",
   "metadata": {
    "jupyter": {
     "outputs_hidden": true
    }
   },
   "outputs": [],
   "source": [
    "from statsmodels.formula.api import ols\n",
    "mod = ols(formula='Stock_Index_Price ~ Interest_Rate + Unemployment_Rate', data=df)\n",
    "res = mod.fit()\n",
    "print(res.summary())"
   ]
  },
  {
   "cell_type": "code",
   "execution_count": null,
   "id": "valuable-complexity",
   "metadata": {
    "jupyter": {
     "outputs_hidden": true
    }
   },
   "outputs": [],
   "source": [
    "from statsmodels.formula.api import ols\n",
    "mod = ols(formula='Stock_Index_Price ~ Interest_Rate + Unemployment_Rate + Interest_Rate*Unemployment_Rate', data=df)\n",
    "res = mod.fit()\n",
    "print(res.summary())"
   ]
  },
  {
   "cell_type": "code",
   "execution_count": null,
   "id": "hidden-essay",
   "metadata": {},
   "outputs": [],
   "source": [
    "res = mod.fit()"
   ]
  },
  {
   "cell_type": "code",
   "execution_count": null,
   "id": "subsequent-bearing",
   "metadata": {},
   "outputs": [],
   "source": [
    "print(res.summary())"
   ]
  },
  {
   "cell_type": "code",
   "execution_count": null,
   "id": "center-above",
   "metadata": {},
   "outputs": [],
   "source": [
    "df.head()"
   ]
  },
  {
   "cell_type": "code",
   "execution_count": null,
   "id": "corresponding-basics",
   "metadata": {},
   "outputs": [],
   "source": [
    "from sklearn import linear_model\n",
    "import statsmodels.api as sm\n",
    "\n",
    "#2) Perform linear regression with both sklearn and statsmodels\n",
    "# here we have 2 variables for multiple regression. If you just want to use one variable for simple linear regression, then use X = df['Interest_Rate'] for example.\n",
    "# Alternatively, you may add additional variables within the brackets\n",
    "Stock_Market = {'Year': [2017,2017,2017,2017,2017,2017,2017,2017,2017,2017,2017,2017,2016,2016,2016,2016,2016,2016,2016,2016,2016,2016,2016,2016],\n",
    "                'Month': [12, 11,10,9,8,7,6,5,4,3,2,1,12,11,10,9,8,7,6,5,4,3,2,1],\n",
    "                'Interest_Rate': [2.75,2.5,2.5,2.5,2.5,2.5,2.5,2.25,2.25,2.25,2,2,2,1.75,1.75,1.75,1.75,1.75,1.75,1.75,1.75,1.75,1.75,1.75],\n",
    "                'Unemployment_Rate': [5.3,5.3,5.3,5.3,5.4,5.6,5.5,5.5,5.5,5.6,5.7,5.9,6,5.9,5.8,6.1,6.2,6.1,6.1,6.1,5.9,6.2,6.2,6.1],\n",
    "                'Stock_Index_Price': [1464,1394,1357,1293,1256,1254,1234,1195,1159,1167,1130,1075,1047,965,943,958,971,949,884,866,876,822,704,719]        \n",
    "                }\n",
    "\n",
    "df = pd.DataFrame(Stock_Market,columns=['Year','Month','Interest_Rate','Unemployment_Rate','Stock_Index_Price']) \n",
    "\n",
    "X = df[['Interest_Rate','Unemployment_Rate']] \n",
    "Y = df['Stock_Index_Price']\n",
    " \n",
    "# with sklearn\n",
    "regr = linear_model.LinearRegression()\n",
    "regr.fit(X, Y)\n",
    "\n",
    "print('Intercept: \\n', regr.intercept_)\n",
    "print('Coefficients: \\n', regr.coef_)\n",
    "\n",
    "# prediction with sklearn\n",
    "New_Interest_Rate = 2.75\n",
    "New_Unemployment_Rate = 5.3\n",
    "print ('Predicted Stock Index Price: \\n', regr.predict([[New_Interest_Rate ,New_Unemployment_Rate]]))\n",
    "\n",
    "\n",
    "# with statsmodels\n",
    "X = sm.add_constant(X) # adding a constant\n",
    " \n",
    "model = sm.OLS(Y, X).fit()\n",
    "predictions = model.predict(X) \n",
    " \n",
    "print_model = model.summary()\n",
    "print(print_model)\n",
    "# sklearn looks more terse, statsmodels more like R"
   ]
  },
  {
   "cell_type": "code",
   "execution_count": null,
   "id": "integrated-software",
   "metadata": {},
   "outputs": [],
   "source": [
    "#intercept here is not meaningful because cai doesn't go below 0.4\n",
    "lr.intercept_"
   ]
  },
  {
   "cell_type": "code",
   "execution_count": null,
   "id": "reported-logan",
   "metadata": {},
   "outputs": [],
   "source": [
    "?lr"
   ]
  },
  {
   "cell_type": "code",
   "execution_count": null,
   "id": "paperback-study",
   "metadata": {},
   "outputs": [],
   "source": [
    "r2_score(y, lr.predict(X))"
   ]
  },
  {
   "cell_type": "code",
   "execution_count": null,
   "id": "secret-celebration",
   "metadata": {},
   "outputs": [],
   "source": [
    "y_pred = lr.predict(X)"
   ]
  },
  {
   "cell_type": "code",
   "execution_count": null,
   "id": "metric-prediction",
   "metadata": {},
   "outputs": [],
   "source": [
    "r2_score(y, y_pred)"
   ]
  },
  {
   "cell_type": "code",
   "execution_count": null,
   "id": "accessory-constraint",
   "metadata": {},
   "outputs": [],
   "source": [
    "lr.coef_"
   ]
  },
  {
   "cell_type": "code",
   "execution_count": null,
   "id": "mysterious-fairy",
   "metadata": {},
   "outputs": [],
   "source": [
    "a = att_df['category'].unique()\n",
    "a.sort()"
   ]
  },
  {
   "cell_type": "code",
   "execution_count": null,
   "id": "relevant-three",
   "metadata": {},
   "outputs": [],
   "source": [
    "a"
   ]
  },
  {
   "cell_type": "code",
   "execution_count": null,
   "id": "corrected-screen",
   "metadata": {},
   "outputs": [],
   "source": [
    "att_df.head()"
   ]
  },
  {
   "cell_type": "code",
   "execution_count": null,
   "id": "descending-universal",
   "metadata": {},
   "outputs": [],
   "source": [
    "att_df['updowngene'] = att_df['category'] == 'updowngene'"
   ]
  },
  {
   "cell_type": "code",
   "execution_count": null,
   "id": "conventional-reviewer",
   "metadata": {},
   "outputs": [],
   "source": [
    "X2[0:5, 2]"
   ]
  },
  {
   "cell_type": "code",
   "execution_count": null,
   "id": "reserved-compact",
   "metadata": {},
   "outputs": [],
   "source": [
    "lr.coef_.shape"
   ]
  },
  {
   "cell_type": "code",
   "execution_count": null,
   "id": "fatal-fishing",
   "metadata": {},
   "outputs": [],
   "source": [
    "len(lr.coef_)"
   ]
  },
  {
   "cell_type": "code",
   "execution_count": null,
   "id": "beginning-terrorist",
   "metadata": {},
   "outputs": [],
   "source": [
    "y_pred.reshape(-1).min()"
   ]
  },
  {
   "cell_type": "code",
   "execution_count": null,
   "id": "stupid-concern",
   "metadata": {},
   "outputs": [],
   "source": [
    "y_pred.reshape(-1).max()"
   ]
  },
  {
   "cell_type": "code",
   "execution_count": null,
   "id": "voluntary-content",
   "metadata": {},
   "outputs": [],
   "source": [
    "print(\"Intercept: \", lr.intercept_)\n",
    "print(\"Coefficients:\")\n",
    "list(zip(X2, lr.coef_))"
   ]
  },
  {
   "cell_type": "code",
   "execution_count": null,
   "id": "educational-election",
   "metadata": {},
   "outputs": [],
   "source": [
    "lr.coef_"
   ]
  },
  {
   "cell_type": "code",
   "execution_count": null,
   "id": "palestinian-venice",
   "metadata": {},
   "outputs": [],
   "source": [
    "X.shape"
   ]
  },
  {
   "cell_type": "code",
   "execution_count": null,
   "id": "lucky-mason",
   "metadata": {},
   "outputs": [],
   "source": [
    "X2.shape"
   ]
  },
  {
   "cell_type": "code",
   "execution_count": null,
   "id": "golden-nightmare",
   "metadata": {
    "jupyter": {
     "outputs_hidden": true
    }
   },
   "outputs": [],
   "source": [
    "att_df.head()"
   ]
  },
  {
   "cell_type": "code",
   "execution_count": null,
   "id": "academic-smart",
   "metadata": {},
   "outputs": [],
   "source": [
    "print(\"Intercept: \", mlr.intercept_)\n",
    "print(\"Coefficients:\")\n",
    "list(zip(x, mlr.coef_))"
   ]
  },
  {
   "cell_type": "code",
   "execution_count": null,
   "id": "stone-negotiation",
   "metadata": {},
   "outputs": [],
   "source": [
    "lr = LinearRegression()\n",
    "lr.fit(X, y)"
   ]
  },
  {
   "cell_type": "code",
   "execution_count": null,
   "id": "impressed-bargain",
   "metadata": {},
   "outputs": [],
   "source": [
    "y.shape"
   ]
  },
  {
   "cell_type": "code",
   "execution_count": null,
   "id": "metric-china",
   "metadata": {},
   "outputs": [],
   "source": [
    "y = \n",
    "X = rate_df[['CAI', 'updowngene']].values\n",
    "y = rate_df['stab_percentile'].values"
   ]
  },
  {
   "cell_type": "code",
   "execution_count": null,
   "id": "confidential-singles",
   "metadata": {},
   "outputs": [],
   "source": [
    "y.shape"
   ]
  },
  {
   "cell_type": "code",
   "execution_count": null,
   "id": "outstanding-motivation",
   "metadata": {},
   "outputs": [],
   "source": [
    "lr = LinearRegression()\n",
    "lr.fit(X, y)"
   ]
  },
  {
   "cell_type": "code",
   "execution_count": null,
   "id": "frank-wayne",
   "metadata": {},
   "outputs": [],
   "source": [
    "y_pred = lr.predict(X)"
   ]
  },
  {
   "cell_type": "code",
   "execution_count": null,
   "id": "twelve-lunch",
   "metadata": {},
   "outputs": [],
   "source": [
    "r2_score(y, y_pred)"
   ]
  },
  {
   "cell_type": "code",
   "execution_count": null,
   "id": "joint-freight",
   "metadata": {},
   "outputs": [],
   "source": [
    "pred_train_lr = lr.predict(X_train)\n",
    "print('RMSE train', np.sqrt(mean_squared_error(y_train, pred_train_lr)))\n",
    "print('R2 train', r2_score(y_train, pred_train_lr))"
   ]
  },
  {
   "cell_type": "code",
   "execution_count": null,
   "id": "linear-deputy",
   "metadata": {},
   "outputs": [],
   "source": [
    "lr.rank_"
   ]
  },
  {
   "cell_type": "code",
   "execution_count": null,
   "id": "ethical-forestry",
   "metadata": {},
   "outputs": [],
   "source": [
    "?lr"
   ]
  }
 ],
 "metadata": {
  "kernelspec": {
   "display_name": "Python 3 (ipykernel)",
   "language": "python",
   "name": "python3"
  },
  "language_info": {
   "codemirror_mode": {
    "name": "ipython",
    "version": 3
   },
   "file_extension": ".py",
   "mimetype": "text/x-python",
   "name": "python",
   "nbconvert_exporter": "python",
   "pygments_lexer": "ipython3",
   "version": "3.9.13"
  }
 },
 "nbformat": 4,
 "nbformat_minor": 5
}
