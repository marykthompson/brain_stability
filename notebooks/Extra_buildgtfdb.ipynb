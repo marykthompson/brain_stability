{
 "cells": [
  {
   "cell_type": "code",
   "execution_count": null,
   "metadata": {},
   "outputs": [],
   "source": [
    "import gffutils\n",
    "gtf_file = '/Users/mk/Desktop/Davislab/3.10_brain_stability/resources/dmel_628_elex.gtf'"
   ]
  },
  {
   "cell_type": "code",
   "execution_count": null,
   "metadata": {},
   "outputs": [],
   "source": [
    "#write gffutils db\n",
    "db_out = '/Users/mk/Desktop/Davislab/3.10_brain_stability/resources/dmel_628_elex.db'\n",
    "db = gffutils.create_db(gtf_file, db_out, disable_infer_genes = True, disable_infer_transcripts = True,\n",
    "force = True, merge_strategy = 'create_unique')\n",
    "introns = list(db.create_introns())\n",
    "#Add introns back to the database\n",
    "db.update(introns, disable_infer_genes = True, disable_infer_transcripts = True,\n",
    "          merge_strategy = 'create_unique', make_backup = False)"
   ]
  }
 ],
 "metadata": {
  "kernelspec": {
   "display_name": "Python 3.9.13 ('pretty')",
   "language": "python",
   "name": "python3"
  },
  "language_info": {
   "codemirror_mode": {
    "name": "ipython",
    "version": 3
   },
   "file_extension": ".py",
   "mimetype": "text/x-python",
   "name": "python",
   "nbconvert_exporter": "python",
   "pygments_lexer": "ipython3",
   "version": "3.9.13"
  },
  "vscode": {
   "interpreter": {
    "hash": "bdb49103a4ed208a05ea4530afbe53462c06fafea10c7833b005d674746fdb08"
   }
  }
 },
 "nbformat": 4,
 "nbformat_minor": 2
}
