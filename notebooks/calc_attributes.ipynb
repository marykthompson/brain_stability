{
 "cells": [
  {
   "cell_type": "markdown",
   "id": "announced-healing",
   "metadata": {},
   "source": [
    "#### calc attributes\n",
    "- Look at physical attributes of the API genes\n",
    "- transcript length, intron length, UTR lengths\n",
    "- GC content\n",
    "- codon optimality"
   ]
  },
  {
   "cell_type": "code",
   "execution_count": null,
   "id": "failing-equality",
   "metadata": {},
   "outputs": [],
   "source": [
    "import sys\n",
    "import pandas as pd\n",
    "import seaborn as sns\n",
    "import os\n",
    "import gffutils\n",
    "import numpy as np\n",
    "from collections import defaultdict\n",
    "import scipy.stats as stats\n",
    "from Bio import SeqIO\n",
    "from Bio.Seq import Seq\n",
    "import pickle\n",
    "\n",
    "sys.path.append('../scripts')\n",
    "from plot_helpers import *\n",
    "\n",
    "db = gffutils.FeatureDB(gffutils_db)\n",
    "\n",
    "outdir = '../Figures/gene_attributes/'\n",
    "os.makedirs(outdir, exist_ok=True)\n",
    "\n",
    "%load_ext autoreload\n",
    "%autoreload 2"
   ]
  },
  {
   "cell_type": "code",
   "execution_count": null,
   "id": "stone-dealing",
   "metadata": {},
   "outputs": [],
   "source": [
    "bg_file1 = '../Figures/summary_files/inspect/synth_rates_filt.csv'\n",
    "synth_df = pd.read_csv(bg_file1, index_col=0)\n",
    "bg_genes = synth_df.index"
   ]
  },
  {
   "cell_type": "markdown",
   "id": "clean-opening",
   "metadata": {},
   "source": [
    "#### Part I: Examine the UTR "
   ]
  },
  {
   "cell_type": "code",
   "execution_count": null,
   "id": "dying-colony",
   "metadata": {},
   "outputs": [],
   "source": [
    "#Get UTR lengths of ASR genes\n",
    "#background set should be all genes that passed the filter:\n",
    "tutr_d = defaultdict(list)\n",
    "futr_d = defaultdict(list)\n",
    "txt_d = defaultdict(list)\n",
    "p=0\n",
    "for i in bg_genes:\n",
    "    txts = db.children(i, featuretype='transcript')\n",
    "    for t in txts:\n",
    "        tlen = db.children_bp(t, child_featuretype='three_prime_utr')\n",
    "        flen = db.children_bp(t, child_featuretype='five_prime_utr')\n",
    "        txtlen = db.children_bp(t, child_featuretype='exon')\n",
    "        tutr_d[i].append((tlen, t.id))\n",
    "        futr_d[i].append((flen, t.id))\n",
    "        txt_d[i].append((cdslen, t.id))\n",
    "    p+=1\n",
    "    #if p>0:\n",
    "    #    break"
   ]
  },
  {
   "cell_type": "code",
   "execution_count": null,
   "id": "enabling-action",
   "metadata": {},
   "outputs": [],
   "source": [
    "max_tutr = {k:max(v) for (k,v) in tutr_d.items()}\n",
    "max_futr = {k:max(v) for (k,v) in futr_d.items()}\n",
    "max_txt = {k:max(v) for (k,v) in txt_d.items()}\n",
    "max_tutr_len = {k:max(v)[0] for (k,v) in tutr_d.items()}\n",
    "max_futr_len = {k:max(v)[0] for (k,v) in futr_d.items()}\n",
    "max_txt_len = {k:max(v)[0] for (k,v) in txt_d.items()}\n",
    "max_tutr_id = {k:max(v)[1] for (k,v) in tutr_d.items()}\n",
    "max_futr_id = {k:max(v)[1] for (k,v) in futr_d.items()}\n",
    "max_txt_id = {k:max(v)[1] for (k,v) in txt_d.items()}\n",
    "df = pd.DataFrame.from_dict(max_tutr_len, orient='index', columns = ['tutr'])\n",
    "df['futr'] = df.index.map(max_futr_len)\n",
    "df['txt'] = df.index.map(max_cds_len)\n",
    "df['gene_length'] = df.index.map(lambda x: db[x].end - db[x].start + 1)\n",
    "#df['log_tutr'] = df['tutr'].apply(np.log10)\n",
    "#df['log_futr'] = df['futr'].apply(np.log10)\n",
    "#df['log_txt'] = df['txt'].apply(np.log10)\n",
    "#df['log_gene'] = df['gene_length'].apply(np.log10)\n",
    "#log_df = df.replace([np.inf, -np.inf], np.nan).dropna(how='any')"
   ]
  },
  {
   "cell_type": "code",
   "execution_count": null,
   "id": "loved-china",
   "metadata": {},
   "outputs": [],
   "source": [
    "#write the genes with the max futr, tutr, or txt length to use for motif analysis\n",
    "with open(os.path.join(outdir, 'max_tutr_gene.p'), 'wb') as f:\n",
    "    pickle.dump(max_tutr_id, f)\n",
    "with open(os.path.join(outdir, 'max_futr_gene.p'), 'wb') as f:\n",
    "    pickle.dump(max_futr_id, f)\n",
    "with open(os.path.join(outdir, 'max_txt_gene.p'), 'wb') as f:\n",
    "    pickle.dump(max_txt_id, f)"
   ]
  },
  {
   "cell_type": "markdown",
   "id": "abandoned-steal",
   "metadata": {},
   "source": [
    "#### Part II: Examine the UTR GC content and structure"
   ]
  },
  {
   "cell_type": "code",
   "execution_count": null,
   "id": "colonial-cradle",
   "metadata": {},
   "outputs": [],
   "source": [
    "def parse_fb_fasta(infile):\n",
    "    records = list(SeqIO.parse(infile, \"fasta\"))\n",
    "    seq_dict = {}\n",
    "    n = 0\n",
    "    for i in records:\n",
    "        att_string = i.description.split('; ')\n",
    "        txt_id = att_string[0].split(' ')[0]\n",
    "        attributes = dict(zip([i.split('=')[0] for i in att_string], [i.split('=')[1] for i in att_string]))\n",
    "        gene_id = attributes['parent']\n",
    "        seq_dict[txt_id] = {}\n",
    "        seq_dict[txt_id]['gene'] = gene_id\n",
    "        seq_dict[txt_id]['seq'] = str(i.seq)\n",
    "        n+=1\n",
    "    return seq_dict\n",
    "\n",
    "def count_gc(genelist, seq_dict, gene2txt):\n",
    "    gc_dict = {}\n",
    "    for i in genelist:\n",
    "        try:\n",
    "            longest_utr = seq_dict[gene2txt[i]]['seq']\n",
    "            gc_content = (longest_utr.count('G') + longest_utr.count('C'))/len(longest_utr)\n",
    "            gc_dict[i] = gc_content\n",
    "        except KeyError:\n",
    "            #keyError for non-coding RNAs\n",
    "            pass\n",
    "    return gc_dict"
   ]
  },
  {
   "cell_type": "code",
   "execution_count": null,
   "id": "reverse-second",
   "metadata": {},
   "outputs": [],
   "source": [
    "futr_file = '../../resources/genome_seqs/dmel-all-five_prime_UTR-r6.28.fasta'\n",
    "futr_dict = parse_fb_fasta(futr_file)"
   ]
  },
  {
   "cell_type": "code",
   "execution_count": null,
   "id": "exceptional-corps",
   "metadata": {},
   "outputs": [],
   "source": [
    "tutr_file = '../../resources/genome_seqs/dmel-all-three_prime_UTR-r6.28.fasta'\n",
    "tutr_dict = parse_fb_fasta(tutr_file)"
   ]
  },
  {
   "cell_type": "code",
   "execution_count": null,
   "id": "becoming-passport",
   "metadata": {},
   "outputs": [],
   "source": [
    "tutr_gc = count_gc(df.index, tutr_dict, max_tutr_id)\n",
    "futr_gc = count_gc(df.index, futr_dict, max_futr_id)"
   ]
  },
  {
   "cell_type": "code",
   "execution_count": null,
   "id": "adopted-scout",
   "metadata": {},
   "outputs": [],
   "source": [
    "df['futr_gc'] = df.index.map(futr_gc)\n",
    "df['tutr_gc'] = df.index.map(tutr_gc)"
   ]
  },
  {
   "cell_type": "markdown",
   "id": "understanding-transsexual",
   "metadata": {},
   "source": [
    "#### Part III: Add in the CAI values (see calc_CAI.ipynb)"
   ]
  },
  {
   "cell_type": "code",
   "execution_count": null,
   "id": "downtown-shakespeare",
   "metadata": {},
   "outputs": [],
   "source": [
    "cai_file = os.path.join(outdir, 'CAI/CAI_values.csv')\n",
    "cai_df = pd.read_csv(cai_file, index_col=0)\n",
    "cai_df.rename(columns = {'length':'cds_length'}, inplace=True)"
   ]
  },
  {
   "cell_type": "code",
   "execution_count": null,
   "id": "accredited-enough",
   "metadata": {},
   "outputs": [],
   "source": [
    "pd.merge(df, cai_df, left_index=True, right_index=True).to_csv(os.path.join(outdir, 'gene_attributes.csv'))"
   ]
  }
 ],
 "metadata": {
  "kernelspec": {
   "display_name": "Python 3",
   "language": "python",
   "name": "python3"
  },
  "language_info": {
   "codemirror_mode": {
    "name": "ipython",
    "version": 3
   },
   "file_extension": ".py",
   "mimetype": "text/x-python",
   "name": "python",
   "nbconvert_exporter": "python",
   "pygments_lexer": "ipython3",
   "version": "3.9.0"
  }
 },
 "nbformat": 4,
 "nbformat_minor": 5
}
