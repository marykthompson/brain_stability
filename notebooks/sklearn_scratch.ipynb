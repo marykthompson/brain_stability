{
 "cells": [
  {
   "cell_type": "code",
   "execution_count": null,
   "id": "compound-composite",
   "metadata": {},
   "outputs": [],
   "source": [
    "from sklearn.preprocessing import OneHotEncoder"
   ]
  },
  {
   "cell_type": "code",
   "execution_count": null,
   "id": "freelance-projection",
   "metadata": {},
   "outputs": [],
   "source": [
    "enc = OneHotEncoder(handle_unknown='ignore')\n",
    "X = [['Male', 1], ['Female', 3], ['Female', 2]]\n",
    "enc.fit(X)\n",
    "# OneHotEncoder(handle_unknown='ignore')\n",
    "# enc.categories_\n",
    "# [array(['Female', 'Male'], dtype=object), array([1, 2, 3], dtype=object)]\n",
    "enc.transform([['Female', 1], ['Male', 4]]).toarray()\n",
    "# array([[1., 0., 1., 0., 0.],\n",
    "#        [0., 1., 0., 0., 0.]])\n",
    "# enc.inverse_transform([[0, 1, 1, 0, 0], [0, 0, 0, 1, 0]])\n",
    "# array([['Male', 1],\n",
    "#        [None, 2]], dtype=object)\n",
    "# enc.get_feature_names_out(['gender', 'group'])\n",
    "# array(['gender_Female', 'gender_Male', 'group_1', 'group_2', 'group_3'], ...)"
   ]
  },
  {
   "cell_type": "code",
   "execution_count": null,
   "id": "restricted-growth",
   "metadata": {},
   "outputs": [],
   "source": [
    "enc.transform([['Female', 1], ['Male', 4]])"
   ]
  },
  {
   "cell_type": "code",
   "execution_count": null,
   "id": "right-settle",
   "metadata": {},
   "outputs": [],
   "source": [
    "enc.categories_"
   ]
  }
 ],
 "metadata": {
  "kernelspec": {
   "display_name": "Python 3",
   "language": "python",
   "name": "python3"
  },
  "language_info": {
   "codemirror_mode": {
    "name": "ipython",
    "version": 3
   },
   "file_extension": ".py",
   "mimetype": "text/x-python",
   "name": "python",
   "nbconvert_exporter": "python",
   "pygments_lexer": "ipython3",
   "version": "3.9.0"
  }
 },
 "nbformat": 4,
 "nbformat_minor": 5
}
