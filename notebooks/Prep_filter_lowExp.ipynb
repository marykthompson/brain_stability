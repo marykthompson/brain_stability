{
 "cells": [
  {
   "cell_type": "markdown",
   "id": "younger-consolidation",
   "metadata": {},
   "source": [
    "### Prep filter low exp\n",
    "- Filter libraries to remove genes with low expression levels before further analysis"
   ]
  },
  {
   "cell_type": "code",
   "execution_count": null,
   "id": "subtle-sunglasses",
   "metadata": {},
   "outputs": [],
   "source": [
    "#Imports\n",
    "import sys\n",
    "import os\n",
    "import pandas as pd\n",
    "import seaborn as sns\n",
    "import numpy as np\n",
    "import math\n",
    "import scipy.stats as stats\n",
    "import gffutils\n",
    "\n",
    "sys.path.append('../scripts')\n",
    "from plot_helpers import *\n",
    "from utilities import filter_low_exp, load_dataset\n",
    "\n",
    "db = gffutils.FeatureDB(gffutils_db)\n",
    "\n",
    "%load_ext autoreload\n",
    "%autoreload 2"
   ]
  },
  {
   "cell_type": "markdown",
   "id": "educational-individual",
   "metadata": {},
   "source": [
    "#### Choice of filtering level for the experiments\n",
    "- Set the filtering level to 10 counts in at least 2/3 of libraries in one condition/replicate set\n",
    "- For most experimental sets, npass=2 because there were three replicates\n",
    "- For the ph/mock BG3 data, npass=4 for input mock because there were 6 replicates"
   ]
  },
  {
   "cell_type": "code",
   "execution_count": null,
   "id": "brutal-separation",
   "metadata": {},
   "outputs": [],
   "source": [
    "#Get the genes passing the read count filtering for the each experiment\n",
    "outdir = '../Figures/summary_files'\n",
    "os.makedirs(outdir, exist_ok = True)\n",
    "\n",
    "#Exp1 (Brain4sU)\n",
    "res_file1 = os.path.join(results_dir, 'gene_quantification','summary_abundance_by_gene_filtered.csv')\n",
    "exp1 = [{'RNAtype':'input', 'condition':1, 'npass':2}, {'RNAtype':'pd', 'condition':1, 'npass':2}]\n",
    "passed_genes1 = filter_low_exp(res_file1, filter_by='count', filter_co=10, experiments=exp1, \n",
    "                              outname=os.path.join(outdir,'brain4sU'))\n",
    "\n",
    "#Exp2 (BrainInc)\n",
    "res_file2 = os.path.join(results_dir_inctest, 'gene_quantification','summary_abundance_by_gene_filtered.csv')\n",
    "exp2 = [{'RNAtype':'input', 'condition':'0mock', 'npass':2}, {'RNAtype':'input', 'condition':'60mock', 'npass':2}]\n",
    "passed_genes2 = filter_low_exp(res_file2, filter_by='count', filter_co=10, experiments=exp2, \n",
    "                               outname=os.path.join(outdir,'brainInc'))\n",
    "\n",
    "#Exp3 (BG3 Ph RNAi)\n",
    "res_file3 = os.path.join(results_dir_pherson, 'gene_quantification', 'summary_abundance_by_gene_filtered.csv')\n",
    "exp3 = [{'RNAtype':'input', 'condition':'mock', 'npass':4}, {'RNAtype':'input', 'condition':'ph', 'npass':2},\n",
    "        {'RNAtype':'pd', 'condition':'mock', 'npass':2}, {'RNAtype':'pd', 'condition':'ph', 'npass':2}]\n",
    "passed_genes3 = filter_low_exp(res_file3, filter_by='count', filter_co=10, experiments=exp3, \n",
    "                               outname=os.path.join(outdir,'BG3'))"
   ]
  },
  {
   "cell_type": "code",
   "execution_count": null,
   "id": "regional-ethernet",
   "metadata": {},
   "outputs": [],
   "source": [
    "#What is TPM for the lowest expression passed genes?\n",
    "def get_cpm_co(df, read_col):\n",
    "    '''Print the equivalent CPM cutoff for the read cutoff applied for that dataset'''\n",
    "    df['CPM'] = df[read_col]*1e6/df.groupby(['replicate', 'condition', 'RNAtype'])[read_col].transform('sum')\n",
    "    df2 = df.reset_index().groupby(['gene', 'condition', 'RNAtype'])['CPM'].mean()\n",
    "    df2.groupby('gene').max().sort_values(ascending=True)\n",
    "    min_cpm_passed = df2.groupby('gene').max().min()\n",
    "    print('min cpm passed gene', f'{min_cpm_passed}')"
   ]
  },
  {
   "cell_type": "code",
   "execution_count": null,
   "id": "likely-prime",
   "metadata": {},
   "outputs": [],
   "source": [
    "get_cpm_co(load_dataset(res_file1, os.path.join(outdir,'brain4sU_passed.csv')), 'summed_est_counts')"
   ]
  },
  {
   "cell_type": "code",
   "execution_count": null,
   "id": "speaking-monitoring",
   "metadata": {},
   "outputs": [],
   "source": [
    "get_cpm_co(load_dataset(res_file2, os.path.join(outdir,'brainInc_passed.csv')), 'summed_est_counts')"
   ]
  },
  {
   "cell_type": "code",
   "execution_count": null,
   "id": "advance-consultation",
   "metadata": {},
   "outputs": [],
   "source": [
    "get_cpm_co(load_dataset(res_file3, os.path.join(outdir,'BG3_passed.csv')), 'summed_est_counts')"
   ]
  }
 ],
 "metadata": {
  "kernelspec": {
   "display_name": "Python 3.9.13 ('pretty')",
   "language": "python",
   "name": "python3"
  },
  "language_info": {
   "codemirror_mode": {
    "name": "ipython",
    "version": 3
   },
   "file_extension": ".py",
   "mimetype": "text/x-python",
   "name": "python",
   "nbconvert_exporter": "python",
   "pygments_lexer": "ipython3",
   "version": "3.9.13"
  },
  "vscode": {
   "interpreter": {
    "hash": "bdb49103a4ed208a05ea4530afbe53462c06fafea10c7833b005d674746fdb08"
   }
  }
 },
 "nbformat": 4,
 "nbformat_minor": 5
}
