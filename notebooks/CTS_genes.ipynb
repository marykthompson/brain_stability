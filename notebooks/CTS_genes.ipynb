{
 "cells": [
  {
   "cell_type": "markdown",
   "id": "stock-maple",
   "metadata": {},
   "source": [
    "#### CTS genes\n",
    "- Extract the genes which are enriched in specific cell types using the Cocanougher et al., 2022 dataset\n",
    "- Issues:\n",
    "- I originally tried using the annotations from v6.13 to convert the IDs, but there are some genes, like FBgn0287720, which don't even show up in 6.32. I therefore suspect that they are using a quite new version of the annotations which is unspecified\n",
    "- Many of the genes have no FBg numbers, but rather only symbols. No idea what they did\n",
    "- To get around this I have manually put the symbol only genes into the Flybase ID validator on version 6.48"
   ]
  },
  {
   "cell_type": "code",
   "execution_count": null,
   "id": "current-austin",
   "metadata": {},
   "outputs": [],
   "source": [
    "#Imports\n",
    "import sys\n",
    "import os\n",
    "import pandas as pd\n",
    "import seaborn as sns\n",
    "import numpy as np\n",
    "import math\n",
    "import gffutils\n",
    "import scipy.stats as stats\n",
    "from collections import defaultdict\n",
    "import warnings\n",
    "\n",
    "sys.path.append('../scripts')\n",
    "from plot_helpers import *\n",
    "from plotting_fxns import PrettyBox\n",
    "from utilities import load_dataset\n",
    "from annotation_utilities import *\n",
    "\n",
    "%load_ext autoreload\n",
    "%autoreload 2"
   ]
  },
  {
   "cell_type": "code",
   "execution_count": null,
   "id": "f1a621fd",
   "metadata": {},
   "outputs": [],
   "source": [
    "# Create the ID mapping table. The index is the old ID and the columns contain the newID\n",
    "id_dir = '../../resources/id_conversion/'\n",
    "# I don't know the annotation version used, so try to convert using the current ones\n",
    "dmel648_file = os.path.join(id_dir, 'fbgn_annotation_ID_fb_2022_05.tsv')\n",
    "dmel628_file = os.path.join(id_dir, 'fbgn_annotation_ID_fb_2019_03.tsv')"
   ]
  },
  {
   "cell_type": "code",
   "execution_count": null,
   "id": "6e2afbaa",
   "metadata": {},
   "outputs": [],
   "source": [
    "# Get all the genes reported by Corrales et al., 2022 and convert the IDs\n",
    "outdir = '../Figures/CTS'\n",
    "os.makedirs(outdir, exist_ok=True)\n",
    "dfs = []\n",
    "# Load the genes enriched from single-cell sequencing in L3 brains\n",
    "sc_file = '../../resources/other_studies/Corrales_Supplementary/Supplementary_spreadsheet_2_Ncells_and_gene_markers_per_cluster.xlsx'\n",
    "xl = pd.ExcelFile(sc_file)\n",
    "sheets = xl.sheet_names\n",
    "sheets.remove('Ncells-cluster')\n",
    "celltype_replace = {'34 Immat': '34 Immat N'}\n",
    "for i in range(0, len(sheets)):\n",
    "    df = pd.read_excel(sc_file, sheets[i])\n",
    "    dfs.append(df)\n",
    "big_df = pd.concat(dfs)\n"
   ]
  },
  {
   "cell_type": "code",
   "execution_count": null,
   "id": "a5a64698",
   "metadata": {},
   "outputs": [],
   "source": [
    "# Split the genes into those with an FBg ID and those without\n",
    "FBgs = big_df['FBgn_ID'].dropna()\n",
    "lncs = big_df.loc[pd.isnull(big_df['FBgn_ID']), 'gene'].dropna()"
   ]
  },
  {
   "cell_type": "code",
   "execution_count": null,
   "id": "784b4fe2",
   "metadata": {},
   "outputs": [],
   "source": [
    "# Create the ID mapping table. The index is the old ID and the columns contain the newID\n",
    "id_dir = '../../resources/id_conversion/'\n",
    "# I don't know the annotation version used, so try to convert using the current ones\n",
    "dmel648_file = os.path.join(id_dir, 'fbgn_annotation_ID_fb_2022_05.tsv')\n",
    "corrales_gene_df = update_ids(dmel648_file, genes=FBgs)\n",
    "# This will print the ones with no new ID, which could be due to a withdrawn gene model\n"
   ]
  },
  {
   "cell_type": "code",
   "execution_count": null,
   "id": "666afe8c",
   "metadata": {},
   "outputs": [],
   "source": [
    "# Get the mapping between 628 -> 648\n",
    "thompson_gene_df = update_ids(dmel648_file, dmel628_file)"
   ]
  },
  {
   "cell_type": "code",
   "execution_count": null,
   "id": "47f897d9",
   "metadata": {},
   "outputs": [],
   "source": [
    "# Convert the genes with symbols only to 6.48\n",
    "# Try to resolve the ones with symbols using current annotation versions\n",
    "# corrales_lnc_df = update_ids(dmel648_file, dmel648_file, id_type='symbol', genes=lncs)\n",
    "# This doesn't work because 104 genes cannot be mapped this way.\n",
    "# In total there are 193 genes which have only a symbol specified and no FBg\n",
    "\n",
    "# ID Resolution using the Flybase ID validator:\n",
    "pd.DataFrame(lncs.unique()).to_csv(os.path.join(outdir, 'corrales_symbol_only_genes.csv'), header=False, index=False)\n",
    "# Used the Flybase ID validator from 2022_05 to convert the symbols from unknown version to 2022_05, this step done manually on the web\n",
    "val_df = pd.read_csv(os.path.join(outdir, 'corrales_id_validation_table.txt'), sep='\\t')\n",
    "# Drop IDs not corresponding to genes, i.e. balancers, etc.\n",
    "val_df['is_gene'] = val_df['validated_id'].apply(lambda x: x.startswith('FBg'))\n",
    "val_df = val_df.query('is_gene').drop('is_gene', axis=1)\n",
    "val_df = val_df.set_index('#submitted_item', drop=False)\n",
    "val_df.index.name = 'index'\n",
    "lnc_df = resolve_splits(val_df, old_sym='#submitted_item', new_sym='current_symbol', new_ID='validated_id')\n",
    "lnc_df = lnc_df[['validated_id', 'current_symbol']].copy()\n",
    "lnc_df.columns = ['new_ID', 'new_sym']\n",
    "corrales_gene_df = pd.concat([corrales_gene_df, lnc_df])\n",
    "# Now for each gene group, we could map from index -> newID which would give us the id in 6.48 space\n",
    "# Then later we can convert 6.28 to 6.48 using the thompson_gene_df"
   ]
  },
  {
   "cell_type": "code",
   "execution_count": null,
   "id": "48336161",
   "metadata": {},
   "outputs": [],
   "source": [
    "outdir = '../Figures/CTS'\n",
    "os.makedirs(outdir, exist_ok=True)\n",
    "\n",
    "pval_co = 0.05\n",
    "# fc_co is in log2\n",
    "fc_co = 1\n",
    "\n",
    "# Load the genes enriched from single-cell sequencing in L3 brains\n",
    "sc_file = '../../resources/other_studies/Corrales_Supplementary/Supplementary_spreadsheet_2_Ncells_and_gene_markers_per_cluster.xlsx'\n",
    "xl = pd.ExcelFile(sc_file)\n",
    "sheets = xl.sheet_names\n",
    "sheets.remove('Ncells-cluster')\n",
    "ct_names = []\n",
    "# Replace some names because of typos in the spreadsheet\n",
    "celltype_replace = {'34 Immat': '34 Immat N'}\n",
    "marker_dict = {}\n",
    "for i in range(0, len(sheets)):\n",
    "    df = pd.read_excel(sc_file, sheets[i])\n",
    "    celltype = sheets[i].strip()\n",
    "    if celltype in celltype_replace:\n",
    "        celltype = celltype_replace[celltype]\n",
    "\n",
    "    genes = df.loc[(df['p_val_adj'] < pval_co) & (df['avg_log2FC'] >= fc_co)]\n",
    "    # Remove this artificial transgene\n",
    "    transgenes = ['nls-tdTomato', 'myr-GFP-p10']\n",
    "    genes = genes[~genes['gene'].isin(transgenes)].copy()\n",
    "    normal_genes = genes.dropna(subset=['FBgn_ID'])['FBgn_ID'].values.tolist()\n",
    "    lnc_genes = genes.loc[pd.isnull(genes['FBgn_ID']), 'gene'].values.tolist()\n",
    "    # Get the gene IDs in 6.48 equivalent\n",
    "    marker_genes = corrales_gene_df.loc[corrales_gene_df.index.isin((normal_genes + lnc_genes)), 'new_ID'].values\n",
    "    # Add to 6.28 table\n",
    "    thompson_gene_df[celltype] = thompson_gene_df['new_ID'].isin(marker_genes)\n",
    "    len_original = len((lnc_genes+normal_genes))\n",
    "    len_converted = len(thompson_gene_df[thompson_gene_df[celltype]])\n",
    "    try:\n",
    "        assert len_original == len_converted\n",
    "    except:\n",
    "        old_set = set(normal_genes + lnc_genes)\n",
    "        new_set = set(thompson_gene_df[thompson_gene_df[celltype]]['new_ID'].tolist())\n",
    "        print(old_set.difference(new_set))\n",
    "        # This one gene, CG function unknown, was not present in the 6.28 annotations, so don't use\n",
    "        # thompson_gene_df.query('new_ID == \"FBgn0287218\"')\n",
    "    ct_names.append(celltype)"
   ]
  },
  {
   "cell_type": "code",
   "execution_count": null,
   "id": "comic-pulse",
   "metadata": {},
   "outputs": [],
   "source": [
    "# Combine cell types of the same name to form a general cell type, e.g. Immat N\n",
    "# Alter this now so that it accepts a dataframe as the input\n",
    "def is_int(string):\n",
    "    try:\n",
    "        return int(string)\n",
    "    except:\n",
    "        return None\n",
    "\n",
    "def clean_name(string):\n",
    "    return ' '.join(string.split(' ')[1:])\n",
    "\n",
    "clean_names = [i for i in ct_names if is_int(i) is None]\n",
    "\n",
    "celltypes = defaultdict(set)\n",
    "for i in clean_names:\n",
    "    name = clean_name(i)\n",
    "    celltypes[name].add(i)\n",
    "\n",
    "# Combine redundant categories, e.g. hemocytes will be labelled as hemos\n",
    "ct_combine = {'Hemocytes':'Hemos', 'KCs N':'KCs'}\n",
    "celltypes2 = {}\n",
    "for i in celltypes:\n",
    "    if i in ct_combine:\n",
    "        old_label = i\n",
    "        new_label = ct_combine[i]\n",
    "    else:\n",
    "        new_label = i\n",
    "    if new_label not in celltypes2:\n",
    "        celltypes2[new_label] = celltypes[i]\n",
    "    else:\n",
    "        celltypes2[new_label].update(celltypes[i])\n",
    "\n",
    "# Get the CTS genes, converted to 6.28 FBgs\n",
    "marker_dict = defaultdict(set)\n",
    "for i in celltypes2:\n",
    "    marker_dict[i] = thompson_gene_df.loc[thompson_gene_df[list(celltypes2[i])].any(axis=1)].index\n",
    "\n",
    "ct_names2 = list(marker_dict.keys())\n",
    "clean_names2 = [i for i in ct_names2 if is_int(i) is None]\n",
    "\n",
    "# In order to allow for genes to overlap cell types, we need to duplicate the gene index\n",
    "d = defaultdict(list)\n",
    "for cat in marker_dict:\n",
    "    for gene in marker_dict[cat]:\n",
    "        d[gene].append(cat)\n",
    "\n",
    "# Need to do this instead of melt inorder to allow genes to be a member of more than one category\n",
    "# https://stackoverflow.com/questions/42869544/dictionary-of-lists-to-dataframe\n",
    "cts_df = pd.DataFrame(pd.concat({k: pd.Series(v) for k, v in d.items()}).droplevel(1), columns=['celltype'])\n",
    "# Write CTS outfile for later use:\n",
    "cts_df.to_csv(os.path.join(outdir, f'cts_celltypes_log%1.2f.csv' % fc_co))"
   ]
  }
 ],
 "metadata": {
  "kernelspec": {
   "display_name": "Python 3.9.13 ('pretty')",
   "language": "python",
   "name": "python3"
  },
  "language_info": {
   "codemirror_mode": {
    "name": "ipython",
    "version": 3
   },
   "file_extension": ".py",
   "mimetype": "text/x-python",
   "name": "python",
   "nbconvert_exporter": "python",
   "pygments_lexer": "ipython3",
   "version": "3.9.13"
  },
  "vscode": {
   "interpreter": {
    "hash": "bdb49103a4ed208a05ea4530afbe53462c06fafea10c7833b005d674746fdb08"
   }
  }
 },
 "nbformat": 4,
 "nbformat_minor": 5
}
