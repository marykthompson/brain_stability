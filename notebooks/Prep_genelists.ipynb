{
 "cells": [
  {
   "cell_type": "markdown",
   "id": "macro-sleeve",
   "metadata": {},
   "source": [
    "#### Prep genelists ###\n",
    "- Prepare genelists, converting IDs to the version used (r6.28)"
   ]
  },
  {
   "cell_type": "code",
   "execution_count": null,
   "id": "assured-monroe",
   "metadata": {},
   "outputs": [],
   "source": [
    "#Imports\n",
    "import sys\n",
    "import os\n",
    "import pandas as pd\n",
    "\n",
    "sys.path.append('../scripts')\n",
    "\n",
    "from annotation_utilities import *\n",
    "from plot_helpers import *\n",
    "\n",
    "%load_ext autoreload\n",
    "%autoreload 2"
   ]
  },
  {
   "cell_type": "code",
   "execution_count": null,
   "id": "initial-giving",
   "metadata": {},
   "outputs": [],
   "source": [
    "## Flybase ID problem explanation\n",
    "from IPython.display import Image\n",
    "Image('../../resources/flybase_files/FlybaseID_problem.png')"
   ]
  },
  {
   "cell_type": "code",
   "execution_count": null,
   "id": "ceramic-dominican",
   "metadata": {},
   "outputs": [],
   "source": [
    "outdir = '../Figures/genesets'\n",
    "os.makedirs(outdir, exist_ok=True)"
   ]
  },
  {
   "cell_type": "code",
   "execution_count": null,
   "id": "alone-honey",
   "metadata": {},
   "outputs": [],
   "source": [
    "# Load all the genes possibly in the dataset and convert to version 6.32\n",
    "result_file = os.path.join(results_dir, 'gene_quantification/summary_abundance_by_gene.csv')\n",
    "result_genes = list(set(pd.read_csv(result_file, index_col=0).index))"
   ]
  },
  {
   "cell_type": "code",
   "execution_count": null,
   "id": "authentic-uniform",
   "metadata": {},
   "outputs": [],
   "source": [
    "# Create the ID mapping table. The index is the old ID and the columns contain the newID\n",
    "id_dir = '../../resources/id_conversion/'\n",
    "dmel628_file = os.path.join(id_dir, 'fbgn_annotation_ID_fb_2019_03.tsv')\n",
    "dmel632_file = os.path.join(id_dir, 'fbgn_annotation_ID_fb_2020_01.tsv')\n",
    "# df = update_ids(result_genes, dmel628_file, dmel632_file)\n",
    "# df = update_ids(dmel632_file, dmel628_file, genes=result_genes)\n",
    "df = update_ids(dmel632_file, dmel628_file)\n",
    "\n",
    "# This will print the ones with no new ID, which could be due to a withdrawn gene model\n",
    "# print(df[pd.isnull(df['new_ID'])])"
   ]
  },
  {
   "cell_type": "code",
   "execution_count": null,
   "id": "4ff1afe4",
   "metadata": {},
   "outputs": [],
   "source": [
    "# Create the ID mapping table for 6.28->6.40. This is needed for the neurite enriched genes\n",
    "dmel640_file = os.path.join(id_dir, 'fbgn_annotation_ID_fb_2021_03.tsv')\n",
    "df_dmel640 = update_ids(dmel640_file, dmel628_file)"
   ]
  },
  {
   "cell_type": "code",
   "execution_count": null,
   "id": "peaceful-midnight",
   "metadata": {},
   "outputs": [],
   "source": [
    "# Mark which genes are TFs, using the gene table from dmel6.32\n",
    "res_dir = '../../resources/genelists/'\n",
    "tf_file = os.path.join(res_dir, 'TFs_dmel632.txt')\n",
    "tf_ids = set(pd.read_csv(tf_file, sep='\\t', header=None)[0].tolist())\n",
    "# Get TF genelist membership by using the 6.32 IDs\n",
    "df['TF'] = df['new_ID'].isin(tf_ids)\n",
    "TF_IDs_converted = df.query('TF').reset_index()['index'].to_csv(os.path.join(outdir, 'all_TFs.csv'), header=False, index=False)"
   ]
  },
  {
   "cell_type": "code",
   "execution_count": null,
   "id": "5e0fa6d7",
   "metadata": {},
   "outputs": [],
   "source": [
    "print('original number of TFs %s' % len(tf_ids))\n",
    "print('number of converted TFs %s' % len(df.query('TF')))"
   ]
  },
  {
   "cell_type": "code",
   "execution_count": null,
   "id": "3eb41ef7",
   "metadata": {},
   "outputs": [],
   "source": [
    "# Convert the neurite genes from 6.32 (output with DIOPT v9) -> 6.28\n",
    "# Look at overlap with Kugelgen neurite enrichment review:\n",
    "# Output the ENSMUS symbols for DIOPT tool\n",
    "# the table is Extended table 2: https://bimsbstatic.mdc-berlin.de/chekulaeva/Supplementary_online_tables.html\n",
    "nmj_dir = '/Users/mk/Desktop/Davislab_old/3.4_NMJ_4Tu_4sU/3.4e_pipeline_dev/nmj_figures/resources/'\n",
    "neur_file = os.path.join(nmj_dir, 'neural_loc/Kugelgen_enriched.csv')\n",
    "neur_outfile = os.path.join(nmj_dir, 'neural_loc/Kugelgen_enriched_ensmus.csv')\n",
    "neur_df = pd.read_csv(neur_file)\n",
    "neur_df[neur_df['Datasets with significant neurite enrichment (p<0.1)']>= 3]['gene_id'].to_csv(neur_outfile, index=False, header=False)"
   ]
  },
  {
   "cell_type": "markdown",
   "id": "03715901",
   "metadata": {},
   "source": [
    "\n",
    "https://www.flyrnai.org/cgi-bin/DRSC_orthologs_v09.pl\n",
    "The Kugelgen_enriched_ensmus genes were then put into DIOPT v9.0 web app and output as Kugelgen_enriched_fly.csv\n",
    "Your 2712 query symbols mapped to 2695 genes. 250 of them had no orthologs. The output file was saved and should be IDs in 6.40 version\n",
    "\n"
   ]
  },
  {
   "cell_type": "code",
   "execution_count": null,
   "id": "a9bde2df",
   "metadata": {},
   "outputs": [],
   "source": [
    "neur_df_fly = pd.read_csv(os.path.join(res_dir, 'diopt_9_neurite_enriched_fromENSM.csv'))\n",
    "neurite_fly_640 = set(neur_df_fly.query('`DIOPT Score` >= 8')['Fly Species Gene ID'])\n",
    "# Get neurite genelist membership by using the 6.40 IDs\n",
    "df_dmel640['neurite'] = df_dmel640['new_ID'].isin(neurite_fly_640)\n",
    "df['neurite'] = df['new_ID'].isin(neurite_fly_640)\n",
    "df['neurite_628mapped'] = df.index.isin(neurite_fly_640)\n",
    "\n",
    "# Write the ones mapping to 6.32 version out as the 6.28 IDs\n",
    "df.query('neurite').reset_index()['index'].to_csv(os.path.join(outdir, 'neurite_localised_628.csv'), header=False, index=False)\n",
    "# df_dmel640.query('neurite').reset_index()['index'].to_csv(os.path.join(outdir, 'neurite_localised.csv'), header=False, index=False)\n",
    "# More of the genes map from 6.32 -> 6.28 than from 6.40 -> 6.28"
   ]
  },
  {
   "cell_type": "code",
   "execution_count": null,
   "id": "6f7e64b7",
   "metadata": {},
   "outputs": [],
   "source": [
    "# Find the best genome version to use for these:\n",
    "# all_df = pd.concat([pd.read_csv(prog_file), pd.read_csv(glia_file), pd.read_csv(neuron_file)])\n",
    "# dillon_genes = all_df['gene']\n",
    "id_dir = '../../resources/id_conversion/'\n",
    "dmel628_file = os.path.join(id_dir, 'fbgn_annotation_ID_fb_2019_03.tsv')\n",
    "dmel630_file = os.path.join(id_dir, 'fbgn_annotation_ID_fb_2019_05.tsv')\n",
    "dmel631_file = os.path.join(id_dir, 'fbgn_annotation_ID_fb_2019_06.tsv')\n",
    "dmel632_file = os.path.join(id_dir, 'fbgn_annotation_ID_fb_2020_01.tsv')\n",
    "dmel633_file = os.path.join(id_dir, 'fbgn_annotation_ID_fb_2020_02.tsv')\n",
    "dmel634_file = os.path.join(id_dir, 'fbgn_annotation_ID_fb_2020_03.tsv')\n",
    "dmel635_file = os.path.join(id_dir, 'fbgn_annotation_ID_fb_2020_04.tsv')\n",
    "dmel636_file = os.path.join(id_dir, 'fbgn_annotation_ID_fb_2020_05.tsv')\n",
    "\n",
    "versions = [('dmel630', dmel630_file), ('dmel631', dmel631_file), ('dmel632', dmel632_file), \n",
    "                   ('dmel633', dmel633_file), ('dmel634', dmel634_file), ('dmel635', dmel635_file),\n",
    "                   ('dmel636', dmel636_file)]\n",
    "\n",
    "best_version, count_dict, notfound = find_best_version(neurite_fly_640, version_files=versions, id_type='FB')\n",
    "print('best version', best_version)"
   ]
  },
  {
   "cell_type": "code",
   "execution_count": null,
   "id": "6a3444a2",
   "metadata": {},
   "outputs": [],
   "source": [
    "# Genes which are not found in my dataset, 632 mapped\n",
    "neurite_fly_640.difference(df.query('neurite')['new_ID'])\n",
    "# I checked and this gene is in 632, but it doesn't exist in 628 which is why it doesn't end up in the list of genes"
   ]
  },
  {
   "cell_type": "code",
   "execution_count": null,
   "id": "195921cf",
   "metadata": {},
   "outputs": [],
   "source": [
    "# Genes which are not found in my dataset, 628 mapped\n",
    "neurite_fly_640.difference(df.query('neurite_628mapped')['new_ID'])"
   ]
  },
  {
   "cell_type": "code",
   "execution_count": null,
   "id": "284b8cf4",
   "metadata": {},
   "outputs": [],
   "source": [
    "# Genes which are not found in my dataset, 640 mapped\n",
    "neurite_fly_640.difference(df_dmel640.query('neurite')['new_ID'])\n",
    "# These first two are the current ID for v6.32, so that's what it makes sense to use"
   ]
  },
  {
   "cell_type": "code",
   "execution_count": null,
   "id": "425f6fc8",
   "metadata": {},
   "outputs": [],
   "source": [
    "neurite_indataset = set(df_dmel640.query('neurite')['new_ID'])"
   ]
  },
  {
   "cell_type": "code",
   "execution_count": null,
   "id": "b7828ab7",
   "metadata": {},
   "outputs": [],
   "source": [
    "len(neurite_indataset)"
   ]
  },
  {
   "cell_type": "code",
   "execution_count": null,
   "id": "f75ce8e6",
   "metadata": {},
   "outputs": [],
   "source": [
    "len(neurite_fly_640)"
   ]
  },
  {
   "cell_type": "code",
   "execution_count": null,
   "id": "9737100a",
   "metadata": {},
   "outputs": [],
   "source": [
    "len(df_dmel640.query('neurite'))"
   ]
  }
 ],
 "metadata": {
  "kernelspec": {
   "display_name": "Python 3.9.13 ('pretty')",
   "language": "python",
   "name": "python3"
  },
  "language_info": {
   "codemirror_mode": {
    "name": "ipython",
    "version": 3
   },
   "file_extension": ".py",
   "mimetype": "text/x-python",
   "name": "python",
   "nbconvert_exporter": "python",
   "pygments_lexer": "ipython3",
   "version": "3.9.13"
  },
  "vscode": {
   "interpreter": {
    "hash": "bdb49103a4ed208a05ea4530afbe53462c06fafea10c7833b005d674746fdb08"
   }
  }
 },
 "nbformat": 4,
 "nbformat_minor": 5
}
