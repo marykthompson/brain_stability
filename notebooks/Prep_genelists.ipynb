{
 "cells": [
  {
   "cell_type": "markdown",
   "id": "macro-sleeve",
   "metadata": {},
   "source": [
    "#### Prep genelists ###\n",
    "- Prepare genelists, converting IDs to the version used (r6.28)"
   ]
  },
  {
   "cell_type": "code",
   "execution_count": null,
   "id": "assured-monroe",
   "metadata": {},
   "outputs": [],
   "source": [
    "#Imports\n",
    "import sys\n",
    "import os\n",
    "import pandas as pd\n",
    "\n",
    "sys.path.append('../scripts')\n",
    "\n",
    "from annotation_utilities import *\n",
    "from plot_helpers import *\n",
    "\n",
    "%load_ext autoreload\n",
    "%autoreload 2"
   ]
  },
  {
   "cell_type": "code",
   "execution_count": null,
   "id": "initial-giving",
   "metadata": {},
   "outputs": [],
   "source": [
    "## Flybase ID problem explanation\n",
    "from IPython.display import Image\n",
    "Image('../../../resources/FlybaseID_problem.png')"
   ]
  },
  {
   "cell_type": "code",
   "execution_count": null,
   "id": "ceramic-dominican",
   "metadata": {},
   "outputs": [],
   "source": [
    "outdir = '../Figures/genesets'\n",
    "os.makedirs(outdir, exist_ok=True)"
   ]
  },
  {
   "cell_type": "code",
   "execution_count": null,
   "id": "alone-honey",
   "metadata": {},
   "outputs": [],
   "source": [
    "#Load all the genes possibly in the dataset and convert to version 6.32\n",
    "result_file = os.path.join(results_dir, 'gene_quantification/summary_abundance_by_gene.csv')\n",
    "result_genes = list(set(pd.read_csv(result_file, index_col=0).index))"
   ]
  },
  {
   "cell_type": "code",
   "execution_count": null,
   "id": "authentic-uniform",
   "metadata": {},
   "outputs": [],
   "source": [
    "# Create the ID mapping table\n",
    "id_dir = '/Users/mkthompson/Desktop/Davislab/3.4_NMJ_4Tu_4sU/3.4e_pipeline_dev/nmj_figures/resources/id_conversion/'\n",
    "dmel628_file = os.path.join(id_dir, 'fbgn_annotation_ID_fb_2019_03.tsv')\n",
    "dmel632_file = os.path.join(id_dir, 'fbgn_annotation_ID_fb_2020_01.tsv')\n",
    "df = update_ids(result_genes, dmel628_file, dmel632_file)\n",
    "df2 = resolve_splits(df)\n",
    "#This will print the ones with no new ID\n",
    "#For 6.28 -> 6.32, it is only 'FBgn0261846', which Flybase tags as a withdrawn gene model\n",
    "#df2[pd.isnull(df2['new_ID'])]"
   ]
  },
  {
   "cell_type": "code",
   "execution_count": null,
   "id": "peaceful-midnight",
   "metadata": {},
   "outputs": [],
   "source": [
    "# Mark which genes are TFs, using the gene table from dmel6.32\n",
    "res_dir = '/Users/mkthompson/Desktop/Davislab/3.10_brain_ss/brain_figures/resources/'\n",
    "tf_file = os.path.join(res_dir, 'TFs_dmel632.txt')\n",
    "tf_ids = set(pd.read_csv(tf_file, sep='\\t', header=None)[0].tolist())\n",
    "df2['TF'] = df2['new_ID'].isin(tf_ids)\n",
    "TF_IDs_converted = df2[df2['TF']].reset_index()['index'].to_csv(os.path.join(outdir, 'all_TFs.csv'), header=False, index=False)"
   ]
  },
  {
   "cell_type": "code",
   "execution_count": null,
   "id": "pleased-springfield",
   "metadata": {},
   "outputs": [],
   "source": [
    "# Parse the TFs provided from FlyTF.org\n",
    "# https://www.mrc-lmb.cam.ac.uk/genomes/FlyTF/old_index.html\n",
    "import pandas as pd\n",
    "infile = '../../../resources/curated_genelists/all_candidates.csv'\n",
    "tf_df = pd.read_csv(infile, sep='\\t')\n",
    "tf_df['verdict_TF'].unique()"
   ]
  },
  {
   "cell_type": "code",
   "execution_count": null,
   "id": "postal-imperial",
   "metadata": {},
   "outputs": [],
   "source": [
    "#https://www.mrc-lmb.cam.ac.uk/genomes/FlyTF/old_index.html\n",
    "maybe_tfs = pd.read_html('https://www.mrc-lmb.cam.ac.uk/genomes/FlyTF/DNA_binding_proven_TF_maybe.html')[0]\n",
    "yes_tfs = pd.read_html('https://www.mrc-lmb.cam.ac.uk/genomes/FlyTF/quite_sure_TFs.html')[0]"
   ]
  },
  {
   "cell_type": "code",
   "execution_count": null,
   "id": "suspended-wisconsin",
   "metadata": {},
   "outputs": [],
   "source": [
    "len(yes_tfs)"
   ]
  },
  {
   "cell_type": "code",
   "execution_count": null,
   "id": "english-hammer",
   "metadata": {},
   "outputs": [],
   "source": [
    "tf_df['verdict_TF'].value_counts()"
   ]
  },
  {
   "cell_type": "code",
   "execution_count": null,
   "id": "realistic-sarah",
   "metadata": {},
   "outputs": [],
   "source": [
    "tf_df['verdict_DNA_BD'].value_counts()\n",
    "#The 753 seems to be equal to YES + maybe. \n",
    "#Not sure if the 454 well supported candidates are annotated in this set though."
   ]
  },
  {
   "cell_type": "code",
   "execution_count": null,
   "id": "extreme-declaration",
   "metadata": {},
   "outputs": [],
   "source": [
    "tf_df.head()"
   ]
  },
  {
   "cell_type": "code",
   "execution_count": null,
   "id": "disabled-channels",
   "metadata": {},
   "outputs": [],
   "source": [
    "465+288"
   ]
  },
  {
   "cell_type": "code",
   "execution_count": null,
   "id": "latin-dependence",
   "metadata": {},
   "outputs": [],
   "source": [
    "#Flybase does not have an RNA-binding protein gene class. Where should I get this from then? GO annotation?"
   ]
  }
 ],
 "metadata": {
  "kernelspec": {
   "display_name": "Python 3",
   "language": "python",
   "name": "python3"
  },
  "language_info": {
   "codemirror_mode": {
    "name": "ipython",
    "version": 3
   },
   "file_extension": ".py",
   "mimetype": "text/x-python",
   "name": "python",
   "nbconvert_exporter": "python",
   "pygments_lexer": "ipython3",
   "version": "3.9.0"
  }
 },
 "nbformat": 4,
 "nbformat_minor": 5
}
