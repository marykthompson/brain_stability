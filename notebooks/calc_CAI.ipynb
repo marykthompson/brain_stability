{
 "cells": [
  {
   "cell_type": "markdown",
   "id": "reasonable-command",
   "metadata": {},
   "source": [
    "#### calc CAI\n",
    "- calculate the CAI of all Drosophila genes\n",
    "- try 2 methods: 1) Use the RSCU values from all CDS 2) Use the RSCU values from the top 1000 most highly expressed genes in the NMJ at t0"
   ]
  },
  {
   "cell_type": "code",
   "execution_count": null,
   "id": "accepting-america",
   "metadata": {},
   "outputs": [],
   "source": [
    "import pandas as pd\n",
    "import sys\n",
    "import gffutils\n",
    "from Bio import SeqIO\n",
    "\n",
    "sys.path.append('../scripts')\n",
    "from plot_helpers import *\n",
    "from cai import CodonAdaptationIndex as CAI\n",
    "\n",
    "db = gffutils.FeatureDB(gffutils_db)\n",
    "\n",
    "outdir = '../Figures/gene_attributes/CAI'\n",
    "os.makedirs(outdir, exist_ok=True)\n",
    "\n",
    "%load_ext autoreload\n",
    "%autoreload 2"
   ]
  },
  {
   "cell_type": "code",
   "execution_count": null,
   "id": "amber-doctor",
   "metadata": {},
   "outputs": [],
   "source": [
    "#Identify the most highly expressed genes to use for RSCU calculations\n",
    "exp_file = os.path.join(results_dir, 'inspect_recalc_tpm/tot_levels.csv')\n",
    "exp_df = pd.read_csv(exp_file, index_col=0)"
   ]
  },
  {
   "cell_type": "code",
   "execution_count": null,
   "id": "printable-orbit",
   "metadata": {},
   "outputs": [],
   "source": [
    "ordered_genes = exp_df.sort_values(by='total_0', ascending=False).index"
   ]
  },
  {
   "cell_type": "code",
   "execution_count": null,
   "id": "employed-change",
   "metadata": {},
   "outputs": [],
   "source": [
    "#Get longest coding transcript for top 1000 genes\n",
    "n = 1\n",
    "hiexp_cds = []\n",
    "for gene in ordered_genes:\n",
    "    biotype = db[gene].attributes['gene_biotype'][0]\n",
    "    if biotype == 'protein_coding':\n",
    "        txts = db.children(gene, featuretype='transcript')\n",
    "        lens = []\n",
    "        for t in txts:\n",
    "            cds_len = db.children_bp(t.id, child_featuretype='CDS')\n",
    "            if cds_len % 3 != 0:\n",
    "                continue\n",
    "            else:\n",
    "                lens.append((cds_len, t.id))\n",
    "\n",
    "        if lens == []:\n",
    "            continue\n",
    "        else:\n",
    "            max_len_id = max(lens)[1]\n",
    "            n+=1\n",
    "            hiexp_cds.append(max_len_id)\n",
    "    if n>1000:\n",
    "        break"
   ]
  },
  {
   "cell_type": "code",
   "execution_count": null,
   "id": "common-forest",
   "metadata": {},
   "outputs": [],
   "source": [
    "#Write fasta file with all passed CDS sequences or top expressed ones\n",
    "CDS_file = '../../resources/genome_seqs/dmel-all-CDS-r6.28.fasta'\n",
    "passed_cds_file = os.path.join(outdir, 'passed_cds.fasta')\n",
    "hiexp_cds_file = os.path.join(outdir, 'hiexp_cds.fasta')\n",
    "\n",
    "records = list(SeqIO.parse(CDS_file, 'fasta'))\n",
    "n = 0\n",
    "passed_cds_records = []\n",
    "hiexp_cds_records = []\n",
    "\n",
    "for i in records:\n",
    "    att_string = i.description.split('; ')\n",
    "    attributes = dict(zip([i.split('=')[0] for i in att_string], [i.split('=')[1] for i in att_string]))\n",
    "    gene_id, txt_id = attributes['parent'].split(',')\n",
    "    txt_seq = str(i.seq)\n",
    "    #some txt seqs not divisible by 3 should be excluded\n",
    "    if not len(txt_seq)%3 == 0:\n",
    "        continue\n",
    "\n",
    "    passed_cds_records.append(i)\n",
    "    if txt_id in hiexp_cds:\n",
    "        hiexp_cds_records.append(i)\n",
    "    n+=1\n",
    "print('number of coding transcripts', n)\n",
    "\n",
    "SeqIO.write(passed_cds_records, passed_cds_file, 'fasta')\n",
    "SeqIO.write(hiexp_cds_records, hiexp_cds_file, 'fasta')"
   ]
  },
  {
   "cell_type": "code",
   "execution_count": null,
   "id": "federal-completion",
   "metadata": {},
   "outputs": [],
   "source": [
    "cai_hiexp = CAI()\n",
    "cai_hiexp.generate_index(hiexp_cds_file)\n",
    "cai_all = CAI()\n",
    "cai_all.generate_index(passed_cds_file)"
   ]
  },
  {
   "cell_type": "code",
   "execution_count": null,
   "id": "strong-workshop",
   "metadata": {},
   "outputs": [],
   "source": [
    "#Go through the fasta file and get the CAI for all genes\n",
    "scores_by_txt = {}\n",
    "records = list(SeqIO.parse(CDS_file, \"fasta\"))\n",
    "n = 0\n",
    "for i in records:\n",
    "    att_string = i.description.split('; ')\n",
    "    attributes = dict(zip([i.split('=')[0] for i in att_string], [i.split('=')[1] for i in att_string]))\n",
    "    gene_id, txt_id = attributes['parent'].split(',')\n",
    "    #some txt seqs not divisible by 3 should be excluded\n",
    "    cds_len = len(i.seq)\n",
    "    if not cds_len%3 == 0:\n",
    "        continue\n",
    "    scores_by_txt[txt_id] = {}\n",
    "    scores_by_txt[txt_id]['CAI_hiexp'] = cai_hiexp.cai_for_gene(str(i.seq))\n",
    "    scores_by_txt[txt_id]['CAI_all'] = cai_all.cai_for_gene(str(i.seq))\n",
    "    scores_by_txt[txt_id]['gene'] = gene_id\n",
    "    scores_by_txt[txt_id]['length'] = cds_len\n",
    "    n+=1\n",
    "print('number of coding transcripts', n)"
   ]
  },
  {
   "cell_type": "code",
   "execution_count": null,
   "id": "nutritional-criterion",
   "metadata": {},
   "outputs": [],
   "source": [
    "codon_df = pd.DataFrame.from_dict(scores_by_txt, orient='index')\n",
    "codon_df.groupby('gene').max().to_csv(os.path.join(outdir, 'CAI_values.csv'))"
   ]
  }
 ],
 "metadata": {
  "kernelspec": {
   "display_name": "Python 3",
   "language": "python",
   "name": "python3"
  },
  "language_info": {
   "codemirror_mode": {
    "name": "ipython",
    "version": 3
   },
   "file_extension": ".py",
   "mimetype": "text/x-python",
   "name": "python",
   "nbconvert_exporter": "python",
   "pygments_lexer": "ipython3",
   "version": "3.9.0"
  }
 },
 "nbformat": 4,
 "nbformat_minor": 5
}
