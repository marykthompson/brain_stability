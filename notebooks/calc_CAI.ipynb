{
 "cells": [
  {
   "cell_type": "markdown",
   "id": "reasonable-command",
   "metadata": {},
   "source": [
    "#### calc CAI\n",
    "- calculate the CAI of all Drosophila genes\n",
    "- try 2 methods: \n",
    "1) Use the RSCU values from all CDS \n",
    "2) Use the RSCU values from the top 1000 most highly expressed genes in the dataset"
   ]
  },
  {
   "cell_type": "code",
   "execution_count": null,
   "id": "accepting-america",
   "metadata": {},
   "outputs": [],
   "source": [
    "import pandas as pd\n",
    "import sys\n",
    "import gffutils\n",
    "from Bio import SeqIO\n",
    "\n",
    "sys.path.append('../scripts')\n",
    "from plot_helpers import *\n",
    "from cai import CodonAdaptationIndex as CAI\n",
    "\n",
    "db = gffutils.FeatureDB(gffutils_db)\n",
    "\n",
    "outdir = '../Figures/gene_attributes/CAI'\n",
    "os.makedirs(outdir, exist_ok=True)\n",
    "\n",
    "%load_ext autoreload\n",
    "%autoreload 2"
   ]
  },
  {
   "cell_type": "code",
   "execution_count": null,
   "id": "amber-doctor",
   "metadata": {},
   "outputs": [],
   "source": [
    "#Identify the most highly expressed genes to use for RSCU calculations\n",
    "exp_file = os.path.join(results_dir, 'inspect/tot_levels.csv')\n",
    "exp_df = pd.read_csv(exp_file, index_col=0)"
   ]
  },
  {
   "cell_type": "code",
   "execution_count": null,
   "id": "printable-orbit",
   "metadata": {},
   "outputs": [],
   "source": [
    "ordered_genes = exp_df.sort_values(by='total_wt', ascending=False).index"
   ]
  },
  {
   "cell_type": "code",
   "execution_count": null,
   "id": "employed-change",
   "metadata": {},
   "outputs": [],
   "source": [
    "# Get transcript with the longest CDS lengths, in order from high to low expression\n",
    "# Can use the top 1000 most highly expressed genes to calculate high expression CAI set\n",
    "# We need to add the ones \n",
    "n = 1\n",
    "longest_cds ={}\n",
    "all_genes = db.features_of_type('gene')\n",
    "for i in all_genes:\n",
    "    gene = i.id\n",
    "    if 'gene_biotype' in db[gene].attributes.keys():\n",
    "        biotype = db[gene].attributes['gene_biotype'][0]\n",
    "    else:\n",
    "        biotype = 'spike'\n",
    "    if biotype == 'protein_coding':\n",
    "        txts = db.children(gene, featuretype='transcript')\n",
    "        lens = []\n",
    "        for t in txts:\n",
    "            cds_len = db.children_bp(t.id, child_featuretype='CDS')\n",
    "            if cds_len % 3 != 0:\n",
    "                continue\n",
    "            else:\n",
    "                lens.append((cds_len, t.id))\n",
    "\n",
    "        if lens == []:\n",
    "            continue\n",
    "\n",
    "        else:\n",
    "            # transcript id for longest CDS -> gene id\n",
    "            max_len_id = max(lens)[1]\n",
    "            n+=1\n",
    "            longest_cds[max_len_id] = gene"
   ]
  },
  {
   "cell_type": "code",
   "execution_count": null,
   "id": "f42a8177",
   "metadata": {},
   "outputs": [],
   "source": [
    "# Now get a dict which is only the top 1000 most highly expressed genes\n",
    "top_genes = {k:v for (k,v) in longest_cds.items() if v in ordered_genes}"
   ]
  },
  {
   "cell_type": "code",
   "execution_count": null,
   "id": "b5497508",
   "metadata": {},
   "outputs": [],
   "source": [
    "#Write fasta file with all passed CDS sequences or top expressed ones\n",
    "from utilities import parse_fb_fasta\n",
    "\n",
    "def write_fasta(fasta, outfile, ids):\n",
    "    '''\n",
    "    Write output fasta file. \n",
    "    fasta = Fasta() object, ids =  ids to write.\n",
    "    weird that pyfaidx doesn't seem to have a write method\n",
    "    You need to access the whole sequence range, by adding [:]\n",
    "    '''\n",
    "    with open(outfile, 'w') as f:\n",
    "        for i in ids:\n",
    "            record = fasta[i]\n",
    "            f.write(f'>{record.name}\\n')\n",
    "            f.write(f'{record[:].seq}\\n')\n",
    "\n",
    "seqs_dir = '/Users/mk/Desktop/Davislab_old/3.4_NMJ_4Tu_4sU/3.4e_pipeline_dev/nmj_figures/resources/region_fastas'\n",
    "cds_d = parse_fb_fasta(os.path.join(seqs_dir, 'CDS_all.fa'), extract_ids=True)\n",
    "\n",
    "hiexp_file = os.path.join(outdir, 'CDS_top1000.fa')\n",
    "all_file = os.path.join(outdir, 'CDS_all.fa')\n",
    "write_fasta(cds_d, hiexp_file, top_genes)\n",
    "write_fasta(cds_d, all_file, longest_cds)"
   ]
  },
  {
   "cell_type": "code",
   "execution_count": null,
   "id": "federal-completion",
   "metadata": {},
   "outputs": [],
   "source": [
    "# Get the codon adaptation index for all genes or highly expressed genes\n",
    "cai_hiexp = CAI()\n",
    "cai_hiexp.generate_index(hiexp_file)\n",
    "cai_all = CAI()\n",
    "cai_all.generate_index(all_file)"
   ]
  },
  {
   "cell_type": "code",
   "execution_count": null,
   "id": "3d08cc2d",
   "metadata": {},
   "outputs": [],
   "source": [
    "# Calculate the CAI for all genes using longest CDS\n",
    "gene_2_txt = {v:k for (k,v) in longest_cds.items()}\n",
    "all_genes = db.features_of_type('gene')\n",
    "scores = {}\n",
    "for i in all_genes:\n",
    "    if 'gene_biotype' not in db[i.id].attributes.keys():\n",
    "        continue\n",
    "    biotype = db[i.id].attributes['gene_biotype'][0]\n",
    "    if biotype == 'protein_coding':\n",
    "        try:\n",
    "            scores[i.id] = {}\n",
    "            scores[i.id]['CAI_hiexp'] = cai_hiexp.cai_for_gene(cds_d[gene_2_txt[i.id]][:].seq)\n",
    "            scores[i.id]['CAI_all'] = cai_all.cai_for_gene(cds_d[gene_2_txt[i.id]][:].seq)\n",
    "        # if gene doesn't have CDS len divisible by 3, will cause a keyerror\n",
    "        except KeyError:\n",
    "            continue"
   ]
  },
  {
   "cell_type": "code",
   "execution_count": null,
   "id": "7c9b7964",
   "metadata": {},
   "outputs": [],
   "source": [
    "# Write the CAI values\n",
    "codon_df = pd.DataFrame.from_dict(scores, orient='index')\n",
    "codon_df.to_csv(os.path.join(outdir, 'CAI_values.csv'))"
   ]
  }
 ],
 "metadata": {
  "kernelspec": {
   "display_name": "Python 3.9.13 ('pretty')",
   "language": "python",
   "name": "python3"
  },
  "language_info": {
   "codemirror_mode": {
    "name": "ipython",
    "version": 3
   },
   "file_extension": ".py",
   "mimetype": "text/x-python",
   "name": "python",
   "nbconvert_exporter": "python",
   "pygments_lexer": "ipython3",
   "version": "3.9.13"
  },
  "vscode": {
   "interpreter": {
    "hash": "bdb49103a4ed208a05ea4530afbe53462c06fafea10c7833b005d674746fdb08"
   }
  }
 },
 "nbformat": 4,
 "nbformat_minor": 5
}
