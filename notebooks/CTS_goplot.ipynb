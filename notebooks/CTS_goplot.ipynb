{
 "cells": [
  {
   "cell_type": "markdown",
   "id": "unique-edwards",
   "metadata": {},
   "source": [
    "### CTS_goplot\n",
    "- cts_goplot: Plot the enriched GO categories of the CTS genes"
   ]
  },
  {
   "cell_type": "code",
   "execution_count": null,
   "id": "ruled-premiere",
   "metadata": {},
   "outputs": [],
   "source": [
    "import sys\n",
    "import os\n",
    "import pandas as pd\n",
    "import numpy as np\n",
    "\n",
    "sys.path.append('../scripts')\n",
    "from plot_helpers import *\n",
    "\n",
    "%load_ext autoreload\n",
    "%autoreload 2"
   ]
  },
  {
   "cell_type": "code",
   "execution_count": null,
   "id": "db4a651f-7f75-4783-80f2-e1d53d56def2",
   "metadata": {},
   "outputs": [],
   "source": [
    "#Import the stability data\n",
    "outdir = '../Figures/CTS'\n",
    "os.makedirs(outdir, exist_ok=True)"
   ]
  },
  {
   "cell_type": "code",
   "execution_count": null,
   "id": "reliable-enough",
   "metadata": {},
   "outputs": [],
   "source": [
    "#abbreviate some words to make descriptions fit\n",
    "def shorten_des(des):\n",
    "    des = des.replace('plasma membrane', 'P.M.')\n",
    "    des = des.replace('regulation', 'reg.')\n",
    "    des = des.replace('positive', '+ve')\n",
    "    des = des.replace('negative', '-ve')\n",
    "    des = des.replace('differentiation', 'diff.')\n",
    "    des = des.replace('morphogenesis', 'morph.')\n",
    "    des = des.replace('response', 'resp.')\n",
    "    des = des.replace('involved', '')\n",
    "    #normalize whitespaces\n",
    "    return ' '.join(des.split())\n",
    "\n",
    "def plot_GO(go_result, outname, title=''):\n",
    "    '''Read in the output from ClusterProfiler and plot the GO categories.'''\n",
    "    \n",
    "    #Read in the GO results and prepare for plotting\n",
    "    go_df = pd.read_csv(go_result)\n",
    "    go_df['go_n'] = go_df.apply(lambda x: int(x['GeneRatio'].split('/')[0]), axis=1)\n",
    "    go_df['subset_n'] = go_df.apply(lambda x: int(x['GeneRatio'].split('/')[1]), axis=1)\n",
    "    go_df['num_in_bg'] = go_df.apply(lambda x: int(x['BgRatio'].split('/')[0]), axis=1)\n",
    "    go_df['gene_ratio'] = go_df['go_n']/go_df['subset_n']\n",
    "    \n",
    "    #limit plotting to most significant and more specific GO categories\n",
    "    go_df = go_df[(go_df['p.adjust']<0.01) & (go_df['num_in_bg']<200)].copy()\n",
    "    go_df['-plog10'] = -go_df['p.adjust'].apply(np.log10)\n",
    "    go_df['edited_des'] = go_df['Description'].map(shorten_des)\n",
    "    go_df.sort_values(by='-plog10', ascending=True, inplace=True)\n",
    "    \n",
    "    #Plot significant GO categories\n",
    "    scale = 5\n",
    "    go_df['markersize'] = go_df['go_n']*scale\n",
    "    #Dynamically update rcparams\n",
    "    plt.rcParams['font.size'] = 6\n",
    "    plt.rcParams['xtick.labelsize'] = 6\n",
    "    plt.rcParams['ytick.labelsize'] = 6\n",
    "    plt.rcParams['axes.titlesize'] = 6\n",
    "    plt.rcParams['axes.labelsize'] = 6\n",
    "\n",
    "    fig = plt.figure(figsize=(dfig*2, dfig*2), constrained_layout=True)\n",
    "    ncols = 15\n",
    "    gs = fig.add_gridspec(ncols = ncols, nrows = 2)\n",
    "    gs.update(wspace=0.01) # set the spacing between axes.\n",
    "    ax = fig.add_subplot(gs[:, 0:ncols-1])\n",
    "    cbar_ax = fig.add_subplot(gs[0, ncols-1])\n",
    "    sizes_ax = fig.add_subplot(gs[1, ncols-1])\n",
    "    #https://matplotlib.org/stable/tutorials/colors/colormaps.html\n",
    "    im = ax.scatter(x='gene_ratio', y='edited_des', s='markersize', c='-plog10', cmap='viridis', data=go_df)\n",
    "    ax.set_xlabel('fraction of gene set')\n",
    "    ax.set_title(title, fontweight='bold')\n",
    "    axpad_y = 0.3\n",
    "    axpad_x = 0.005\n",
    "    new_ylim = (ax.get_ylim()[0]-axpad_y, ax.get_ylim()[1]+axpad_y)\n",
    "    new_xlim = (ax.get_xlim()[0]-axpad_x, ax.get_xlim()[1]+axpad_x)\n",
    "    #new_xlim = (ax.get_xlim()[0]-axpad, ax.get_xlim()[1]+axpad)\n",
    "    #https://stackoverflow.com/questions/6063876/matplotlib-colorbar-for-scatter\n",
    "    cbar = fig.colorbar(im, cax=cbar_ax, orientation='vertical', anchor=(0,0), pad=0)\n",
    "    cbar.set_label('-log'r'$_{10}$' ' pvalue')\n",
    "    loc = plticker.MultipleLocator(base=0.5)\n",
    "    cbar.ax.yaxis.set_major_locator(loc)\n",
    "    #https://stackoverflow.com/questions/24164797/creating-a-matplotlib-scatter-legend-size-related/36852302\n",
    "    #https://stackabuse.com/change-font-size-in-matplotlib/\n",
    "    num_elements=2\n",
    "    #recover the sizes to label the legend with\n",
    "    to_convert = im.legend_elements(\"sizes\", num=num_elements)[1]\n",
    "    sizes_num = list(map(lambda y: int(\"\".join([z for z in y if z.isnumeric()])), to_convert))\n",
    "    sizes_num = [int(i/scale) for i in sizes_num]\n",
    "    ax.set_ylim(new_ylim)\n",
    "    ax.set_xlim(new_xlim)\n",
    "    sizes_ax.legend(im.legend_elements(\"sizes\", num=num_elements)[0], sizes_num, loc='lower left', bbox_to_anchor=(0,0), borderaxespad=0, title='# genes')\n",
    "    #sizes_ax.legend(*im.legend_elements(\"sizes\", num=4), loc='lower left', bbox_to_anchor=(0,0), borderaxespad=0, title='# genes')\n",
    "\n",
    "    sizes_ax.spines['bottom'].set_visible(False)\n",
    "    sizes_ax.spines['left'].set_visible(False)\n",
    "    sizes_ax.xaxis.set_visible(False)\n",
    "    sizes_ax.yaxis.set_visible(False)\n",
    "\n",
    "    plt.savefig('%s.%s' % (outname, out_fmt), dpi = out_dpi)"
   ]
  },
  {
   "cell_type": "code",
   "execution_count": null,
   "id": "063e4eb6-b17c-4133-aa16-f5e6298eea12",
   "metadata": {},
   "outputs": [],
   "source": [
    "plot_GO(os.path.join(outdir, 'genesets', 'CTS_10stable_genes_BP_0.5.csv'), os.path.join(outdir, 'CTS_stable'), 'stable CTS genes')"
   ]
  },
  {
   "cell_type": "code",
   "execution_count": null,
   "id": "9db18f26-e0a5-4d8f-a090-bc4049ff55ae",
   "metadata": {},
   "outputs": [],
   "source": [
    "plot_GO(os.path.join(outdir, 'genesets', 'CTS_10unstable_genes_BP_0.5.csv'), os.path.join(outdir, 'CTS_unstable'), 'unstable CTS genes')"
   ]
  }
 ],
 "metadata": {
  "kernelspec": {
   "display_name": "Python 3.9.13 ('pretty')",
   "language": "python",
   "name": "python3"
  },
  "language_info": {
   "codemirror_mode": {
    "name": "ipython",
    "version": 3
   },
   "file_extension": ".py",
   "mimetype": "text/x-python",
   "name": "python",
   "nbconvert_exporter": "python",
   "pygments_lexer": "ipython3",
   "version": "3.9.13"
  },
  "vscode": {
   "interpreter": {
    "hash": "bdb49103a4ed208a05ea4530afbe53462c06fafea10c7833b005d674746fdb08"
   }
  }
 },
 "nbformat": 4,
 "nbformat_minor": 5
}
