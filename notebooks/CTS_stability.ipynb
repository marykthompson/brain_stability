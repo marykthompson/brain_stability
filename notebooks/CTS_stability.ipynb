{
 "cells": [
  {
   "cell_type": "markdown",
   "id": "stock-maple",
   "metadata": {},
   "source": [
    "#### CTS stability\n",
    "- Plot stability of RNAs enriched in specific cell types.\n",
    "- Use the data from L3 brain single-cell sequencing from the Cocanaugher 2022 paper\n",
    "- Show the fraction of TF, RBP, etc. in this dataset. Unfortunately we cannot do GO analysis on these genes since we do not know the background set"
   ]
  },
  {
   "cell_type": "code",
   "execution_count": null,
   "id": "current-austin",
   "metadata": {},
   "outputs": [],
   "source": [
    "#Imports\n",
    "import sys\n",
    "import os\n",
    "import pandas as pd\n",
    "import seaborn as sns\n",
    "import numpy as np\n",
    "import math\n",
    "import gffutils\n",
    "import scipy.stats as stats\n",
    "from collections import defaultdict\n",
    "import warnings\n",
    "\n",
    "sys.path.append('../scripts')\n",
    "from plot_helpers import *\n",
    "from plotting_fxns import PrettyBox, get_group_Ns, enrich_table\n",
    "from utilities import load_dataset\n",
    "\n",
    "%load_ext autoreload\n",
    "%autoreload 2"
   ]
  },
  {
   "cell_type": "code",
   "execution_count": null,
   "id": "streaming-heritage",
   "metadata": {},
   "outputs": [],
   "source": [
    "#Import the stability data\n",
    "outdir = '../Figures/CTS'\n",
    "os.makedirs(outdir, exist_ok=True)\n",
    "\n",
    "#Load stability data\n",
    "rate_df = load_dataset('../Figures/summary_files/INSPEcT_rates.csv', '../Figures/summary_files/brain4sU_passed.csv')\n",
    "rate_df = rate_df[['deg_rate', 'stab_percentile']].copy()\n",
    "\n",
    "#Use the Flybase geneset for transcription factor\n",
    "TF_file = '../Figures/genesets/all_TFs.csv'\n",
    "tfs = set(pd.read_csv(TF_file, header=None)[0].values)\n",
    "\n",
    "#Import the GO slim based TF and RBP IDs:\n",
    "RBPs_go_file = '../Figures/GO/ens/RNA binding.txt'\n",
    "mRBPs_go_file = '../Figures/GO/ens/mRNA binding.txt'\n",
    "gial_file = '../../resources/glial_studies/glia-protrusion-localised-id-interest.txt'\n",
    "rbps = set(pd.read_csv(RBPs_go_file, header=None)[0].values)\n",
    "mrbps = set(pd.read_csv(mRBPs_go_file, header=None)[0].values)\n",
    "glial = set(pd.read_csv(gial_file, sep='\\t')['dmel_gene_id'].values)\n",
    "rbps_only = rbps.difference(mrbps)\n",
    "\n",
    "rate_df['TF'] = rate_df.index.isin(tfs)\n",
    "rate_df['RBP_all'] = rate_df.index.isin(rbps)\n",
    "rate_df['mRBP'] = rate_df.index.isin(mrbps)\n",
    "rate_df['RBP'] = rate_df.index.isin(rbps_only)\n",
    "rate_df['glial'] = rate_df.index.isin(glial)\n",
    "gene_groups = ['TF', 'RBP', 'mRBP', 'glial']\n"
   ]
  },
  {
   "cell_type": "code",
   "execution_count": null,
   "id": "innovative-montreal",
   "metadata": {},
   "outputs": [],
   "source": [
    "#Number in each category\n",
    "print('num tfs', len(tfs))\n",
    "print('num rbps', len(rbps))\n",
    "print('num mrbps', len(mrbps))\n",
    "#mrbps is a complete subset of rbps. Also make category of rbps which are not mrbps\n",
    "print('num rbps_only', len(rbps_only))\n",
    "print('num glial', len(glial))"
   ]
  },
  {
   "cell_type": "code",
   "execution_count": null,
   "id": "0df5fdef",
   "metadata": {},
   "outputs": [],
   "source": [
    "# Read in the cell-type-specific genes\n",
    "cts_df = pd.read_csv(os.path.join(outdir, 'corrales_celltypes.csv'), index_col=0)\n",
    "prog_df = pd.read_csv(os.path.join(outdir, 'dillon_progenitor.csv'), index_col=0).query('celltype != \"low quality\"')\n",
    "neuron_df = pd.read_csv(os.path.join(outdir, 'dillon_neuron.csv'), index_col=0)\n",
    "glia_df = pd.read_csv(os.path.join(outdir, 'dillon_glia.csv'), index_col=0)"
   ]
  },
  {
   "cell_type": "code",
   "execution_count": null,
   "id": "4c357478",
   "metadata": {},
   "outputs": [],
   "source": [
    "# Look at the number and names of the cell types in the atlas:\n",
    "for df in [prog_df, neuron_df, glia_df]:\n",
    "    celltypes = df['celltype'].unique()\n",
    "    print(f'n celltypes {len(celltypes)}\\n{celltypes}\\n')"
   ]
  },
  {
   "cell_type": "code",
   "execution_count": null,
   "id": "suffering-hazard",
   "metadata": {},
   "outputs": [],
   "source": [
    "# Get all cell type markers and cell-type-specific TFs\n",
    "db = gffutils.FeatureDB(gffutils_db)\n",
    "genes = db.features_of_type('gene')\n",
    "ngenes = sum(1 for _ in genes)\n",
    "cts = set(cts_df.index.unique())\n",
    "cts_tfs = cts.intersection(tfs)\n",
    "\n",
    "#Would be interesting to represent this visually somehow?\n",
    "print('num CTS RNAs', len(cts))\n",
    "print('num CTS TFs', len(cts_tfs))\n",
    "print('num TFs', len(tfs))\n",
    "print('frac CTS_TF/TF', len(cts_tfs)/len(tfs))\n",
    "print('frac TF/CTS', len(cts_tfs)/len(cts))\n",
    "print('frac CTS/genome', len(cts)/ngenes)\n",
    "print('frac TF/genome', len(tfs)/ngenes)"
   ]
  },
  {
   "cell_type": "code",
   "execution_count": null,
   "id": "887cacd5",
   "metadata": {},
   "outputs": [],
   "source": [
    "# Plot the swarmplot for the TFs, now make it bigger and easier to see!\n",
    "from plotting_fxns import sc_swarmplot, enrich_heatmap\n",
    "\n",
    "fig = plt.figure(figsize=(dfig*1.7, dfig*4))\n",
    "hstart = 0.08\n",
    "h = 0.95 - hstart\n",
    "ax = fig.add_axes((0.31, hstart, 0.29, h))\n",
    "big_df = pd.merge(rate_df, cts_df, left_index=True, right_index=True, how='left').dropna(subset=['celltype'])\n",
    "\n",
    "# Ingnore the seaborn swarm overplotting warning here:\n",
    "with warnings.catch_warnings():\n",
    "    warnings.simplefilter('ignore')\n",
    "    ax, res_tf, p_tf = sc_swarmplot(data=big_df, all_genes=rate_df, x='stab_percentile', y='celltype', hue='TF', hue_name='TF mRNAs', x_lab='stability percentile', \n",
    "                      y_lab='cell type (num genes)', ax=ax, palette=[color_dict['grey'], 'navy'], s=2.5, fig=fig)\n",
    "\n",
    "plt.savefig('%s.%s' % (os.path.join(outdir, 'cts_tf_swarm'), out_fmt), dpi = out_dpi)"
   ]
  },
  {
   "cell_type": "code",
   "execution_count": null,
   "id": "091dadab",
   "metadata": {},
   "outputs": [],
   "source": [
    "# Version of the plot with the RBPs and mRBPs overlaid, now bigger!\n",
    "# Need to make it a little wider than the TF version to accomodate the 4-column heatmap\n",
    "fig = plt.figure(figsize=(dfig*2, dfig*4))\n",
    "hstart = 0.08\n",
    "h = 0.95 - hstart\n",
    "ax = fig.add_axes((0.26, hstart, 0.29, h))\n",
    "\n",
    "# Ingnore the seaborn swarm overplotting warning here:\n",
    "with warnings.catch_warnings():\n",
    "    warnings.simplefilter('ignore')\n",
    "    ax, res_rbp, p_rbp = sc_swarmplot(data=big_df, all_genes=rate_df, x='stab_percentile', y='celltype', hue='RBP', hue_name='RBP mRNAs', x_lab='stability percentile', \n",
    "                      y_lab='cell type (num genes)', ax=ax, palette=[color_dict['grey'], 'navy'], s=2.5, fig=fig, enrich_hm=False)\n",
    "\n",
    "res_rbp = enrich_heatmap(data=big_df, all_genes=rate_df, x='stab_percentile', y='celltype', hue=['RBP', 'mRBP'], y_lab1='fraction of genes',\n",
    "               y_lab2='-log'r'$_{10}$'' p-value', hstart=hstart, lstart=0.61, fig=plt.gcf(), \n",
    "               xticklabs1=['RBP', 'mRBP'], xticklabs2=['RBP', 'mRBP'], hm_width=0.09)\n",
    "\n",
    "plt.savefig('%s.%s' % (os.path.join(outdir, 'cts_rbp_swarm'), out_fmt), dpi = out_dpi)"
   ]
  },
  {
   "cell_type": "code",
   "execution_count": null,
   "id": "0af515de",
   "metadata": {},
   "outputs": [],
   "source": [
    "# Change the names to match the format of the ones from Corrales et al.\n",
    "name_convert = {'immature neurons': 'Immat N', 'new-born neurons': 'Newborn N',\n",
    "                 'cortex/chiasm glia': 'Cortex/chiasm\\nGl', 'perineural glia':'Perineural\\nGl', \n",
    "                 'astrocytes/neuropil glia':'Astrocytes/\\nneuropil Gl', \n",
    "                 'subperineural glia':'Subperineural\\nGl', 'cholinergic': 'Chol N',\n",
    "                 'unannotated': 'Unann N', 'GABAergic':'GABA N', 'Glutamatergic':'Glut N', \n",
    "                 'undifferentiated':'Undiff N', 'motor neurons':'Motor N', 'kenyon cells gamma': 'KC 'r'$\\gamma$', \n",
    "                 'monoaminergic':'Mono N', 'peptidergic': 'Pept N', 'octopaminergic':'Octop N', \n",
    "                 'neurosecretory cells': 'Neurosec\\ncells', 'Quiescent NBs': 'Quiescent\\nNBs'}"
   ]
  },
  {
   "cell_type": "code",
   "execution_count": null,
   "id": "c99a85c1",
   "metadata": {},
   "outputs": [],
   "source": [
    "dillon_df = pd.concat([prog_df, neuron_df, glia_df])\n",
    "dillon_df2 = dillon_df.copy()\n",
    "# dillon_df2['celltype'] = dillon_df['celltype'].map(name_convert)\n",
    "dillon_df2['celltype2'] = dillon_df['celltype'].apply(lambda x: name_convert[x] if x in name_convert else x)\n",
    "dillon_df2 = dillon_df2.drop(labels=['celltype'], axis=1).rename(columns={'celltype2':'celltype'})"
   ]
  },
  {
   "cell_type": "code",
   "execution_count": null,
   "id": "73edb709",
   "metadata": {},
   "outputs": [],
   "source": [
    "dillon_df['celltype'].unique()"
   ]
  },
  {
   "cell_type": "code",
   "execution_count": null,
   "id": "a6f7c03c",
   "metadata": {},
   "outputs": [],
   "source": [
    "# Going to show these all together -- easiest to make\n",
    "# Need to add more descriptive labels, like 'neuron' after some of the labels\n",
    "# Plot the swarmplot for the atlases from Dillon et al.\n",
    "from plotting_fxns import sc_swarmplot, enrich_heatmap\n",
    "\n",
    "fig = plt.figure(figsize=(dfig*1.85, dfig*5.18))\n",
    "hstart = 0.08\n",
    "h = 0.95 - hstart\n",
    "ax = fig.add_axes((0.31, hstart, 0.29, h))\n",
    "big_df_dillon = pd.merge(rate_df, dillon_df2, left_index=True, right_index=True, how='left').dropna(subset=['celltype'])\n",
    "\n",
    "# Ingnore the seaborn swarm overplotting warning here:\n",
    "with warnings.catch_warnings():\n",
    "    warnings.simplefilter('ignore')\n",
    "    ax, res_tf_dillon, p_tf_dillon = sc_swarmplot(data=big_df_dillon, all_genes=rate_df, x='stab_percentile', y='celltype', hue='TF', hue_name='TF mRNAs', x_lab='stability percentile', \n",
    "                      y_lab='cell type (num genes)', ax=ax, palette=[color_dict['grey'], 'navy'], s=2.5, fig=fig)\n",
    "\n",
    "plt.savefig('%s.%s' % (os.path.join(outdir, 'dillon_tf_swarm'), out_fmt), dpi = out_dpi)"
   ]
  },
  {
   "cell_type": "code",
   "execution_count": null,
   "id": "7b2c8304",
   "metadata": {},
   "outputs": [],
   "source": [
    "#Plot the stability percentile of TFs for specific cell types\n",
    "celltypes = cts_df['celltype'].unique()\n",
    "rate_df['CTS'] = rate_df.index.isin(cts_df.index)\n",
    "# rate_df['CTS'] = rate_df[celltypes].any(axis=1)\n",
    "\n",
    "from plotting_fxns import get_boxtop, add_stars, get_box_coords\n",
    "\n",
    "fig = plt.figure(figsize=(dfig*1.7, dfig*1), constrained_layout=True)\n",
    "# fig = plt.figure(figsize=(dfig*0.75, dfig*1.5), constrained_layout=True)\n",
    "ax = PrettyBox(data=rate_df, x='TF', y='stab_percentile',  hue='CTS', fliersize = 0, width = 0.4)\n",
    "ax.set_xlabel('')\n",
    "new_labels = get_group_Ns(rate_df, 'TF', hue='CTS', ticklabels=['non-TF', 'TF'])\n",
    "# ax.set_xticklabels(['non-TF', 'TF'])\n",
    "ax.set_xticklabels(new_labels)\n",
    "#move the ylabel in to get more room\n",
    "ax.set_ylabel('RNA stability percentile', labelpad=0)\n",
    "handles, labels = ax.get_legend_handles_labels()\n",
    "#ax.legend(handles, ['distributed', 'cell type specific'], bbox_to_anchor=(0.5, 1.0), loc='lower center', title='RNA class')\n",
    "#prevent legend box from turning black.\n",
    "ax.legend().get_frame().set_fc((1.0,1.0,1.0,0.8))\n",
    "ax.legend(handles, ['ubiquitous', 'cell type specific'], bbox_to_anchor=(1, 0.5), loc='center left', title='RNA class')\n",
    "\n",
    "# First comparison: non-CTS, TF vs. non-TF\n",
    "# Second comparison: CTS, TF vs. non-TF\n",
    "d1a = rate_df.query('~CTS & ~TF')['deg_rate']\n",
    "d1b = rate_df.query('~CTS & TF')['deg_rate']\n",
    "d2a = rate_df.query('CTS & ~TF')['deg_rate']\n",
    "d2b = rate_df.query('CTS & TF')['deg_rate']\n",
    "\n",
    "_, p1 = stats.mannwhitneyu(d1a, d1b)\n",
    "_, p2 = stats.mannwhitneyu(d2a, d2b)\n",
    "\n",
    "h1 = max(get_boxtop(rate_df, col1='CTS', val1=False, col2='TF', val2=False, val_col='stab_percentile'),\n",
    "         get_boxtop(rate_df, col1='CTS', val1=False, col2='TF', val2=True, val_col='stab_percentile'))\n",
    "\n",
    "h2 = max(get_boxtop(rate_df, col1='CTS', val1=True, col2='TF', val2=False, val_col='stab_percentile'),\n",
    "         get_boxtop(rate_df, col1='CTS', val1=True, col2='TF', val2=True, val_col='stab_percentile'))\n",
    "\n",
    "add_stars(0, 2, starty=h1+2, height=2.5, p=p1, ax=ax)\n",
    "add_stars(1, 3, starty=h2+10, height=2.5, p=p2, ax=ax)\n",
    "ax.set_ylim(-2, 100)\n",
    "\n",
    "print('diff. ubiq tf vs non-tf %s' % p1)\n",
    "print('diff. cts tf vs. non-tf %s' % p2)\n",
    "\n",
    "plt.savefig('%s.%s' % (os.path.join(outdir, 'stab_cts_TFs'), out_fmt), dpi = out_dpi)"
   ]
  },
  {
   "cell_type": "code",
   "execution_count": null,
   "id": "7ebac6b3",
   "metadata": {},
   "outputs": [],
   "source": [
    "# If we want to plot RBP and mRBP separately with Seaborn swarmplot, need to duplicate the mRBP rows\n",
    "# copy the mRBP rows out\n",
    "mRBP_df = rate_df.query('mRBP').copy()[['deg_rate', 'stab_percentile', 'mRBP']]\n",
    "rate_df3 = rate_df.copy()[['deg_rate', 'stab_percentile', 'RBP']]\n",
    "rate_df3 = pd.concat([mRBP_df, rate_df3]).fillna(False)\n",
    "# https://stackoverflow.com/questions/67095325/how-to-transform-multiple-boolean-columns-to-one-column-with-column-headers-and\n",
    "rate_df3['category'] = rate_df3[['mRBP', 'RBP']].idxmax(1).where(rate_df3[['mRBP', 'RBP']].any(1)).fillna('other')\n",
    "rate_df3['CTS'] = rate_df3.index.isin(rate_df.query('CTS').index)\n",
    "# Check that each gene belongs to only one category\n",
    "assert len(rate_df3.query('RBP')) + len(rate_df3.query('mRBP')) + len(rate_df3.query('~RBP & ~mRBP')) == len(rate_df3)"
   ]
  },
  {
   "cell_type": "code",
   "execution_count": null,
   "id": "11fcaa0c",
   "metadata": {},
   "outputs": [],
   "source": [
    "#Plot the stability percentile of RBPs for specific cell types\n",
    "from plotting_fxns import get_boxtop, add_stars, get_box_coords\n",
    "\n",
    "# fig = plt.figure(figsize=(dfig*1.7, dfig*1.35), constrained_layout=True)\n",
    "fig = plt.figure(figsize=(dfig*2, dfig*1.35), constrained_layout=True)\n",
    "\n",
    "ax = PrettyBox(data=rate_df3, x='category', y='stab_percentile', order=['other', 'RBP', 'mRBP'], hue='CTS', fliersize = 0, width = 0.4)\n",
    "ax.set_xlabel('')\n",
    "# ax.set_xticklabels(['non-RBP', 'RBP'])\n",
    "new_labels = get_group_Ns(rate_df3, 'category', hue='CTS', order=['other', 'RBP', 'mRBP'], ticklabels=['other', 'RBP', 'mRBP'])\n",
    "# ax.set_xticklabels(['non-TF', 'TF'])\n",
    "ax.set_xticklabels(new_labels)\n",
    "#move the ylabel in to get more room\n",
    "ax.set_ylabel('RNA stability percentile', labelpad=0)\n",
    "handles, labels = ax.get_legend_handles_labels()\n",
    "#ax.legend(handles, ['distributed', 'cell type specific'], bbox_to_anchor=(0.5, 1.0), loc='lower center', title='RNA class')\n",
    "#prevent legend box from turning black.\n",
    "\n",
    "ax.legend().get_frame().set_fc((1.0,1.0,1.0,0.8))\n",
    "# top gets clipped off, even with constrained_layout\n",
    "# ax.legend(handles, ['ubiquitous', 'cell type specific'], bbox_to_anchor=(0.5, 1.3), loc='lower center', title='RNA class')\n",
    "ax.legend(handles, ['ubiquitous', 'cell type specific'], bbox_to_anchor=(1, 0.5), loc='center left', title='RNA class')\n",
    "\n",
    "\n",
    "# Note that for the comparison between other and mRBPs -- the other group is also depleted of RBPs in the graph but for the stats, \n",
    "# we will compare all non-mRBPs to mRBPs\n",
    "\n",
    "# First comparison: non-CTS, RBP vs. non-RBP\n",
    "# Second comparison: non-CTS, mRBP vs. non-mRBP\n",
    "# Third comparison: CTS, RBP vs. non-RBP\n",
    "# Fourth comparison: CTS, mRBP vs. non-mRBP\n",
    "d1a = rate_df3.query('~CTS & ~RBP')['deg_rate']\n",
    "d1b = rate_df3.query('~CTS & RBP')['deg_rate']\n",
    "\n",
    "d2a = rate_df3.query('~CTS & ~mRBP')['deg_rate']\n",
    "d2b = rate_df3.query('~CTS & mRBP')['deg_rate']\n",
    "\n",
    "d3a = rate_df3.query('CTS & ~RBP')['deg_rate']\n",
    "d3b = rate_df3.query('CTS & RBP')['deg_rate']\n",
    "\n",
    "d4a = rate_df3.query('CTS & ~mRBP')['deg_rate']\n",
    "d4b = rate_df3.query('CTS & mRBP')['deg_rate']\n",
    "\n",
    "_, p1 = stats.mannwhitneyu(d1a, d1b)\n",
    "_, p2 = stats.mannwhitneyu(d2a, d2b)\n",
    "_, p3 = stats.mannwhitneyu(d3a, d3b)\n",
    "_, p4 = stats.mannwhitneyu(d4a, d4b)\n",
    "\n",
    "h1 = max(get_boxtop(rate_df3, col1='CTS', val1=False, col2='RBP', val2=False, val_col='stab_percentile'),\n",
    "         get_boxtop(rate_df3, col1='CTS', val1=False, col2='RBP', val2=True, val_col='stab_percentile'))\n",
    "\n",
    "h2 = max(get_boxtop(rate_df3, col1='CTS', val1=False, col2='mRBP', val2=False, val_col='stab_percentile'),\n",
    "         get_boxtop(rate_df3, col1='CTS', val1=False, col2='mRBP', val2=True, val_col='stab_percentile'))\n",
    "\n",
    "h3 = max(get_boxtop(rate_df3, col1='CTS', val1=True, col2='RBP', val2=False, val_col='stab_percentile'),\n",
    "         get_boxtop(rate_df3, col1='CTS', val1=True, col2='RBP', val2=True, val_col='stab_percentile'))\n",
    "\n",
    "h4 = max(get_boxtop(rate_df3, col1='CTS', val1=True, col2='mRBP', val2=False, val_col='stab_percentile'),\n",
    "         get_boxtop(rate_df3, col1='CTS', val1=True, col2='mRBP', val2=True, val_col='stab_percentile'))\n",
    "\n",
    "add_stars(0, 2, starty=h1+2, height=2.5, p=p1, ax=ax)\n",
    "add_stars(0, 4, starty=h2+10, height=2.5, p=p2, ax=ax)\n",
    "add_stars(1, 3, starty=h3+18, height=2.5, p=p3, ax=ax)\n",
    "add_stars(1, 5, starty=h4+26, height=2.5, p=p4, ax=ax)\n",
    "\n",
    "ax.set_ylim(-2, 100)\n",
    "\n",
    "print('diff. ubiq other vs RBP %s' % p1)\n",
    "print('diff. ubiq other vs. mRBP %s' % p2)\n",
    "print('diff. cts other vs. RBP %s' % p3)\n",
    "print('diff. cts other vs. mRBP %s' % p4)\n",
    "\n",
    "plt.savefig('%s.%s' % (os.path.join(outdir, 'stab_cts_RBPs'), out_fmt), dpi = out_dpi)"
   ]
  },
  {
   "cell_type": "code",
   "execution_count": null,
   "id": "f83a15eb",
   "metadata": {},
   "outputs": [],
   "source": [
    "# How many genes in the CTS mRBP category?\n",
    "len(rate_df3.query('CTS & mRBP')['deg_rate'])\n"
   ]
  },
  {
   "cell_type": "code",
   "execution_count": null,
   "id": "scheduled-omaha",
   "metadata": {},
   "outputs": [],
   "source": [
    "#Overall percentile median = 50, as expected\n",
    "print('stability of all genes %s' % rate_df['stab_percentile'].median())\n",
    "#Percentile of CTS genes\n",
    "print('stability of CTS genes %s' % rate_df.loc[rate_df['CTS'], 'stab_percentile'].median())\n",
    "#Percentile of non-CTS genes\n",
    "print('stability of non-CTS genes %s' % rate_df.loc[~rate_df['CTS'], 'stab_percentile'].median())\n",
    "#Percentile of TF genes\n",
    "print('stability of TF genes %s' % rate_df.loc[rate_df['TF'], 'stab_percentile'].median())\n",
    "#Percentile of non-CTS TF genes\n",
    "print('stability of non-CTS TF genes %s' % rate_df.loc[rate_df['TF'] & ~rate_df['CTS'], 'stab_percentile'].median())\n",
    "#Percentile of TF & CTS\n",
    "print('stability of CTS & TF genes %s' % rate_df.loc[rate_df['TF'] & rate_df['CTS'], 'stab_percentile'].median())"
   ]
  },
  {
   "cell_type": "code",
   "execution_count": null,
   "id": "1bacc0ef-e37b-4ceb-bd8e-82a756f932a2",
   "metadata": {},
   "outputs": [],
   "source": [
    "# Find CTS genes which are in the top and bottom 10% of most stable RNAs for the CTS genes\n",
    "# Previously I tried the top and bottom 10% of stability overall, but this found only 26 genes in the bottom 10% of genes\n",
    "# Use as bg set, all the genes with stability measurements\n",
    "bg_genes = rate_df.index\n",
    "\n",
    "geneset_outdir = os.path.join(outdir, 'genesets')\n",
    "os.makedirs(geneset_outdir, exist_ok=True)\n",
    "\n",
    "num_genes = int(round(len(rate_df.query('CTS'))/10))\n",
    "sorted_cts = rate_df.query('CTS').sort_values(by='stab_percentile')\n",
    "stab_genes10 = sorted_cts.head(n=num_genes).index\n",
    "unstab_genes10 = sorted_cts.tail(n=num_genes).index\n",
    "\n",
    "# Write the output genelists\n",
    "pd.DataFrame(stab_genes10).to_csv(os.path.join(geneset_outdir, 'CTS_10unstable_genes.csv'), header=None, index=None)\n",
    "pd.DataFrame(unstab_genes10).to_csv(os.path.join(geneset_outdir, 'CTS_10stable_genes.csv'), header=None, index=None)\n",
    "pd.DataFrame(bg_genes).to_csv(os.path.join(geneset_outdir, 'bg_genes.csv'), header=None, index=None)"
   ]
  },
  {
   "cell_type": "markdown",
   "id": "f60f3bdb",
   "metadata": {},
   "source": [
    "##### Now show the p-values for the stability distribution differences and enrichment with TFs or RBPs"
   ]
  },
  {
   "cell_type": "code",
   "execution_count": null,
   "id": "6f0fddf6",
   "metadata": {},
   "outputs": [],
   "source": [
    "print('pval co', -math.log(0.05, 10))"
   ]
  },
  {
   "cell_type": "code",
   "execution_count": null,
   "id": "37b22ffe",
   "metadata": {},
   "outputs": [],
   "source": [
    "enrich_table(res_tf, p_tf)"
   ]
  },
  {
   "cell_type": "code",
   "execution_count": null,
   "id": "ff7dfb47",
   "metadata": {},
   "outputs": [],
   "source": [
    "enrich_table(res_rbp, p_rbp)"
   ]
  },
  {
   "cell_type": "code",
   "execution_count": null,
   "id": "b983fa40",
   "metadata": {},
   "outputs": [],
   "source": [
    "enrich_table(res_tf_dillon, p_tf_dillon)"
   ]
  }
 ],
 "metadata": {
  "kernelspec": {
   "display_name": "Python 3.9.13 ('pretty')",
   "language": "python",
   "name": "python3"
  },
  "language_info": {
   "codemirror_mode": {
    "name": "ipython",
    "version": 3
   },
   "file_extension": ".py",
   "mimetype": "text/x-python",
   "name": "python",
   "nbconvert_exporter": "python",
   "pygments_lexer": "ipython3",
   "version": "3.9.13"
  },
  "vscode": {
   "interpreter": {
    "hash": "bdb49103a4ed208a05ea4530afbe53462c06fafea10c7833b005d674746fdb08"
   }
  }
 },
 "nbformat": 4,
 "nbformat_minor": 5
}
