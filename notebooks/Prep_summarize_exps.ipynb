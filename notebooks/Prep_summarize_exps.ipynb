{
 "cells": [
  {
   "cell_type": "markdown",
   "id": "younger-consolidation",
   "metadata": {},
   "source": [
    "### Prep summarize exps\n",
    "- Summarize experiments for GEO\n",
    "- The filtered.csv files have the rRNAs and spikeins removed and TPMs recalculated -- these ones are the ones that used as input into INSPEcT\n",
    "- Also output the count and TPM values for the rRNAs and spikeins"
   ]
  },
  {
   "cell_type": "code",
   "execution_count": null,
   "id": "subtle-sunglasses",
   "metadata": {},
   "outputs": [],
   "source": [
    "#Imports\n",
    "import sys\n",
    "import os\n",
    "import pandas as pd\n",
    "import seaborn as sns\n",
    "import numpy as np\n",
    "\n",
    "sys.path.append('../scripts')\n",
    "from plot_helpers import *\n",
    "\n",
    "%load_ext autoreload\n",
    "%autoreload 2"
   ]
  },
  {
   "cell_type": "code",
   "execution_count": null,
   "id": "fc8d81a2",
   "metadata": {},
   "outputs": [],
   "source": [
    "# For each summary file, output the ones with the spikein and rRNAs filtered out that were used for plotting\n",
    "# For completeness, add in the original quantification for the rRNAs and spikeins and note these in the a column 'gene type'\n",
    "result_dirs = {'brain_4sU':results_dir, 'brain_incubation_test':results_dir_inctest, 'BG3_ph_RNAi':results_dir_pherson}\n",
    "for exp in result_dirs:\n",
    "    unfilt = os.path.join(result_dirs[exp], 'gene_quantification', 'summary_abundance_by_gene.csv')\n",
    "    filt = os.path.join(result_dirs[exp], 'gene_quantification', 'summary_abundance_by_gene_filtered.csv')\n",
    "    df1 = pd.read_csv(unfilt)\n",
    "    df2 = pd.read_csv(filt)\n",
    "    removed_gene_IDs = set(df1['gene']).difference(set(df2['gene']))\n",
    "    df_removed = df1.query('gene in @removed_gene_IDs').copy()\n",
    "    df_removed['gene_type'] = df_removed['gene'].apply(lambda x: 'spikein' if (x.startswith('SIRV') or x.startswith('ERCC')) else 'rRNA')\n",
    "    combo_df = pd.concat([df2, df_removed])\n",
    "    combo_df.to_csv(os.path.join(geo_outdir, f'{exp}_summary_abundance.csv'), index=False)"
   ]
  },
  {
   "cell_type": "code",
   "execution_count": null,
   "id": "96f50581",
   "metadata": {},
   "outputs": [],
   "source": [
    "# Test that the non spike-in, non-rRNA add up to TPM = 1M\n",
    "# Calculate the number of samples in the table\n",
    "df3 = pd.read_csv(os.path.join(geo_outdir, f'{exp}_summary_abundance.csv'))\n",
    "df3['exp_tag'] = df3[['replicate', 'RNAtype', 'condition']].astype(str).apply(lambda x: '_'.join(x), axis=1)\n",
    "num_samples = len(df3['exp_tag'].unique())\n",
    "print('total TPM %1.2f' % (df3.loc[pd.isnull(df3['gene_type']), 'summed_tpm_recalc'].sum()/num_samples))"
   ]
  }
 ],
 "metadata": {
  "kernelspec": {
   "display_name": "Python 3.9.13 ('pretty')",
   "language": "python",
   "name": "python3"
  },
  "language_info": {
   "codemirror_mode": {
    "name": "ipython",
    "version": 3
   },
   "file_extension": ".py",
   "mimetype": "text/x-python",
   "name": "python",
   "nbconvert_exporter": "python",
   "pygments_lexer": "ipython3",
   "version": "3.9.13"
  },
  "vscode": {
   "interpreter": {
    "hash": "bdb49103a4ed208a05ea4530afbe53462c06fafea10c7833b005d674746fdb08"
   }
  }
 },
 "nbformat": 4,
 "nbformat_minor": 5
}
