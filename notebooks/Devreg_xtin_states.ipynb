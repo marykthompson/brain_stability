{
 "cells": [
  {
   "cell_type": "markdown",
   "id": "mobile-internet",
   "metadata": {},
   "source": [
    "#### Devreg xtin states\n",
    "Goals:\n",
    "- Parse the chromatin states from the Filion et al. Cell paper and assign to Drosophila gene regions"
   ]
  },
  {
   "cell_type": "code",
   "execution_count": null,
   "id": "medium-pillow",
   "metadata": {},
   "outputs": [],
   "source": [
    "#Imports\n",
    "import sys\n",
    "import os\n",
    "import pandas as pd\n",
    "import seaborn as sns\n",
    "import numpy as np\n",
    "import math\n",
    "import scipy.stats as stats\n",
    "import pickle\n",
    "\n",
    "sys.path.append('../scripts')\n",
    "from plot_helpers import *\n",
    "\n",
    "import gffutils\n",
    "import HTSeq\n",
    "from collections import defaultdict\n",
    "\n",
    "%load_ext autoreload\n",
    "%autoreload 2"
   ]
  },
  {
   "cell_type": "code",
   "execution_count": null,
   "id": "selected-spine",
   "metadata": {},
   "outputs": [],
   "source": [
    "# load flybase v6.28 annotations\n",
    "db = gffutils.FeatureDB(gffutils_db)"
   ]
  },
  {
   "cell_type": "code",
   "execution_count": null,
   "id": "settled-energy",
   "metadata": {},
   "outputs": [],
   "source": [
    "# Load the H3K27me3 binding sites from modEncode L3. They have been mapped from r5->r6 by NCBI tool\n",
    "bind_gff = '/Users/mk/Desktop/Davislab_old/C3.1_stability_pathway_analysis/modencode/remapped_table2409.gff3'\n",
    "bind_db = gffutils.create_db(bind_gff, ':memory:', merge_strategy='create_unique')\n",
    "# example non-unique:\n",
    "# ValueError: Duplicate ID _H3K27me3__Abcam_lot3__D_mel_3rd_Instar_Larvae_Nuclei_Solexa_.gff_ID008018\n",
    "p = 0\n",
    "sites = bind_db.features_of_type('binding_site')\n",
    "\n",
    "# make gas of h3k27me3 sites\n",
    "cluster_gas = HTSeq.GenomicArrayOfSets(\"auto\", stranded = False)\n",
    "for i in sites:\n",
    "    p += 1\n",
    "    cluster_gas[HTSeq.GenomicInterval(i.chrom, i.start, i.end)] += 'h3k27me3'\n",
    "print('num sites %s' % p)"
   ]
  },
  {
   "cell_type": "code",
   "execution_count": null,
   "id": "cleared-defeat",
   "metadata": {},
   "outputs": [],
   "source": [
    "# Find genes with clusters within flanking_bp of their sites\n",
    "# Gene IDs should be from the current annotations, i.e. r6.28\n",
    "xtin_dict = {'up': defaultdict(set), 'down': defaultdict(set), 'gene': defaultdict(set)}\n",
    "flanking_bp = 1000\n",
    "for i in db.features_of_type('gene'):\n",
    "    # exclude genes on mt genome because they don't have histones and circular intervals aren't dealt with\n",
    "    if i.chrom == 'mitochondrion_genome':\n",
    "        continue\n",
    "    # Need to make the min as 0\n",
    "    # Adjust to 0-based, end excluded\n",
    "    start = i.start - 1\n",
    "    left_bound = max(0, start - flanking_bp)\n",
    "    right_bound = i.end + flanking_bp\n",
    "    left_iv = (left_bound, start)\n",
    "    right_iv = (i.end, right_bound)\n",
    "    gene_iv = (start, i.end)\n",
    "\n",
    "    if i.strand == '+':\n",
    "        up_iv = HTSeq.GenomicInterval(i.chrom, *left_iv)\n",
    "        down_iv = HTSeq.GenomicInterval(i.chrom, *right_iv)\n",
    "    else:     \n",
    "        up_iv = HTSeq.GenomicInterval(i.chrom, *right_iv)\n",
    "        down_iv = HTSeq.GenomicInterval(i.chrom, *left_iv)\n",
    "    gene_iv = HTSeq.GenomicInterval(i.chrom, *gene_iv)\n",
    "\n",
    "    int_dict = {'up':up_iv, 'down':down_iv, 'gene':gene_iv}    \n",
    "    for s in int_dict:\n",
    "        # if on the left edge of the chromosome, then iv length will be 0.\n",
    "        if (int_dict[s].end - int_dict[s].start) > 0:\n",
    "            ol = set.union(*[val for iv, val in cluster_gas[int_dict[s]].steps()])\n",
    "            for mark in ol:\n",
    "                xtin_dict[s][mark].add(i.id)\n",
    "        else:\n",
    "            print(i.id)"
   ]
  },
  {
   "cell_type": "code",
   "execution_count": null,
   "id": "liable-verification",
   "metadata": {},
   "outputs": [],
   "source": [
    "# Save the genes' methylation status\n",
    "outdir = '../Figures/genesets/'\n",
    "os.makedirs(outdir, exist_ok=True)\n",
    "with open(os.path.join(outdir, 'h3k27me3_mapped.p'), 'wb') as g:\n",
    "    pickle.dump(xtin_dict, g)"
   ]
  },
  {
   "cell_type": "code",
   "execution_count": null,
   "id": "unique-signal",
   "metadata": {},
   "outputs": [],
   "source": [
    "print('num of meth sites upstream %s' % len(xtin_dict['up']['h3k27me3']))\n",
    "print('num of meth sites downstream %s' % len(xtin_dict['down']['h3k27me3']))\n",
    "print('num of both down/up %s' % len(xtin_dict['up']['h3k27me3'].intersection(xtin_dict['down']['h3k27me3'])))\n",
    "print('num of of meth sites in gene %s' % len(xtin_dict['gene']['h3k27me3']))\n",
    "updowngene = xtin_dict['up']['h3k27me3'].intersection(xtin_dict['down']['h3k27me3']).intersection(xtin_dict['gene']['h3k27me3'])\n",
    "print('num of sites up/down/gene %s' % len(updowngene))"
   ]
  }
 ],
 "metadata": {
  "kernelspec": {
   "display_name": "Python 3.9.13 ('pretty')",
   "language": "python",
   "name": "python3"
  },
  "language_info": {
   "codemirror_mode": {
    "name": "ipython",
    "version": 3
   },
   "file_extension": ".py",
   "mimetype": "text/x-python",
   "name": "python",
   "nbconvert_exporter": "python",
   "pygments_lexer": "ipython3",
   "version": "3.9.13"
  },
  "vscode": {
   "interpreter": {
    "hash": "bdb49103a4ed208a05ea4530afbe53462c06fafea10c7833b005d674746fdb08"
   }
  }
 },
 "nbformat": 4,
 "nbformat_minor": 5
}
