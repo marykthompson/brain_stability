{
 "cells": [
  {
   "cell_type": "markdown",
   "id": "choice-boutique",
   "metadata": {},
   "source": [
    "### Prep rate SDs\n",
    "- Calculate the SD of processing and decay rates using the variances reported by INSPEcT\n",
    "- Write supplemental file with the rates and measured quantities: synth, processing, decay, total, pre mRNA"
   ]
  },
  {
   "cell_type": "code",
   "execution_count": null,
   "id": "bizarre-bangkok",
   "metadata": {},
   "outputs": [],
   "source": [
    "# Imports\n",
    "import sys\n",
    "import os\n",
    "import pandas as pd\n",
    "import seaborn as sns\n",
    "import numpy as np\n",
    "import math\n",
    "import scipy.stats as stats\n",
    "import gffutils\n",
    "\n",
    "sys.path.append('../scripts')\n",
    "from plot_helpers import *\n",
    "from utilities import load_dataset\n",
    "db = gffutils.FeatureDB(gffutils_db)\n",
    "\n",
    "%load_ext autoreload\n",
    "%autoreload 2"
   ]
  },
  {
   "cell_type": "code",
   "execution_count": null,
   "id": "blessed-batch",
   "metadata": {},
   "outputs": [],
   "source": [
    "# Load the INSPEcT data\n",
    "outdir = '../Figures/Overview'\n",
    "os.makedirs(outdir, exist_ok = True)\n",
    "syn_var = pd.read_csv(os.path.join(inspect_dir, 'synth_var.csv'), index_col=0, names=['syn_var'], header=0)\n",
    "tot_var = pd.read_csv(os.path.join(inspect_dir, 'total_var.csv'), index_col=0, names=['tot_var'], header=0)\n",
    "pre_var = pd.read_csv(os.path.join(inspect_dir, 'premrna_var.csv'), index_col=0, names=['pre_var'], header=0)\n",
    "syn_rates = pd.read_csv(os.path.join(inspect_dir, 'synth_rates.csv'), index_col=0, names=['syn_rate'], header=0)\n",
    "deg_rates = pd.read_csv(os.path.join(inspect_dir, 'deg_rates.csv'), index_col=0, names=['deg_rate'], header=0)\n",
    "proc_rates = pd.read_csv(os.path.join(inspect_dir, 'proc_rates.csv'), index_col=0, names=['proc_rate'], header=0)\n",
    "premrna_levels = pd.read_csv(os.path.join(inspect_dir, 'premrna_levels.csv'), index_col=0, names=['pre_level'], header=0)\n",
    "tot_levels = pd.read_csv(os.path.join(inspect_dir, 'tot_levels.csv'), index_col=0, names=['tot_level'], header=0)\n",
    "\n",
    "df = pd.concat([syn_rates, deg_rates, proc_rates, tot_levels, premrna_levels, syn_var, tot_var, pre_var], axis=1)\n",
    "# Fill na values with 0, this will allow calculation of deg rates for genes without introns where pre_level=0\n",
    "df.fillna(0, inplace=True)"
   ]
  },
  {
   "cell_type": "code",
   "execution_count": null,
   "id": "transparent-bunny",
   "metadata": {},
   "outputs": [],
   "source": [
    "# recalculate rates form the components to check that the formula is correct\n",
    "df['deg_rate2'] = df['syn_rate']/(df['tot_level'] - df['pre_level'])\n",
    "df['proc_rate2'] = df['syn_rate']/df['pre_level']"
   ]
  },
  {
   "cell_type": "code",
   "execution_count": null,
   "id": "difficult-silly",
   "metadata": {},
   "outputs": [],
   "source": [
    "# Get the variance for the calculated decay rates\n",
    "# Variance of the decay rates can be derived from error propagation\n",
    "# https://chem.libretexts.org/Bookshelves/Analytical_Chemistry/Supplemental_Modules_(Analytical_Chemistry)/Quantifying_Nature/Significant_Digits/Propagation_of_Error\n",
    "# mature RNA variance\n",
    "df['mat_level'] = df['tot_level'] - df['pre_level']\n",
    "df['mat_var'] = df['pre_var'] + df['tot_var']\n",
    "\n",
    "# decay rate variance\n",
    "df['deg_var'] = (df['syn_var']/df['syn_rate']**2 + df['mat_var']/df['mat_level']**2)*df['deg_rate']**2\n",
    "# processing rate variance\n",
    "df['proc_var'] = (df['syn_var']/df['syn_rate']**2 + df['pre_var']/df['pre_level']**2)*df['proc_rate']**2\n",
    "\n",
    "# get coefficients of variation\n",
    "df['deg_sd'] = np.sqrt(df['deg_var'])\n",
    "df['syn_sd'] = np.sqrt(df['syn_var'])\n",
    "df['proc_sd'] = np.sqrt(df['proc_var'])\n",
    "df['tot_sd'] = np.sqrt(df['tot_var'])\n",
    "df['pre_sd'] = np.sqrt(df['pre_var'])\n",
    "df.index.name = 'gene'"
   ]
  },
  {
   "cell_type": "markdown",
   "id": "92c3addc",
   "metadata": {},
   "source": [
    "##### Calculating the lowest half-life to report\n",
    "- We will assume based on purification experiments with spike-in RNAs that the max achievable specificity is about 100X.  \n",
    "- Therefore if we had an RNA with no transcription, as a rough estimate we could expect for it to be present at about 1/100 of the mature RNA in the total RNA library\n",
    "- We will use this estimate to calculate the upper limit of the half-life estimates"
   ]
  },
  {
   "cell_type": "code",
   "execution_count": null,
   "id": "90ecaa66",
   "metadata": {},
   "outputs": [],
   "source": [
    "# Calculating the largest half-life to report = calculating the lowest deg rate\n",
    "# 20 min is the labeling time in min\n",
    "t_label = 20\n",
    "deg_rate = (1/t_label)/100\n",
    "halflife = math.log(2)/deg_rate\n",
    "print('largest halflife to report %1.0f' % halflife )\n",
    "# I will round this to 1000 min to be conservative"
   ]
  },
  {
   "cell_type": "code",
   "execution_count": null,
   "id": "cf29ed3f",
   "metadata": {},
   "outputs": [],
   "source": [
    "# Convert the rates to per min:\n",
    "df2 = df.copy()\n",
    "df2[['syn_rate', 'deg_rate', 'proc_rate', 'syn_sd', 'deg_sd', 'proc_sd']] = df2[['syn_rate', 'deg_rate', 'proc_rate', 'syn_sd', 'deg_sd', 'proc_sd']]/60"
   ]
  },
  {
   "cell_type": "code",
   "execution_count": null,
   "id": "37e01823",
   "metadata": {},
   "outputs": [],
   "source": [
    "outdir = '../Figures/summary_files'\n",
    "os.makedirs(outdir, exist_ok = True)\n",
    "# Divide the rates by 60 to convert from per hr to per min\n",
    "df2['halflife'] = math.log(2)/df2['deg_rate']\n",
    "halflife_cap = 1000\n",
    "df2['halflife_capped'] = df2['halflife'].apply(lambda x: halflife_cap if x >= halflife_cap else x)\n",
    "# Calculate the stability percentile\n",
    "# Note that this percentile has all the data, not only the pass filter genes\n",
    "df2['stab_percentile'] = df2['halflife'].rank(pct=True)*100\n",
    "df2['biotype'] = df2.index.map(lambda x: db[x].attributes['gene_biotype'][0])\n",
    "df2['gene_name'] = df2.index.map(lambda x: db[x].attributes['gene_name'][0])"
   ]
  },
  {
   "cell_type": "code",
   "execution_count": null,
   "id": "c1019a68",
   "metadata": {},
   "outputs": [],
   "source": [
    "# Write summary file\n",
    "cols_2_write = ['gene_name', 'biotype', 'halflife', 'halflife_capped', 'stab_percentile', 'syn_rate', 'proc_rate', 'deg_rate', 'tot_level', 'pre_level', 'syn_sd', 'proc_sd', 'deg_sd', 'tot_sd', 'pre_sd']\n",
    "df2[cols_2_write].to_csv(os.path.join(outdir, 'INSPEcT_rates.csv'))"
   ]
  },
  {
   "cell_type": "code",
   "execution_count": null,
   "id": "1990eb21",
   "metadata": {},
   "outputs": [],
   "source": [
    "# Write supplementary file for GEO -- rename column names to longer versions and remove halflife_capped\n",
    "column_names = {'gene_name':'gene_symbol', 'stab_percentile':'stability_percentile', 'syn_rate':'synthesis_rate', 'proc_rate':'processing_rate', 'deg_rate':'degradation_rate', 'pre_level':'preRNA_TPM', \n",
    "                'tot_level':'totalRNA_TPM', 'syn_sd':'synthesis_sd', 'proc_sd':'processing_sd', 'deg_sd':'degradation_sd', 'tot_sd':'totalRNA_sd', 'pre_sd':'preRNA_sd'}\n",
    "df2.rename(columns=column_names, inplace=True)\n",
    "df2.index.name = 'gene_ID'\n",
    "cols_2_write2 = [column_names[i] if i in column_names else i for i in cols_2_write]\n",
    "cols_2_write2.remove('halflife_capped')\n",
    "df2[cols_2_write2].to_csv(os.path.join(geo_outdir, 'INSPEcT_rates.csv'))"
   ]
  }
 ],
 "metadata": {
  "kernelspec": {
   "display_name": "Python 3.9.13 ('pretty')",
   "language": "python",
   "name": "python3"
  },
  "language_info": {
   "codemirror_mode": {
    "name": "ipython",
    "version": 3
   },
   "file_extension": ".py",
   "mimetype": "text/x-python",
   "name": "python",
   "nbconvert_exporter": "python",
   "pygments_lexer": "ipython3",
   "version": "3.9.13"
  },
  "vscode": {
   "interpreter": {
    "hash": "bdb49103a4ed208a05ea4530afbe53462c06fafea10c7833b005d674746fdb08"
   }
  }
 },
 "nbformat": 4,
 "nbformat_minor": 5
}
