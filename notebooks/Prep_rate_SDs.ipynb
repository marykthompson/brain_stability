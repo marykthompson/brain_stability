{
 "cells": [
  {
   "cell_type": "markdown",
   "id": "choice-boutique",
   "metadata": {},
   "source": [
    "### Prep rate SDs\n",
    "- Calculate the SD from synthesis and total RNA variances using those reported by INSPEcT\n",
    "- Write supplemental file with the rates and measured quantities: synth, decay\n",
    "#### TODO: \n",
    "- Figure out how processing rate is measured so that I can also calculate the SD of that.\n",
    "- Should total, mature, and pre-RNA levels also be reported? Figure of if there is actually a difference between total TPM levels and those output by INSPEcT (I thought that there might be some scaling involved)"
   ]
  },
  {
   "cell_type": "code",
   "execution_count": null,
   "id": "bizarre-bangkok",
   "metadata": {},
   "outputs": [],
   "source": [
    "#Imports\n",
    "import sys\n",
    "import os\n",
    "import pandas as pd\n",
    "import seaborn as sns\n",
    "import numpy as np\n",
    "import math\n",
    "import scipy.stats as stats\n",
    "import gffutils\n",
    "\n",
    "sys.path.append('../scripts')\n",
    "from plot_helpers import *\n",
    "from utilities import load_dataset\n",
    "db = gffutils.FeatureDB(gffutils_db)\n",
    "\n",
    "%load_ext autoreload\n",
    "%autoreload 2"
   ]
  },
  {
   "cell_type": "code",
   "execution_count": null,
   "id": "blessed-batch",
   "metadata": {},
   "outputs": [],
   "source": [
    "#Load the INSPEcT data\n",
    "outdir = '../Figures/Overview'\n",
    "os.makedirs(outdir, exist_ok = True)\n",
    "syn_var = pd.read_csv(os.path.join(inspect_dir, 'synth_var.csv'), index_col=0, names=['syn_var'], header=0)\n",
    "tot_var = pd.read_csv(os.path.join(inspect_dir, 'total_var.csv'), index_col=0, names=['tot_var'], header=0)\n",
    "pre_var = pd.read_csv(os.path.join(inspect_dir, 'premrna_var.csv'), index_col=0, names=['pre_var'], header=0)\n",
    "syn_rates = pd.read_csv(os.path.join(inspect_dir, 'synth_rates.csv'), index_col=0, names=['syn_rate'], header=0)\n",
    "tot_levels = pd.read_csv(os.path.join(inspect_dir, 'tot_levels.csv'), index_col=0, names=['tot_level'], header=0)\n",
    "deg_rates = pd.read_csv(os.path.join(inspect_dir, 'deg_rates.csv'), index_col=0, names=['deg_rate'], header=0)\n",
    "premrna_levels = pd.read_csv(os.path.join(inspect_dir, 'premrna_levels.csv'), index_col=0, names=['pre_level'], header=0)\n",
    "\n",
    "df = pd.concat([syn_rates, deg_rates, tot_levels, premrna_levels, syn_var, tot_var, pre_var], axis=1)\n",
    "# Fill na values with 0, this will allow calculation of deg rates for genes without introns where pre_level=0\n",
    "df.fillna(0, inplace=True)"
   ]
  },
  {
   "cell_type": "code",
   "execution_count": null,
   "id": "transparent-bunny",
   "metadata": {},
   "outputs": [],
   "source": [
    "#recalculate rates form the components to check that the formula is correct\n",
    "df['deg_rate2'] = df['syn_rate']/(df['tot_level'] - df['pre_level'])\n",
    "#df['proc_rate2']"
   ]
  },
  {
   "cell_type": "code",
   "execution_count": null,
   "id": "difficult-silly",
   "metadata": {},
   "outputs": [],
   "source": [
    "# Get the variance for the calculated decay rates\n",
    "# Variance of the decay rates can be derived from error propagation\n",
    "# https://chem.libretexts.org/Bookshelves/Analytical_Chemistry/Supplemental_Modules_(Analytical_Chemistry)/Quantifying_Nature/Significant_Digits/Propagation_of_Error\n",
    "# mature RNA variance\n",
    "df['mat_level'] = df['tot_level'] - df['pre_level']\n",
    "df['mat_var'] = df['pre_var'] + df['tot_var']\n",
    "\n",
    "# decay rate variance\n",
    "df['deg_var'] = (df['syn_var']/df['syn_rate']**2 + df['mat_var']/df['mat_level']**2)*df['deg_rate']**2\n",
    "\n",
    "# get coefficients of variation\n",
    "df['deg_sd'] = np.sqrt(df['deg_var'])\n",
    "df['syn_sd'] = np.sqrt(df['syn_var'])\n",
    "# df['deg_cv'] = (np.sqrt(df['deg_var'])*100)/df['deg_rate']\n",
    "# df['syn_cv'] = (np.sqrt(df['syn_var'])*100)/df['syn_rate']\n",
    "# df['mat_cv'] = (np.sqrt(df['mat_var'])*100)/df['mat_level']\n",
    "df.index.name = 'gene'"
   ]
  },
  {
   "cell_type": "markdown",
   "id": "92c3addc",
   "metadata": {},
   "source": [
    "##### Calculating the lowest half-life to report\n",
    "- We will assume based on purification experiments that the max achievable specificity is about 100X.  \n",
    "- Therefore if we had an RNA with no transcription, as a rough estimate we could expect for it to be present at about 1/100 of the mature RNA in the total RNA library\n",
    "- We will use this estimate to calculate the upper limit of the half-life estimates"
   ]
  },
  {
   "cell_type": "code",
   "execution_count": null,
   "id": "90ecaa66",
   "metadata": {},
   "outputs": [],
   "source": [
    "# Calculating the largest half-life to report = calculating the lowest deg rate\n",
    "# 20 min is the labeling time in min\n",
    "t_label = 20\n",
    "deg_rate = (1/t_label)/100\n",
    "halflife = math.log(2)/deg_rate\n",
    "print('largest halflife to report %1.0f' % halflife )\n",
    "# I will round this to 1000 min to be conservative"
   ]
  },
  {
   "cell_type": "code",
   "execution_count": null,
   "id": "potential-subdivision",
   "metadata": {},
   "outputs": [],
   "source": [
    "outdir = '../Figures/summary_files'\n",
    "os.makedirs(outdir, exist_ok = True)\n",
    "# Divide the rates by 60 to convert from per hr to per min\n",
    "rate_df = df[['syn_rate', 'deg_rate', 'syn_sd', 'deg_sd']]/60\n",
    "rate_df['halflife'] = math.log(2)/rate_df['deg_rate']\n",
    "halflife_cap = 1000\n",
    "rate_df['halflife_capped'] = rate_df['halflife'].apply(lambda x: halflife_cap if x >= halflife_cap else x)\n",
    "# Also use the half-life capping to calculate the stability percentile\n",
    "rate_df['stab_percentile'] = rate_df['halflife'].rank(pct=True)*100\n",
    "# rate_df['stab_percentile'] = (1/rate_df['deg_rate']).rank(pct=True)*100\n",
    "\n",
    "# Add total TPM for input/total RNA to the dataframe\n",
    "# IS total TPM that is input into INSPEcT different than the returned TPM values?\n",
    "infile = os.path.join(results_dir, 'gene_quantification','summary_abundance_by_gene_filtered.csv')\n",
    "df = load_dataset(infile, '../Figures/summary_files/brain4sU_passed.csv')\n",
    "total_tpm = df.query('RNAtype == \"input\"').groupby('gene')['summed_tpm_recalc'].mean()\n",
    "rate_df['total_tpm'] = total_tpm\n",
    "rate_df['biotype'] = rate_df.index.map(lambda x: db[x].attributes['gene_biotype'][0])\n",
    "rate_df['gene_name'] = rate_df.index.map(lambda x: db[x].attributes['gene_name'][0])\n",
    "\n",
    "rate_df.to_csv(os.path.join(outdir, 'INSPEcT_rates.csv'))"
   ]
  }
 ],
 "metadata": {
  "kernelspec": {
   "display_name": "Python 3.9.13 ('pretty')",
   "language": "python",
   "name": "python3"
  },
  "language_info": {
   "codemirror_mode": {
    "name": "ipython",
    "version": 3
   },
   "file_extension": ".py",
   "mimetype": "text/x-python",
   "name": "python",
   "nbconvert_exporter": "python",
   "pygments_lexer": "ipython3",
   "version": "3.9.13"
  },
  "vscode": {
   "interpreter": {
    "hash": "bdb49103a4ed208a05ea4530afbe53462c06fafea10c7833b005d674746fdb08"
   }
  }
 },
 "nbformat": 4,
 "nbformat_minor": 5
}
