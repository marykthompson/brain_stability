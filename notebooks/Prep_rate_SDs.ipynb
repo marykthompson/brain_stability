{
 "cells": [
  {
   "cell_type": "markdown",
   "id": "choice-boutique",
   "metadata": {},
   "source": [
    "### Prep rate SDs\n",
    "- Calculate the SD from synthesis and total RNA variances using those reported by INSPEcT\n",
    "- Write supplemental file with the rates and measured quantities: synth, decay\n",
    "#### TODO: \n",
    "- Figure out how processing rate is measured so that I can also calculate the SD of that.\n",
    "- Should total, mature, and pre-RNA levels also be reported? Figure of if there is actually a difference between total TPM levels and those output by INSPEcT (I thought that there might be some scaling involved)"
   ]
  },
  {
   "cell_type": "code",
   "execution_count": null,
   "id": "bizarre-bangkok",
   "metadata": {},
   "outputs": [],
   "source": [
    "#Imports\n",
    "import sys\n",
    "import os\n",
    "import pandas as pd\n",
    "import seaborn as sns\n",
    "import numpy as np\n",
    "import math\n",
    "import scipy.stats as stats\n",
    "\n",
    "sys.path.append('../scripts')\n",
    "from plot_helpers import *\n",
    "from utilities import load_dataset\n",
    "%load_ext autoreload\n",
    "%autoreload 2"
   ]
  },
  {
   "cell_type": "code",
   "execution_count": null,
   "id": "blessed-batch",
   "metadata": {},
   "outputs": [],
   "source": [
    "#Load the INSPEcT data\n",
    "outdir = '../Figures/Overview'\n",
    "os.makedirs(outdir, exist_ok = True)\n",
    "syn_var = pd.read_csv(os.path.join(inspect_dir, 'synth_var.csv'), index_col=0, names=['syn_var'], header=0)\n",
    "tot_var = pd.read_csv(os.path.join(inspect_dir, 'total_var.csv'), index_col=0, names=['tot_var'], header=0)\n",
    "pre_var = pd.read_csv(os.path.join(inspect_dir, 'premrna_var.csv'), index_col=0, names=['pre_var'], header=0)\n",
    "syn_rates = pd.read_csv(os.path.join(inspect_dir, 'synth_rates.csv'), index_col=0, names=['syn_rate'], header=0)\n",
    "tot_levels = pd.read_csv(os.path.join(inspect_dir, 'tot_levels.csv'), index_col=0, names=['tot_level'], header=0)\n",
    "deg_rates = pd.read_csv(os.path.join(inspect_dir, 'deg_rates.csv'), index_col=0, names=['deg_rate'], header=0)\n",
    "premrna_levels = pd.read_csv(os.path.join(inspect_dir, 'premrna_levels.csv'), index_col=0, names=['pre_level'], header=0)\n",
    "\n",
    "df = pd.concat([syn_rates, deg_rates, tot_levels, premrna_levels, syn_var, tot_var, pre_var], axis=1)"
   ]
  },
  {
   "cell_type": "code",
   "execution_count": null,
   "id": "transparent-bunny",
   "metadata": {},
   "outputs": [],
   "source": [
    "#recalculate rates form the components to check that the formula is correct\n",
    "df['deg_rate2'] = df['syn_rate']/(df['tot_level'] - df['pre_level'])\n",
    "#df['proc_rate2']"
   ]
  },
  {
   "cell_type": "code",
   "execution_count": null,
   "id": "difficult-silly",
   "metadata": {},
   "outputs": [],
   "source": [
    "# Get the variance for the calculated decay rates\n",
    "# Variance of the decay rates can be derived from error propagation\n",
    "# https://chem.libretexts.org/Bookshelves/Analytical_Chemistry/Supplemental_Modules_(Analytical_Chemistry)/Quantifying_Nature/Significant_Digits/Propagation_of_Error\n",
    "# mature RNA variance\n",
    "df['mat_level'] = df['tot_level'] - df['pre_level']\n",
    "df['mat_var'] = df['pre_var'] + df['tot_var']\n",
    "\n",
    "# decay rate variance\n",
    "df['deg_var'] = (df['syn_var']/df['syn_rate']**2 + df['mat_var']/df['mat_level']**2)*df['deg_rate']**2\n",
    "\n",
    "# get coefficients of variation\n",
    "df['deg_sd'] = np.sqrt(df['deg_var'])\n",
    "df['syn_sd'] = np.sqrt(df['syn_var'])\n",
    "# df['deg_cv'] = (np.sqrt(df['deg_var'])*100)/df['deg_rate']\n",
    "# df['syn_cv'] = (np.sqrt(df['syn_var'])*100)/df['syn_rate']\n",
    "# df['mat_cv'] = (np.sqrt(df['mat_var'])*100)/df['mat_level']\n",
    "df.index.name = 'gene'"
   ]
  },
  {
   "cell_type": "code",
   "execution_count": null,
   "id": "potential-subdivision",
   "metadata": {},
   "outputs": [],
   "source": [
    "outdir = '../Figures/summary_files'\n",
    "os.makedirs(outdir, exist_ok = True)\n",
    "# Divide the rates by 60 to convert from per hr to per min\n",
    "rate_df = df[['syn_rate', 'deg_rate', 'syn_sd', 'deg_sd']]/60\n",
    "rate_df['halflife'] = math.log(2)/rate_df['deg_rate']\n",
    "rate_df['halflife_capped'] = rate_df['halflife'].apply(lambda x: 500 if x >= 500 else x)\n",
    "rate_df['stab_percentile'] = (1/rate_df['deg_rate']).rank(pct=True)*100\n",
    "\n",
    "# Add total TPM for input/total RNA to the dataframe\n",
    "# IS total TPM that is input into INSPEcT different than the returned TPM values?\n",
    "infile = os.path.join(results_dir, 'gene_quantification','summary_abundance_by_gene_filtered.csv')\n",
    "df = load_dataset(infile, '../Figures/summary_files/brain4sU_passed.csv')\n",
    "total_tpm = df.query('RNAtype == \"input\"').groupby('gene')['summed_tpm_recalc'].mean()\n",
    "rate_df['total_tpm'] = total_tpm\n",
    "rate_df.to_csv(os.path.join(outdir, 'INSPEcT_rates.csv'))"
   ]
  }
 ],
 "metadata": {
  "kernelspec": {
   "display_name": "Python 3",
   "language": "python",
   "name": "python3"
  },
  "language_info": {
   "codemirror_mode": {
    "name": "ipython",
    "version": 3
   },
   "file_extension": ".py",
   "mimetype": "text/x-python",
   "name": "python",
   "nbconvert_exporter": "python",
   "pygments_lexer": "ipython3",
   "version": "3.9.0"
  }
 },
 "nbformat": 4,
 "nbformat_minor": 5
}
